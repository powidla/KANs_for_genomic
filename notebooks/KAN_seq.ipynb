{
  "nbformat": 4,
  "nbformat_minor": 0,
  "metadata": {
    "colab": {
      "provenance": [],
      "machine_shape": "hm",
      "collapsed_sections": [
        "b5fCb6VePboZ"
      ]
    },
    "kernelspec": {
      "name": "python3",
      "display_name": "Python 3"
    },
    "language_info": {
      "name": "python"
    }
  },
  "cells": [
    {
      "cell_type": "code",
      "execution_count": null,
      "metadata": {
        "id": "OtUu5fmglJTG"
      },
      "outputs": [],
      "source": [
        "%%capture\n",
        "!pip install pykan\n",
        "!pip install Bio\n",
        "!pip install pybedtools\n",
        "# !pip install torchtext==0.16.0"
      ]
    },
    {
      "cell_type": "code",
      "source": [
        "%%capture\n",
        "!pip install git+https://github.com/ML-Bioinfo-CEITEC/genomic_benchmarks.git"
      ],
      "metadata": {
        "id": "g8Tn-4J61H24"
      },
      "execution_count": null,
      "outputs": []
    },
    {
      "cell_type": "code",
      "source": [
        "import torch\n",
        "import torch.nn as nn\n",
        "import torch.optim as optim\n",
        "from torch.utils.data import DataLoader, TensorDataset\n",
        "from tqdm import tqdm\n",
        "import numpy as np"
      ],
      "metadata": {
        "id": "DiCfYpSDGzKd"
      },
      "execution_count": null,
      "outputs": []
    },
    {
      "cell_type": "code",
      "source": [
        "import kan\n",
        "import matplotlib.pyplot as plt\n",
        "import matplotlib as mpl\n",
        "import pandas as pd\n",
        "import numpy as np\n",
        "import torch\n",
        "import itertools\n",
        "from tqdm.auto import tqdm\n",
        "from Bio import SeqIO\n",
        "from Bio.Seq import Seq\n",
        "from Bio.SeqRecord import SeqRecord\n",
        "from collections import defaultdict\n",
        "import pandas as pd\n",
        "import matplotlib.pyplot as plt\n",
        "import pybedtools\n",
        "from sklearn.model_selection import train_test_split"
      ],
      "metadata": {
        "id": "y967RqNrufVl"
      },
      "execution_count": null,
      "outputs": []
    },
    {
      "cell_type": "code",
      "source": [
        "import random"
      ],
      "metadata": {
        "id": "k_yk30W0umyf"
      },
      "execution_count": null,
      "outputs": []
    },
    {
      "cell_type": "code",
      "source": [
        "dtype = torch.get_default_dtype()"
      ],
      "metadata": {
        "id": "XS0mD3ZhwUOh"
      },
      "execution_count": null,
      "outputs": []
    },
    {
      "cell_type": "markdown",
      "source": [
        "#Preproc"
      ],
      "metadata": {
        "id": "b5fCb6VePboZ"
      }
    },
    {
      "cell_type": "code",
      "source": [
        "pd.read_csv(\"/content/high_levels_dataset.csv\")"
      ],
      "metadata": {
        "colab": {
          "base_uri": "https://localhost:8080/",
          "height": 423
        },
        "id": "9-I70ehcFTgn",
        "outputId": "0cec7845-5c78-4c36-fb77-92f2ff7e7c1a"
      },
      "execution_count": null,
      "outputs": [
        {
          "output_type": "execute_result",
          "data": {
            "text/plain": [
              "                                                 sequence  label  split\n",
              "0              CCCCGGGCCTCAGCTCCACCCCATGCAGCAAACTTAATACCC      1   test\n",
              "1                              GGGCGCCCTGGGGCGAGGGAGCGGGG      1  train\n",
              "2                     CATGATCTATACGCTGTTTGGATACCCATAGGGCT      0  train\n",
              "3               GGGGGCACTGGCCGCGGGGGTGCCGGGATGGGGATGGAGGG      1  train\n",
              "4                               GGGGTGGGGTGCAGGAGCCGTGGGG      1  train\n",
              "...                                                   ...    ...    ...\n",
              "280527               AAAAATGATAAAGAGCTGACTGCGTCCCGACATATC      0  train\n",
              "280528                    GGGGCTGGCAGGCGCAGGGGCTGCGGCTGGG      1  train\n",
              "280529                   GGAGGTCAGGGGGCCCCTGGGTGGGAGTGGGG      1  train\n",
              "280530  CCTCCCTACCCCCAACCTTCTCCCTTTTTCAGCACCGCTGGCCGGACCC      1  train\n",
              "280531        GGGGGCGCTCCGGCGCGGGCGGCTCTCGGTCCAGGGCCGGGGG      1  train\n",
              "\n",
              "[280532 rows x 3 columns]"
            ],
            "text/html": [
              "\n",
              "  <div id=\"df-502a04bb-ea2e-414d-a2a6-3ffaddfa9f44\" class=\"colab-df-container\">\n",
              "    <div>\n",
              "<style scoped>\n",
              "    .dataframe tbody tr th:only-of-type {\n",
              "        vertical-align: middle;\n",
              "    }\n",
              "\n",
              "    .dataframe tbody tr th {\n",
              "        vertical-align: top;\n",
              "    }\n",
              "\n",
              "    .dataframe thead th {\n",
              "        text-align: right;\n",
              "    }\n",
              "</style>\n",
              "<table border=\"1\" class=\"dataframe\">\n",
              "  <thead>\n",
              "    <tr style=\"text-align: right;\">\n",
              "      <th></th>\n",
              "      <th>sequence</th>\n",
              "      <th>label</th>\n",
              "      <th>split</th>\n",
              "    </tr>\n",
              "  </thead>\n",
              "  <tbody>\n",
              "    <tr>\n",
              "      <th>0</th>\n",
              "      <td>CCCCGGGCCTCAGCTCCACCCCATGCAGCAAACTTAATACCC</td>\n",
              "      <td>1</td>\n",
              "      <td>test</td>\n",
              "    </tr>\n",
              "    <tr>\n",
              "      <th>1</th>\n",
              "      <td>GGGCGCCCTGGGGCGAGGGAGCGGGG</td>\n",
              "      <td>1</td>\n",
              "      <td>train</td>\n",
              "    </tr>\n",
              "    <tr>\n",
              "      <th>2</th>\n",
              "      <td>CATGATCTATACGCTGTTTGGATACCCATAGGGCT</td>\n",
              "      <td>0</td>\n",
              "      <td>train</td>\n",
              "    </tr>\n",
              "    <tr>\n",
              "      <th>3</th>\n",
              "      <td>GGGGGCACTGGCCGCGGGGGTGCCGGGATGGGGATGGAGGG</td>\n",
              "      <td>1</td>\n",
              "      <td>train</td>\n",
              "    </tr>\n",
              "    <tr>\n",
              "      <th>4</th>\n",
              "      <td>GGGGTGGGGTGCAGGAGCCGTGGGG</td>\n",
              "      <td>1</td>\n",
              "      <td>train</td>\n",
              "    </tr>\n",
              "    <tr>\n",
              "      <th>...</th>\n",
              "      <td>...</td>\n",
              "      <td>...</td>\n",
              "      <td>...</td>\n",
              "    </tr>\n",
              "    <tr>\n",
              "      <th>280527</th>\n",
              "      <td>AAAAATGATAAAGAGCTGACTGCGTCCCGACATATC</td>\n",
              "      <td>0</td>\n",
              "      <td>train</td>\n",
              "    </tr>\n",
              "    <tr>\n",
              "      <th>280528</th>\n",
              "      <td>GGGGCTGGCAGGCGCAGGGGCTGCGGCTGGG</td>\n",
              "      <td>1</td>\n",
              "      <td>train</td>\n",
              "    </tr>\n",
              "    <tr>\n",
              "      <th>280529</th>\n",
              "      <td>GGAGGTCAGGGGGCCCCTGGGTGGGAGTGGGG</td>\n",
              "      <td>1</td>\n",
              "      <td>train</td>\n",
              "    </tr>\n",
              "    <tr>\n",
              "      <th>280530</th>\n",
              "      <td>CCTCCCTACCCCCAACCTTCTCCCTTTTTCAGCACCGCTGGCCGGACCC</td>\n",
              "      <td>1</td>\n",
              "      <td>train</td>\n",
              "    </tr>\n",
              "    <tr>\n",
              "      <th>280531</th>\n",
              "      <td>GGGGGCGCTCCGGCGCGGGCGGCTCTCGGTCCAGGGCCGGGGG</td>\n",
              "      <td>1</td>\n",
              "      <td>train</td>\n",
              "    </tr>\n",
              "  </tbody>\n",
              "</table>\n",
              "<p>280532 rows × 3 columns</p>\n",
              "</div>\n",
              "    <div class=\"colab-df-buttons\">\n",
              "\n",
              "  <div class=\"colab-df-container\">\n",
              "    <button class=\"colab-df-convert\" onclick=\"convertToInteractive('df-502a04bb-ea2e-414d-a2a6-3ffaddfa9f44')\"\n",
              "            title=\"Convert this dataframe to an interactive table.\"\n",
              "            style=\"display:none;\">\n",
              "\n",
              "  <svg xmlns=\"http://www.w3.org/2000/svg\" height=\"24px\" viewBox=\"0 -960 960 960\">\n",
              "    <path d=\"M120-120v-720h720v720H120Zm60-500h600v-160H180v160Zm220 220h160v-160H400v160Zm0 220h160v-160H400v160ZM180-400h160v-160H180v160Zm440 0h160v-160H620v160ZM180-180h160v-160H180v160Zm440 0h160v-160H620v160Z\"/>\n",
              "  </svg>\n",
              "    </button>\n",
              "\n",
              "  <style>\n",
              "    .colab-df-container {\n",
              "      display:flex;\n",
              "      gap: 12px;\n",
              "    }\n",
              "\n",
              "    .colab-df-convert {\n",
              "      background-color: #E8F0FE;\n",
              "      border: none;\n",
              "      border-radius: 50%;\n",
              "      cursor: pointer;\n",
              "      display: none;\n",
              "      fill: #1967D2;\n",
              "      height: 32px;\n",
              "      padding: 0 0 0 0;\n",
              "      width: 32px;\n",
              "    }\n",
              "\n",
              "    .colab-df-convert:hover {\n",
              "      background-color: #E2EBFA;\n",
              "      box-shadow: 0px 1px 2px rgba(60, 64, 67, 0.3), 0px 1px 3px 1px rgba(60, 64, 67, 0.15);\n",
              "      fill: #174EA6;\n",
              "    }\n",
              "\n",
              "    .colab-df-buttons div {\n",
              "      margin-bottom: 4px;\n",
              "    }\n",
              "\n",
              "    [theme=dark] .colab-df-convert {\n",
              "      background-color: #3B4455;\n",
              "      fill: #D2E3FC;\n",
              "    }\n",
              "\n",
              "    [theme=dark] .colab-df-convert:hover {\n",
              "      background-color: #434B5C;\n",
              "      box-shadow: 0px 1px 3px 1px rgba(0, 0, 0, 0.15);\n",
              "      filter: drop-shadow(0px 1px 2px rgba(0, 0, 0, 0.3));\n",
              "      fill: #FFFFFF;\n",
              "    }\n",
              "  </style>\n",
              "\n",
              "    <script>\n",
              "      const buttonEl =\n",
              "        document.querySelector('#df-502a04bb-ea2e-414d-a2a6-3ffaddfa9f44 button.colab-df-convert');\n",
              "      buttonEl.style.display =\n",
              "        google.colab.kernel.accessAllowed ? 'block' : 'none';\n",
              "\n",
              "      async function convertToInteractive(key) {\n",
              "        const element = document.querySelector('#df-502a04bb-ea2e-414d-a2a6-3ffaddfa9f44');\n",
              "        const dataTable =\n",
              "          await google.colab.kernel.invokeFunction('convertToInteractive',\n",
              "                                                    [key], {});\n",
              "        if (!dataTable) return;\n",
              "\n",
              "        const docLinkHtml = 'Like what you see? Visit the ' +\n",
              "          '<a target=\"_blank\" href=https://colab.research.google.com/notebooks/data_table.ipynb>data table notebook</a>'\n",
              "          + ' to learn more about interactive tables.';\n",
              "        element.innerHTML = '';\n",
              "        dataTable['output_type'] = 'display_data';\n",
              "        await google.colab.output.renderOutput(dataTable, element);\n",
              "        const docLink = document.createElement('div');\n",
              "        docLink.innerHTML = docLinkHtml;\n",
              "        element.appendChild(docLink);\n",
              "      }\n",
              "    </script>\n",
              "  </div>\n",
              "\n",
              "\n",
              "<div id=\"df-3855cf43-f0ed-448b-9631-5b777a93ade5\">\n",
              "  <button class=\"colab-df-quickchart\" onclick=\"quickchart('df-3855cf43-f0ed-448b-9631-5b777a93ade5')\"\n",
              "            title=\"Suggest charts\"\n",
              "            style=\"display:none;\">\n",
              "\n",
              "<svg xmlns=\"http://www.w3.org/2000/svg\" height=\"24px\"viewBox=\"0 0 24 24\"\n",
              "     width=\"24px\">\n",
              "    <g>\n",
              "        <path d=\"M19 3H5c-1.1 0-2 .9-2 2v14c0 1.1.9 2 2 2h14c1.1 0 2-.9 2-2V5c0-1.1-.9-2-2-2zM9 17H7v-7h2v7zm4 0h-2V7h2v10zm4 0h-2v-4h2v4z\"/>\n",
              "    </g>\n",
              "</svg>\n",
              "  </button>\n",
              "\n",
              "<style>\n",
              "  .colab-df-quickchart {\n",
              "      --bg-color: #E8F0FE;\n",
              "      --fill-color: #1967D2;\n",
              "      --hover-bg-color: #E2EBFA;\n",
              "      --hover-fill-color: #174EA6;\n",
              "      --disabled-fill-color: #AAA;\n",
              "      --disabled-bg-color: #DDD;\n",
              "  }\n",
              "\n",
              "  [theme=dark] .colab-df-quickchart {\n",
              "      --bg-color: #3B4455;\n",
              "      --fill-color: #D2E3FC;\n",
              "      --hover-bg-color: #434B5C;\n",
              "      --hover-fill-color: #FFFFFF;\n",
              "      --disabled-bg-color: #3B4455;\n",
              "      --disabled-fill-color: #666;\n",
              "  }\n",
              "\n",
              "  .colab-df-quickchart {\n",
              "    background-color: var(--bg-color);\n",
              "    border: none;\n",
              "    border-radius: 50%;\n",
              "    cursor: pointer;\n",
              "    display: none;\n",
              "    fill: var(--fill-color);\n",
              "    height: 32px;\n",
              "    padding: 0;\n",
              "    width: 32px;\n",
              "  }\n",
              "\n",
              "  .colab-df-quickchart:hover {\n",
              "    background-color: var(--hover-bg-color);\n",
              "    box-shadow: 0 1px 2px rgba(60, 64, 67, 0.3), 0 1px 3px 1px rgba(60, 64, 67, 0.15);\n",
              "    fill: var(--button-hover-fill-color);\n",
              "  }\n",
              "\n",
              "  .colab-df-quickchart-complete:disabled,\n",
              "  .colab-df-quickchart-complete:disabled:hover {\n",
              "    background-color: var(--disabled-bg-color);\n",
              "    fill: var(--disabled-fill-color);\n",
              "    box-shadow: none;\n",
              "  }\n",
              "\n",
              "  .colab-df-spinner {\n",
              "    border: 2px solid var(--fill-color);\n",
              "    border-color: transparent;\n",
              "    border-bottom-color: var(--fill-color);\n",
              "    animation:\n",
              "      spin 1s steps(1) infinite;\n",
              "  }\n",
              "\n",
              "  @keyframes spin {\n",
              "    0% {\n",
              "      border-color: transparent;\n",
              "      border-bottom-color: var(--fill-color);\n",
              "      border-left-color: var(--fill-color);\n",
              "    }\n",
              "    20% {\n",
              "      border-color: transparent;\n",
              "      border-left-color: var(--fill-color);\n",
              "      border-top-color: var(--fill-color);\n",
              "    }\n",
              "    30% {\n",
              "      border-color: transparent;\n",
              "      border-left-color: var(--fill-color);\n",
              "      border-top-color: var(--fill-color);\n",
              "      border-right-color: var(--fill-color);\n",
              "    }\n",
              "    40% {\n",
              "      border-color: transparent;\n",
              "      border-right-color: var(--fill-color);\n",
              "      border-top-color: var(--fill-color);\n",
              "    }\n",
              "    60% {\n",
              "      border-color: transparent;\n",
              "      border-right-color: var(--fill-color);\n",
              "    }\n",
              "    80% {\n",
              "      border-color: transparent;\n",
              "      border-right-color: var(--fill-color);\n",
              "      border-bottom-color: var(--fill-color);\n",
              "    }\n",
              "    90% {\n",
              "      border-color: transparent;\n",
              "      border-bottom-color: var(--fill-color);\n",
              "    }\n",
              "  }\n",
              "</style>\n",
              "\n",
              "  <script>\n",
              "    async function quickchart(key) {\n",
              "      const quickchartButtonEl =\n",
              "        document.querySelector('#' + key + ' button');\n",
              "      quickchartButtonEl.disabled = true;  // To prevent multiple clicks.\n",
              "      quickchartButtonEl.classList.add('colab-df-spinner');\n",
              "      try {\n",
              "        const charts = await google.colab.kernel.invokeFunction(\n",
              "            'suggestCharts', [key], {});\n",
              "      } catch (error) {\n",
              "        console.error('Error during call to suggestCharts:', error);\n",
              "      }\n",
              "      quickchartButtonEl.classList.remove('colab-df-spinner');\n",
              "      quickchartButtonEl.classList.add('colab-df-quickchart-complete');\n",
              "    }\n",
              "    (() => {\n",
              "      let quickchartButtonEl =\n",
              "        document.querySelector('#df-3855cf43-f0ed-448b-9631-5b777a93ade5 button');\n",
              "      quickchartButtonEl.style.display =\n",
              "        google.colab.kernel.accessAllowed ? 'block' : 'none';\n",
              "    })();\n",
              "  </script>\n",
              "</div>\n",
              "    </div>\n",
              "  </div>\n"
            ],
            "application/vnd.google.colaboratory.intrinsic+json": {
              "type": "dataframe"
            }
          },
          "metadata": {},
          "execution_count": 10
        }
      ]
    },
    {
      "cell_type": "code",
      "source": [
        "def rename_col_by_index(dataframe, index_mapping):\n",
        "    dataframe.columns = [index_mapping.get(i, col) for i, col in enumerate(dataframe.columns)]\n",
        "    return dataframe"
      ],
      "metadata": {
        "id": "zG2FMqd4kTim"
      },
      "execution_count": null,
      "outputs": []
    },
    {
      "cell_type": "code",
      "source": [
        "pos_df = pd.read_csv('/content/H-DNA.bed',\n",
        " sep='\\t', comment='t', header=None)\n",
        "# new_column_mapping = {0: 'chrom', 1: 'chromStart', 2: \"chromEnd\", 3: \"erf\" , 4: \"fe\" , 5: \"df\"}\n",
        "# pos_df = rename_col_by_index(pos_df, new_column_mapping)\n",
        "# pos_df = pos_df.drop(columns=[\"erf\", \"fe\", \"df\"])\n",
        "header = ['chrom', 'chromStart', 'chromEnd']\n",
        "pos_df.columns = header[:len(pos_df.columns)]\n",
        "pos_df['len'] = pos_df.chromEnd - pos_df.chromStart\n",
        "pos_df.head()\n",
        "plt.hist(pos_df.chrom, bins=len(pos_df.chrom.unique()))\n",
        "pos_df.len.quantile(0.5)\n",
        "pos_df.len[pos_df.len > 512].count()\n",
        "pos_df.len[pos_df.len <= 512].count() / pos_df.len.count()\n",
        "pos_df.len.hist(bins=100)\n",
        "# Filtration\n",
        "quad_len = 512\n",
        "pos_df_filter = pos_df[pos_df.len\n",
        " <= quad_len].copy().reset_index(drop=True)\n",
        "pos_df_filter.len.max()\n",
        "pos_df_filter['add_len'] = quad_len - pos_df_filter.len\n",
        "pos_df_filter['left_add_len'] = (pos_df_filter.add_len\n",
        " / 2).astype('int64')\n",
        "pos_df_filter['right_add_len'] = pos_df_filter.add_len \\\n",
        " - pos_df_filter.left_add_len\n",
        "pos_df_filter['new_chromStart'] = pos_df_filter.chromStart \\\n",
        " - pos_df_filter.left_add_len\n",
        "pos_df_filter['new_chromEnd'] = pos_df_filter.chromEnd \\\n",
        " + pos_df_filter.right_add_len\n",
        "pos_df_filter['new_len'] = pos_df_filter.new_chromEnd \\\n",
        " - pos_df_filter.new_chromStart\n",
        "pos_df_filter.head()\n",
        "# Save data\n",
        "pos_df_filter[['chrom', 'new_chromStart', 'new_chromEnd'\n",
        " ]].to_csv('G4_Chip_seq_filter_norm_to_500.bed', sep='\\t',\n",
        " header=None, index=None)"
      ],
      "metadata": {
        "colab": {
          "base_uri": "https://localhost:8080/",
          "height": 430
        },
        "id": "mFZ1e93Zhfp5",
        "outputId": "6351cbfc-013d-4b91-ddd2-52cda681d9b4"
      },
      "execution_count": null,
      "outputs": [
        {
          "output_type": "display_data",
          "data": {
            "text/plain": [
              "<Figure size 640x480 with 1 Axes>"
            ],
            "image/png": "[encoded data removed]"
          },
          "metadata": {}
        }
      ]
    },
    {
      "cell_type": "code",
      "source": [
        "df = pd.read_csv('/content/G4_Chip_seq_filter_norm_to_500.bed',\n",
        " sep='\\t', comment='t', header=None)\n",
        "header = ['chrom', 'chromStart', 'chromEnd']\n",
        "df.columns = header[:len(df.columns)]"
      ],
      "metadata": {
        "id": "A9DkVkrjkr8T"
      },
      "execution_count": null,
      "outputs": []
    },
    {
      "cell_type": "code",
      "source": [
        "df.to_csv('HDNA_to_500.bed', sep='\\t', index=False, header=False)"
      ],
      "metadata": {
        "id": "lvgFu_RPlrUK"
      },
      "execution_count": null,
      "outputs": []
    },
    {
      "cell_type": "code",
      "source": [
        "df = pd.read_csv('Endoquad_to_500.bed',\n",
        " sep='\\t', comment='t', header=None)"
      ],
      "metadata": {
        "id": "SSil8Qbal5pZ"
      },
      "execution_count": null,
      "outputs": []
    },
    {
      "cell_type": "code",
      "source": [
        "df"
      ],
      "metadata": {
        "colab": {
          "base_uri": "https://localhost:8080/",
          "height": 423
        },
        "id": "rEARFhdFmT_h",
        "outputId": "96920595-4d1e-4e83-9539-d6c7143e25d6"
      },
      "execution_count": null,
      "outputs": [
        {
          "output_type": "execute_result",
          "data": {
            "text/plain": [
              "       chrom  chromStart  chromEnd\n",
              "0       chr1       27296     27808\n",
              "1       chr1       30624     31136\n",
              "2       chr1       30686     31198\n",
              "3       chr1       31470     31982\n",
              "4       chr1       33275     33787\n",
              "...      ...         ...       ...\n",
              "704826  chrY    59327058  59327570\n",
              "704827  chrY    59329202  59329714\n",
              "704828  chrY    59346904  59347416\n",
              "704829  chrY    59348287  59348799\n",
              "704830  chrY    59348755  59349267\n",
              "\n",
              "[704831 rows x 3 columns]"
            ],
            "text/html": [
              "\n",
              "  <div id=\"df-25a8e9cb-9fe1-4cf4-8d45-ef68f6b3d6c2\" class=\"colab-df-container\">\n",
              "    <div>\n",
              "<style scoped>\n",
              "    .dataframe tbody tr th:only-of-type {\n",
              "        vertical-align: middle;\n",
              "    }\n",
              "\n",
              "    .dataframe tbody tr th {\n",
              "        vertical-align: top;\n",
              "    }\n",
              "\n",
              "    .dataframe thead th {\n",
              "        text-align: right;\n",
              "    }\n",
              "</style>\n",
              "<table border=\"1\" class=\"dataframe\">\n",
              "  <thead>\n",
              "    <tr style=\"text-align: right;\">\n",
              "      <th></th>\n",
              "      <th>chrom</th>\n",
              "      <th>chromStart</th>\n",
              "      <th>chromEnd</th>\n",
              "    </tr>\n",
              "  </thead>\n",
              "  <tbody>\n",
              "    <tr>\n",
              "      <th>0</th>\n",
              "      <td>chr1</td>\n",
              "      <td>27296</td>\n",
              "      <td>27808</td>\n",
              "    </tr>\n",
              "    <tr>\n",
              "      <th>1</th>\n",
              "      <td>chr1</td>\n",
              "      <td>30624</td>\n",
              "      <td>31136</td>\n",
              "    </tr>\n",
              "    <tr>\n",
              "      <th>2</th>\n",
              "      <td>chr1</td>\n",
              "      <td>30686</td>\n",
              "      <td>31198</td>\n",
              "    </tr>\n",
              "    <tr>\n",
              "      <th>3</th>\n",
              "      <td>chr1</td>\n",
              "      <td>31470</td>\n",
              "      <td>31982</td>\n",
              "    </tr>\n",
              "    <tr>\n",
              "      <th>4</th>\n",
              "      <td>chr1</td>\n",
              "      <td>33275</td>\n",
              "      <td>33787</td>\n",
              "    </tr>\n",
              "    <tr>\n",
              "      <th>...</th>\n",
              "      <td>...</td>\n",
              "      <td>...</td>\n",
              "      <td>...</td>\n",
              "    </tr>\n",
              "    <tr>\n",
              "      <th>704826</th>\n",
              "      <td>chrY</td>\n",
              "      <td>59327058</td>\n",
              "      <td>59327570</td>\n",
              "    </tr>\n",
              "    <tr>\n",
              "      <th>704827</th>\n",
              "      <td>chrY</td>\n",
              "      <td>59329202</td>\n",
              "      <td>59329714</td>\n",
              "    </tr>\n",
              "    <tr>\n",
              "      <th>704828</th>\n",
              "      <td>chrY</td>\n",
              "      <td>59346904</td>\n",
              "      <td>59347416</td>\n",
              "    </tr>\n",
              "    <tr>\n",
              "      <th>704829</th>\n",
              "      <td>chrY</td>\n",
              "      <td>59348287</td>\n",
              "      <td>59348799</td>\n",
              "    </tr>\n",
              "    <tr>\n",
              "      <th>704830</th>\n",
              "      <td>chrY</td>\n",
              "      <td>59348755</td>\n",
              "      <td>59349267</td>\n",
              "    </tr>\n",
              "  </tbody>\n",
              "</table>\n",
              "<p>704831 rows × 3 columns</p>\n",
              "</div>\n",
              "    <div class=\"colab-df-buttons\">\n",
              "\n",
              "  <div class=\"colab-df-container\">\n",
              "    <button class=\"colab-df-convert\" onclick=\"convertToInteractive('df-25a8e9cb-9fe1-4cf4-8d45-ef68f6b3d6c2')\"\n",
              "            title=\"Convert this dataframe to an interactive table.\"\n",
              "            style=\"display:none;\">\n",
              "\n",
              "  <svg xmlns=\"http://www.w3.org/2000/svg\" height=\"24px\" viewBox=\"0 -960 960 960\">\n",
              "    <path d=\"M120-120v-720h720v720H120Zm60-500h600v-160H180v160Zm220 220h160v-160H400v160Zm0 220h160v-160H400v160ZM180-400h160v-160H180v160Zm440 0h160v-160H620v160ZM180-180h160v-160H180v160Zm440 0h160v-160H620v160Z\"/>\n",
              "  </svg>\n",
              "    </button>\n",
              "\n",
              "  <style>\n",
              "    .colab-df-container {\n",
              "      display:flex;\n",
              "      gap: 12px;\n",
              "    }\n",
              "\n",
              "    .colab-df-convert {\n",
              "      background-color: #E8F0FE;\n",
              "      border: none;\n",
              "      border-radius: 50%;\n",
              "      cursor: pointer;\n",
              "      display: none;\n",
              "      fill: #1967D2;\n",
              "      height: 32px;\n",
              "      padding: 0 0 0 0;\n",
              "      width: 32px;\n",
              "    }\n",
              "\n",
              "    .colab-df-convert:hover {\n",
              "      background-color: #E2EBFA;\n",
              "      box-shadow: 0px 1px 2px rgba(60, 64, 67, 0.3), 0px 1px 3px 1px rgba(60, 64, 67, 0.15);\n",
              "      fill: #174EA6;\n",
              "    }\n",
              "\n",
              "    .colab-df-buttons div {\n",
              "      margin-bottom: 4px;\n",
              "    }\n",
              "\n",
              "    [theme=dark] .colab-df-convert {\n",
              "      background-color: #3B4455;\n",
              "      fill: #D2E3FC;\n",
              "    }\n",
              "\n",
              "    [theme=dark] .colab-df-convert:hover {\n",
              "      background-color: #434B5C;\n",
              "      box-shadow: 0px 1px 3px 1px rgba(0, 0, 0, 0.15);\n",
              "      filter: drop-shadow(0px 1px 2px rgba(0, 0, 0, 0.3));\n",
              "      fill: #FFFFFF;\n",
              "    }\n",
              "  </style>\n",
              "\n",
              "    <script>\n",
              "      const buttonEl =\n",
              "        document.querySelector('#df-25a8e9cb-9fe1-4cf4-8d45-ef68f6b3d6c2 button.colab-df-convert');\n",
              "      buttonEl.style.display =\n",
              "        google.colab.kernel.accessAllowed ? 'block' : 'none';\n",
              "\n",
              "      async function convertToInteractive(key) {\n",
              "        const element = document.querySelector('#df-25a8e9cb-9fe1-4cf4-8d45-ef68f6b3d6c2');\n",
              "        const dataTable =\n",
              "          await google.colab.kernel.invokeFunction('convertToInteractive',\n",
              "                                                    [key], {});\n",
              "        if (!dataTable) return;\n",
              "\n",
              "        const docLinkHtml = 'Like what you see? Visit the ' +\n",
              "          '<a target=\"_blank\" href=https://colab.research.google.com/notebooks/data_table.ipynb>data table notebook</a>'\n",
              "          + ' to learn more about interactive tables.';\n",
              "        element.innerHTML = '';\n",
              "        dataTable['output_type'] = 'display_data';\n",
              "        await google.colab.output.renderOutput(dataTable, element);\n",
              "        const docLink = document.createElement('div');\n",
              "        docLink.innerHTML = docLinkHtml;\n",
              "        element.appendChild(docLink);\n",
              "      }\n",
              "    </script>\n",
              "  </div>\n",
              "\n",
              "\n",
              "<div id=\"df-b65854b6-4331-4707-a195-814ed5dade05\">\n",
              "  <button class=\"colab-df-quickchart\" onclick=\"quickchart('df-b65854b6-4331-4707-a195-814ed5dade05')\"\n",
              "            title=\"Suggest charts\"\n",
              "            style=\"display:none;\">\n",
              "\n",
              "<svg xmlns=\"http://www.w3.org/2000/svg\" height=\"24px\"viewBox=\"0 0 24 24\"\n",
              "     width=\"24px\">\n",
              "    <g>\n",
              "        <path d=\"M19 3H5c-1.1 0-2 .9-2 2v14c0 1.1.9 2 2 2h14c1.1 0 2-.9 2-2V5c0-1.1-.9-2-2-2zM9 17H7v-7h2v7zm4 0h-2V7h2v10zm4 0h-2v-4h2v4z\"/>\n",
              "    </g>\n",
              "</svg>\n",
              "  </button>\n",
              "\n",
              "<style>\n",
              "  .colab-df-quickchart {\n",
              "      --bg-color: #E8F0FE;\n",
              "      --fill-color: #1967D2;\n",
              "      --hover-bg-color: #E2EBFA;\n",
              "      --hover-fill-color: #174EA6;\n",
              "      --disabled-fill-color: #AAA;\n",
              "      --disabled-bg-color: #DDD;\n",
              "  }\n",
              "\n",
              "  [theme=dark] .colab-df-quickchart {\n",
              "      --bg-color: #3B4455;\n",
              "      --fill-color: #D2E3FC;\n",
              "      --hover-bg-color: #434B5C;\n",
              "      --hover-fill-color: #FFFFFF;\n",
              "      --disabled-bg-color: #3B4455;\n",
              "      --disabled-fill-color: #666;\n",
              "  }\n",
              "\n",
              "  .colab-df-quickchart {\n",
              "    background-color: var(--bg-color);\n",
              "    border: none;\n",
              "    border-radius: 50%;\n",
              "    cursor: pointer;\n",
              "    display: none;\n",
              "    fill: var(--fill-color);\n",
              "    height: 32px;\n",
              "    padding: 0;\n",
              "    width: 32px;\n",
              "  }\n",
              "\n",
              "  .colab-df-quickchart:hover {\n",
              "    background-color: var(--hover-bg-color);\n",
              "    box-shadow: 0 1px 2px rgba(60, 64, 67, 0.3), 0 1px 3px 1px rgba(60, 64, 67, 0.15);\n",
              "    fill: var(--button-hover-fill-color);\n",
              "  }\n",
              "\n",
              "  .colab-df-quickchart-complete:disabled,\n",
              "  .colab-df-quickchart-complete:disabled:hover {\n",
              "    background-color: var(--disabled-bg-color);\n",
              "    fill: var(--disabled-fill-color);\n",
              "    box-shadow: none;\n",
              "  }\n",
              "\n",
              "  .colab-df-spinner {\n",
              "    border: 2px solid var(--fill-color);\n",
              "    border-color: transparent;\n",
              "    border-bottom-color: var(--fill-color);\n",
              "    animation:\n",
              "      spin 1s steps(1) infinite;\n",
              "  }\n",
              "\n",
              "  @keyframes spin {\n",
              "    0% {\n",
              "      border-color: transparent;\n",
              "      border-bottom-color: var(--fill-color);\n",
              "      border-left-color: var(--fill-color);\n",
              "    }\n",
              "    20% {\n",
              "      border-color: transparent;\n",
              "      border-left-color: var(--fill-color);\n",
              "      border-top-color: var(--fill-color);\n",
              "    }\n",
              "    30% {\n",
              "      border-color: transparent;\n",
              "      border-left-color: var(--fill-color);\n",
              "      border-top-color: var(--fill-color);\n",
              "      border-right-color: var(--fill-color);\n",
              "    }\n",
              "    40% {\n",
              "      border-color: transparent;\n",
              "      border-right-color: var(--fill-color);\n",
              "      border-top-color: var(--fill-color);\n",
              "    }\n",
              "    60% {\n",
              "      border-color: transparent;\n",
              "      border-right-color: var(--fill-color);\n",
              "    }\n",
              "    80% {\n",
              "      border-color: transparent;\n",
              "      border-right-color: var(--fill-color);\n",
              "      border-bottom-color: var(--fill-color);\n",
              "    }\n",
              "    90% {\n",
              "      border-color: transparent;\n",
              "      border-bottom-color: var(--fill-color);\n",
              "    }\n",
              "  }\n",
              "</style>\n",
              "\n",
              "  <script>\n",
              "    async function quickchart(key) {\n",
              "      const quickchartButtonEl =\n",
              "        document.querySelector('#' + key + ' button');\n",
              "      quickchartButtonEl.disabled = true;  // To prevent multiple clicks.\n",
              "      quickchartButtonEl.classList.add('colab-df-spinner');\n",
              "      try {\n",
              "        const charts = await google.colab.kernel.invokeFunction(\n",
              "            'suggestCharts', [key], {});\n",
              "      } catch (error) {\n",
              "        console.error('Error during call to suggestCharts:', error);\n",
              "      }\n",
              "      quickchartButtonEl.classList.remove('colab-df-spinner');\n",
              "      quickchartButtonEl.classList.add('colab-df-quickchart-complete');\n",
              "    }\n",
              "    (() => {\n",
              "      let quickchartButtonEl =\n",
              "        document.querySelector('#df-b65854b6-4331-4707-a195-814ed5dade05 button');\n",
              "      quickchartButtonEl.style.display =\n",
              "        google.colab.kernel.accessAllowed ? 'block' : 'none';\n",
              "    })();\n",
              "  </script>\n",
              "</div>\n",
              "    </div>\n",
              "  </div>\n"
            ],
            "application/vnd.google.colaboratory.intrinsic+json": {
              "type": "dataframe",
              "variable_name": "df"
            }
          },
          "metadata": {},
          "execution_count": 48
        }
      ]
    },
    {
      "cell_type": "markdown",
      "source": [
        "# Vanilla KAN"
      ],
      "metadata": {
        "id": "F53LICa4Per_"
      }
    },
    {
      "cell_type": "code",
      "source": [
        "import pandas as pd\n",
        "import numpy as np\n",
        "from Bio import SeqIO\n",
        "from Bio.Seq import Seq\n",
        "from Bio.SeqRecord import SeqRecord\n",
        "from collections import defaultdict\n",
        "import matplotlib.pyplot as plt\n",
        "import pybedtools\n",
        "from sklearn.model_selection import train_test_split"
      ],
      "metadata": {
        "id": "yzoeljYc8rUS"
      },
      "execution_count": null,
      "outputs": []
    },
    {
      "cell_type": "code",
      "source": [
        "%%capture\n",
        "!pip install git+https://github.com/ML-Bioinfo-CEITEC/genomic_benchmarks.git"
      ],
      "metadata": {
        "id": "tHmxD0X5Q3YT"
      },
      "execution_count": null,
      "outputs": []
    },
    {
      "cell_type": "code",
      "source": [
        "from genomic_benchmarks.data_check import list_datasets"
      ],
      "metadata": {
        "id": "3rbxuutgQ4HD"
      },
      "execution_count": null,
      "outputs": []
    },
    {
      "cell_type": "code",
      "source": [
        "from genomic_benchmarks.loc2seq import download_dataset"
      ],
      "metadata": {
        "id": "NCKGQmZEQ4J-"
      },
      "execution_count": null,
      "outputs": []
    },
    {
      "cell_type": "code",
      "source": [
        "from genomic_benchmarks.dataset_getters.pytorch_datasets import HumanNontataPromoters"
      ],
      "metadata": {
        "id": "neVvsdu-RHAr"
      },
      "execution_count": null,
      "outputs": []
    },
    {
      "cell_type": "code",
      "source": [
        "dset = HumanNontataPromoters(split='train', version=0)"
      ],
      "metadata": {
        "colab": {
          "base_uri": "https://localhost:8080/"
        },
        "id": "1bBlZClIRIjx",
        "outputId": "e8ecfd69-48ec-4c90-d776-faafee4aa499"
      },
      "execution_count": null,
      "outputs": [
        {
          "output_type": "stream",
          "name": "stderr",
          "text": [
            "Downloading...\n",
            "From (original): https://drive.google.com/uc?id=1VdUg0Zu8yfLS6QesBXwGz1PIQrTW3Ze4\n",
            "From (redirected): https://drive.google.com/uc?id=1VdUg0Zu8yfLS6QesBXwGz1PIQrTW3Ze4&confirm=t&uuid=3c0b248d-da81-418b-8ce9-83cdcf431618\n",
            "To: /root/.genomic_benchmarks/human_nontata_promoters.zip\n",
            "100%|██████████| 11.8M/11.8M [00:00<00:00, 24.6MB/s]\n"
          ]
        }
      ]
    },
    {
      "cell_type": "code",
      "source": [
        "dset[0][0]"
      ],
      "metadata": {
        "colab": {
          "base_uri": "https://localhost:8080/",
          "height": 53
        },
        "id": "kLsGHX-bSdVD",
        "outputId": "97855557-e617-455b-8a66-836b9a59f56f"
      },
      "execution_count": null,
      "outputs": [
        {
          "output_type": "execute_result",
          "data": {
            "text/plain": [
              "'TGCAGGGGTCGCCCTGGGAGCGCGGCCCGCCTCCTTCTGCCCGGCCCCCACCCCCCGGCCCCGCCTTTCTCCCATTCGGCCCCCTCCCCGCCGGGTCCCTCCAGCCTTCCCTCGCGCAGCCGCTGCCAAAGCCTGGAGAAGTGGAATCTCGTCAGCGCCGCTCCCTGCGCGGGACTCGCGGAACGGCACTGAGCATGCTCAGTTGCCGGAGCCCGTTCTGGTCTCAAGTAGGAAGCTAGTGCGCTGTAACC'"
            ],
            "application/vnd.google.colaboratory.intrinsic+json": {
              "type": "string"
            }
          },
          "metadata": {},
          "execution_count": 15
        }
      ]
    },
    {
      "cell_type": "code",
      "source": [
        "sequences = []\n",
        "# chromosomes = []"
      ],
      "metadata": {
        "id": "lySkhInkS7H4"
      },
      "execution_count": null,
      "outputs": []
    },
    {
      "cell_type": "code",
      "source": [
        "def fasta_to_csv(fasta_file):\n",
        "    for record in SeqIO.parse(fasta_file, \"fasta\"):\n",
        "        sequences.append(str(record.seq).upper())\n",
        "        sequence = str(record.seq).upper()\n",
        "        # chrom_info = record.id.split('_')[0]\n",
        "        # chromosome = chrom_info if chrom_info.startswith(\"chr\") else \"chr\" + chrom_info\n",
        "        # chromosomes.append(chromosome)"
      ],
      "metadata": {
        "id": "Fz9i-nhNRysm"
      },
      "execution_count": null,
      "outputs": []
    },
    {
      "cell_type": "code",
      "source": [
        "fasta_to_csv(\"/content/HDNA_500.fasta\")"
      ],
      "metadata": {
        "id": "J1j0t6fOTHBp"
      },
      "execution_count": null,
      "outputs": []
    },
    {
      "cell_type": "code",
      "source": [
        "raw_dataset = pd.DataFrame({\"sequence\": sequences, \"label\": 1, \"split\": \"train\"})\n",
        "raw_dataset.head()"
      ],
      "metadata": {
        "colab": {
          "base_uri": "https://localhost:8080/",
          "height": 206
        },
        "id": "Cjdf5BmFTHYP",
        "outputId": "a6a71a03-d21f-4fc0-ada9-c293567e11d0"
      },
      "execution_count": null,
      "outputs": [
        {
          "output_type": "execute_result",
          "data": {
            "text/plain": [
              "                                            sequence  label  split\n",
              "0  TGGTAGCCACCAGGCACATGCAGCCACTGAGCACTTGAAATGTGGA...      1  train\n",
              "1  GCCACTGTCTCGCTGGCTGCAGCGTGTGGTCCCCTTACCAGAGGTA...      1  train\n",
              "2  CCACTCATGTTGTAGACAGAATGTTTATGTCCTCTCCAAATGCTTA...      1  train\n",
              "3  ACTTTGGTAGGCTGACGCGAGAGGACTGCTTGAGCCCAAGAGTTTG...      1  train\n",
              "4  AAGGGGAGGGGAGAATGGGAAGTGGCTGCTTCATGGGTACAAGGTT...      1  train"
            ],
            "text/html": [
              "\n",
              "  <div id=\"df-c6e81307-14f1-49ac-98ca-6d6fb329664e\" class=\"colab-df-container\">\n",
              "    <div>\n",
              "<style scoped>\n",
              "    .dataframe tbody tr th:only-of-type {\n",
              "        vertical-align: middle;\n",
              "    }\n",
              "\n",
              "    .dataframe tbody tr th {\n",
              "        vertical-align: top;\n",
              "    }\n",
              "\n",
              "    .dataframe thead th {\n",
              "        text-align: right;\n",
              "    }\n",
              "</style>\n",
              "<table border=\"1\" class=\"dataframe\">\n",
              "  <thead>\n",
              "    <tr style=\"text-align: right;\">\n",
              "      <th></th>\n",
              "      <th>sequence</th>\n",
              "      <th>label</th>\n",
              "      <th>split</th>\n",
              "    </tr>\n",
              "  </thead>\n",
              "  <tbody>\n",
              "    <tr>\n",
              "      <th>0</th>\n",
              "      <td>TGGTAGCCACCAGGCACATGCAGCCACTGAGCACTTGAAATGTGGA...</td>\n",
              "      <td>1</td>\n",
              "      <td>train</td>\n",
              "    </tr>\n",
              "    <tr>\n",
              "      <th>1</th>\n",
              "      <td>GCCACTGTCTCGCTGGCTGCAGCGTGTGGTCCCCTTACCAGAGGTA...</td>\n",
              "      <td>1</td>\n",
              "      <td>train</td>\n",
              "    </tr>\n",
              "    <tr>\n",
              "      <th>2</th>\n",
              "      <td>CCACTCATGTTGTAGACAGAATGTTTATGTCCTCTCCAAATGCTTA...</td>\n",
              "      <td>1</td>\n",
              "      <td>train</td>\n",
              "    </tr>\n",
              "    <tr>\n",
              "      <th>3</th>\n",
              "      <td>ACTTTGGTAGGCTGACGCGAGAGGACTGCTTGAGCCCAAGAGTTTG...</td>\n",
              "      <td>1</td>\n",
              "      <td>train</td>\n",
              "    </tr>\n",
              "    <tr>\n",
              "      <th>4</th>\n",
              "      <td>AAGGGGAGGGGAGAATGGGAAGTGGCTGCTTCATGGGTACAAGGTT...</td>\n",
              "      <td>1</td>\n",
              "      <td>train</td>\n",
              "    </tr>\n",
              "  </tbody>\n",
              "</table>\n",
              "</div>\n",
              "    <div class=\"colab-df-buttons\">\n",
              "\n",
              "  <div class=\"colab-df-container\">\n",
              "    <button class=\"colab-df-convert\" onclick=\"convertToInteractive('df-c6e81307-14f1-49ac-98ca-6d6fb329664e')\"\n",
              "            title=\"Convert this dataframe to an interactive table.\"\n",
              "            style=\"display:none;\">\n",
              "\n",
              "  <svg xmlns=\"http://www.w3.org/2000/svg\" height=\"24px\" viewBox=\"0 -960 960 960\">\n",
              "    <path d=\"M120-120v-720h720v720H120Zm60-500h600v-160H180v160Zm220 220h160v-160H400v160Zm0 220h160v-160H400v160ZM180-400h160v-160H180v160Zm440 0h160v-160H620v160ZM180-180h160v-160H180v160Zm440 0h160v-160H620v160Z\"/>\n",
              "  </svg>\n",
              "    </button>\n",
              "\n",
              "  <style>\n",
              "    .colab-df-container {\n",
              "      display:flex;\n",
              "      gap: 12px;\n",
              "    }\n",
              "\n",
              "    .colab-df-convert {\n",
              "      background-color: #E8F0FE;\n",
              "      border: none;\n",
              "      border-radius: 50%;\n",
              "      cursor: pointer;\n",
              "      display: none;\n",
              "      fill: #1967D2;\n",
              "      height: 32px;\n",
              "      padding: 0 0 0 0;\n",
              "      width: 32px;\n",
              "    }\n",
              "\n",
              "    .colab-df-convert:hover {\n",
              "      background-color: #E2EBFA;\n",
              "      box-shadow: 0px 1px 2px rgba(60, 64, 67, 0.3), 0px 1px 3px 1px rgba(60, 64, 67, 0.15);\n",
              "      fill: #174EA6;\n",
              "    }\n",
              "\n",
              "    .colab-df-buttons div {\n",
              "      margin-bottom: 4px;\n",
              "    }\n",
              "\n",
              "    [theme=dark] .colab-df-convert {\n",
              "      background-color: #3B4455;\n",
              "      fill: #D2E3FC;\n",
              "    }\n",
              "\n",
              "    [theme=dark] .colab-df-convert:hover {\n",
              "      background-color: #434B5C;\n",
              "      box-shadow: 0px 1px 3px 1px rgba(0, 0, 0, 0.15);\n",
              "      filter: drop-shadow(0px 1px 2px rgba(0, 0, 0, 0.3));\n",
              "      fill: #FFFFFF;\n",
              "    }\n",
              "  </style>\n",
              "\n",
              "    <script>\n",
              "      const buttonEl =\n",
              "        document.querySelector('#df-c6e81307-14f1-49ac-98ca-6d6fb329664e button.colab-df-convert');\n",
              "      buttonEl.style.display =\n",
              "        google.colab.kernel.accessAllowed ? 'block' : 'none';\n",
              "\n",
              "      async function convertToInteractive(key) {\n",
              "        const element = document.querySelector('#df-c6e81307-14f1-49ac-98ca-6d6fb329664e');\n",
              "        const dataTable =\n",
              "          await google.colab.kernel.invokeFunction('convertToInteractive',\n",
              "                                                    [key], {});\n",
              "        if (!dataTable) return;\n",
              "\n",
              "        const docLinkHtml = 'Like what you see? Visit the ' +\n",
              "          '<a target=\"_blank\" href=https://colab.research.google.com/notebooks/data_table.ipynb>data table notebook</a>'\n",
              "          + ' to learn more about interactive tables.';\n",
              "        element.innerHTML = '';\n",
              "        dataTable['output_type'] = 'display_data';\n",
              "        await google.colab.output.renderOutput(dataTable, element);\n",
              "        const docLink = document.createElement('div');\n",
              "        docLink.innerHTML = docLinkHtml;\n",
              "        element.appendChild(docLink);\n",
              "      }\n",
              "    </script>\n",
              "  </div>\n",
              "\n",
              "\n",
              "<div id=\"df-086f0341-b131-485a-8294-4a064518f35c\">\n",
              "  <button class=\"colab-df-quickchart\" onclick=\"quickchart('df-086f0341-b131-485a-8294-4a064518f35c')\"\n",
              "            title=\"Suggest charts\"\n",
              "            style=\"display:none;\">\n",
              "\n",
              "<svg xmlns=\"http://www.w3.org/2000/svg\" height=\"24px\"viewBox=\"0 0 24 24\"\n",
              "     width=\"24px\">\n",
              "    <g>\n",
              "        <path d=\"M19 3H5c-1.1 0-2 .9-2 2v14c0 1.1.9 2 2 2h14c1.1 0 2-.9 2-2V5c0-1.1-.9-2-2-2zM9 17H7v-7h2v7zm4 0h-2V7h2v10zm4 0h-2v-4h2v4z\"/>\n",
              "    </g>\n",
              "</svg>\n",
              "  </button>\n",
              "\n",
              "<style>\n",
              "  .colab-df-quickchart {\n",
              "      --bg-color: #E8F0FE;\n",
              "      --fill-color: #1967D2;\n",
              "      --hover-bg-color: #E2EBFA;\n",
              "      --hover-fill-color: #174EA6;\n",
              "      --disabled-fill-color: #AAA;\n",
              "      --disabled-bg-color: #DDD;\n",
              "  }\n",
              "\n",
              "  [theme=dark] .colab-df-quickchart {\n",
              "      --bg-color: #3B4455;\n",
              "      --fill-color: #D2E3FC;\n",
              "      --hover-bg-color: #434B5C;\n",
              "      --hover-fill-color: #FFFFFF;\n",
              "      --disabled-bg-color: #3B4455;\n",
              "      --disabled-fill-color: #666;\n",
              "  }\n",
              "\n",
              "  .colab-df-quickchart {\n",
              "    background-color: var(--bg-color);\n",
              "    border: none;\n",
              "    border-radius: 50%;\n",
              "    cursor: pointer;\n",
              "    display: none;\n",
              "    fill: var(--fill-color);\n",
              "    height: 32px;\n",
              "    padding: 0;\n",
              "    width: 32px;\n",
              "  }\n",
              "\n",
              "  .colab-df-quickchart:hover {\n",
              "    background-color: var(--hover-bg-color);\n",
              "    box-shadow: 0 1px 2px rgba(60, 64, 67, 0.3), 0 1px 3px 1px rgba(60, 64, 67, 0.15);\n",
              "    fill: var(--button-hover-fill-color);\n",
              "  }\n",
              "\n",
              "  .colab-df-quickchart-complete:disabled,\n",
              "  .colab-df-quickchart-complete:disabled:hover {\n",
              "    background-color: var(--disabled-bg-color);\n",
              "    fill: var(--disabled-fill-color);\n",
              "    box-shadow: none;\n",
              "  }\n",
              "\n",
              "  .colab-df-spinner {\n",
              "    border: 2px solid var(--fill-color);\n",
              "    border-color: transparent;\n",
              "    border-bottom-color: var(--fill-color);\n",
              "    animation:\n",
              "      spin 1s steps(1) infinite;\n",
              "  }\n",
              "\n",
              "  @keyframes spin {\n",
              "    0% {\n",
              "      border-color: transparent;\n",
              "      border-bottom-color: var(--fill-color);\n",
              "      border-left-color: var(--fill-color);\n",
              "    }\n",
              "    20% {\n",
              "      border-color: transparent;\n",
              "      border-left-color: var(--fill-color);\n",
              "      border-top-color: var(--fill-color);\n",
              "    }\n",
              "    30% {\n",
              "      border-color: transparent;\n",
              "      border-left-color: var(--fill-color);\n",
              "      border-top-color: var(--fill-color);\n",
              "      border-right-color: var(--fill-color);\n",
              "    }\n",
              "    40% {\n",
              "      border-color: transparent;\n",
              "      border-right-color: var(--fill-color);\n",
              "      border-top-color: var(--fill-color);\n",
              "    }\n",
              "    60% {\n",
              "      border-color: transparent;\n",
              "      border-right-color: var(--fill-color);\n",
              "    }\n",
              "    80% {\n",
              "      border-color: transparent;\n",
              "      border-right-color: var(--fill-color);\n",
              "      border-bottom-color: var(--fill-color);\n",
              "    }\n",
              "    90% {\n",
              "      border-color: transparent;\n",
              "      border-bottom-color: var(--fill-color);\n",
              "    }\n",
              "  }\n",
              "</style>\n",
              "\n",
              "  <script>\n",
              "    async function quickchart(key) {\n",
              "      const quickchartButtonEl =\n",
              "        document.querySelector('#' + key + ' button');\n",
              "      quickchartButtonEl.disabled = true;  // To prevent multiple clicks.\n",
              "      quickchartButtonEl.classList.add('colab-df-spinner');\n",
              "      try {\n",
              "        const charts = await google.colab.kernel.invokeFunction(\n",
              "            'suggestCharts', [key], {});\n",
              "      } catch (error) {\n",
              "        console.error('Error during call to suggestCharts:', error);\n",
              "      }\n",
              "      quickchartButtonEl.classList.remove('colab-df-spinner');\n",
              "      quickchartButtonEl.classList.add('colab-df-quickchart-complete');\n",
              "    }\n",
              "    (() => {\n",
              "      let quickchartButtonEl =\n",
              "        document.querySelector('#df-086f0341-b131-485a-8294-4a064518f35c button');\n",
              "      quickchartButtonEl.style.display =\n",
              "        google.colab.kernel.accessAllowed ? 'block' : 'none';\n",
              "    })();\n",
              "  </script>\n",
              "</div>\n",
              "    </div>\n",
              "  </div>\n"
            ],
            "application/vnd.google.colaboratory.intrinsic+json": {
              "type": "dataframe",
              "variable_name": "raw_dataset"
            }
          },
          "metadata": {},
          "execution_count": 76
        }
      ]
    },
    {
      "cell_type": "code",
      "source": [
        "min_length = raw_dataset['sequence'].apply(len).min()\n",
        "max_length = raw_dataset['sequence'].apply(len).max()"
      ],
      "metadata": {
        "id": "AmU2gPkL9t9r"
      },
      "execution_count": null,
      "outputs": []
    },
    {
      "cell_type": "code",
      "source": [
        "def generate_random_sequence(length):\n",
        "    return ''.join(np.random.choice(['A', 'T', 'C', 'G'], size=length))\n",
        "\n",
        "num_random_sequences = len(raw_dataset)\n",
        "\n",
        "random_data = pd.DataFrame({\n",
        "    'sequence': [\n",
        "        generate_random_sequence(np.random.randint(min_length, max_length + 1))\n",
        "        for _ in range(num_random_sequences)\n",
        "    ],\n",
        "    'label': [0] * num_random_sequences,\n",
        "    'split': ['train'] * num_random_sequences\n",
        "})"
      ],
      "metadata": {
        "id": "kzfcKm2XEWPy"
      },
      "execution_count": null,
      "outputs": []
    },
    {
      "cell_type": "code",
      "source": [
        "def generate_random_sequence(length=512):\n",
        "    return ''.join(np.random.choice(['A', 'T', 'C', 'G'], size=length))\n",
        "\n",
        "num_random_sequences = len(raw_dataset)\n",
        "\n",
        "random_data = pd.DataFrame({\n",
        "    'sequence': [generate_random_sequence(512) for _ in range(num_random_sequences)],\n",
        "    'label': [0] * num_random_sequences,\n",
        "    'split': ['train'] * num_random_sequences\n",
        "})\n",
        "\n",
        "data = pd.concat([raw_dataset, random_data], ignore_index=True)\n",
        "\n",
        "train_data, test_data = train_test_split(data, test_size=0.2, random_state=42, stratify=data['label'])\n",
        "train_data['split'] = 'train'\n",
        "test_data['split'] = 'test'\n",
        "\n",
        "final_data = pd.concat([train_data, test_data], ignore_index=True)"
      ],
      "metadata": {
        "id": "NlCbhNsTaDhU"
      },
      "execution_count": null,
      "outputs": []
    },
    {
      "cell_type": "code",
      "source": [
        "aa_list = 'ATCG'\n",
        "\n",
        "def one_hot_encode(sequence):\n",
        "    \"\"\"\n",
        "    One-hot encodes a sequence.\n",
        "\n",
        "    Args:\n",
        "        sequence (str): The input sequence.\n",
        "\n",
        "    Returns:\n",
        "        numpy.array: The one-hot encoded representation of the sequence.\n",
        "    \"\"\"\n",
        "    aa_to_index = {aa: i for i, aa in enumerate(aa_list)}\n",
        "\n",
        "    encoding = np.zeros((len(sequence), len(aa_list)))\n",
        "\n",
        "    for i, aa in enumerate(sequence):\n",
        "        if aa in aa_to_index:\n",
        "            encoding[i, aa_to_index[aa]] = 1\n",
        "        else:\n",
        "            encoding[i, -1] = 1\n",
        "\n",
        "    return encoding\n",
        "\n",
        "\n",
        "def generate_sample_dataset(df, sample_fraction=0.05):\n",
        "    \"\"\"\n",
        "    Generate a dataset with one-hot encoded sequences, padded to a fixed length,\n",
        "    using only a sample of the original dataset while maintaining the train-test split ratio.\n",
        "\n",
        "    Args:\n",
        "        df (pd.DataFrame): The input dataframe.\n",
        "        sample_fraction (float): The fraction of the dataset to use (default is 0.2).\n",
        "\n",
        "    Returns:\n",
        "        dict: A dictionary containing train_input, test_input, train_label, and test_label.\n",
        "    \"\"\"\n",
        "    sampled_df = df.sample(frac=sample_fraction, random_state=42)\n",
        "\n",
        "    dataset = {'train_input': [], 'test_input': [], 'train_label': [], 'test_label': []}\n",
        "\n",
        "    for _, row in sampled_df.iterrows():\n",
        "        sequence = row['sequence']\n",
        "        label = row['label']\n",
        "        split = row['split']\n",
        "\n",
        "        encoded_sequence = one_hot_encode(sequence).flatten()\n",
        "\n",
        "        if split == \"train\":\n",
        "            dataset['train_input'].append(encoded_sequence)\n",
        "            dataset['train_label'].append(label)\n",
        "        else:\n",
        "            dataset['test_input'].append(encoded_sequence)\n",
        "            dataset['test_label'].append(label)\n",
        "\n",
        "    dataset['train_input'] = torch.tensor(dataset['train_input']).float()\n",
        "    dataset['test_input'] = torch.tensor(dataset['test_input']).float()\n",
        "    dataset['train_label'] = torch.tensor(dataset['train_label']).view(-1, 1).float()\n",
        "    dataset['test_label'] = torch.tensor(dataset['test_label']).view(-1, 1).float()\n",
        "\n",
        "    return dataset"
      ],
      "metadata": {
        "id": "xxvbuIGkuu5G"
      },
      "execution_count": null,
      "outputs": []
    },
    {
      "cell_type": "code",
      "source": [
        "# df = final_data\n",
        "dataset = generate_sample_dataset(df)"
      ],
      "metadata": {
        "id": "3yl4rdRqu3Iy"
      },
      "execution_count": null,
      "outputs": []
    },
    {
      "cell_type": "code",
      "source": [
        "# define model\n",
        "# create a KAN: 105 inputs, 2D output, and 3 hidden neurons. k=2, 3 grid intervals (grid=3).\n",
        "# considering window size: 5, 5 times 21(vocab size), input-> 21 * 5\n",
        "\n",
        "model = kan.KAN(width=[4*512, 3, 2], grid=3, k=2)"
      ],
      "metadata": {
        "colab": {
          "base_uri": "https://localhost:8080/"
        },
        "id": "uPJ7vB8bvJjz",
        "outputId": "8e5bd034-9816-4aa8-dd8e-4bfa26bb5ae7"
      },
      "execution_count": null,
      "outputs": [
        {
          "output_type": "stream",
          "name": "stdout",
          "text": [
            "checkpoint directory created: ./model\n",
            "saving model version 0.0\n"
          ]
        }
      ]
    },
    {
      "cell_type": "code",
      "source": [
        "def train_acc():\n",
        "    return torch.mean((torch.round(model(dataset['train_input'])[:,0]) == dataset['train_label'][:,0]).type(dtype))\n",
        "\n",
        "def test_acc():\n",
        "    return torch.mean((torch.round(model(dataset['test_input'])[:,0]) == dataset['test_label'][:,0]).type(dtype))\n",
        "\n",
        "results = model.fit(dataset, opt=\"LBFGS\", steps=5, metrics=(train_acc, test_acc));\n",
        "results['train_acc'][-1], results['test_acc'][-1]"
      ],
      "metadata": {
        "colab": {
          "base_uri": "https://localhost:8080/"
        },
        "id": "B8kXj-hKvLZf",
        "outputId": "f047fa52-d1f5-45df-c0a2-8685ee0d3622"
      },
      "execution_count": null,
      "outputs": [
        {
          "output_type": "stream",
          "name": "stderr",
          "text": [
            "| train_loss: 1.82e-01 | test_loss: 1.94e-01 | reg: 3.22e+02 | : 100%|█| 5/5 [41:18<00:00, 495.77s/i\n"
          ]
        },
        {
          "output_type": "stream",
          "name": "stdout",
          "text": [
            "saving model version 0.1\n"
          ]
        },
        {
          "output_type": "execute_result",
          "data": {
            "text/plain": [
              "(0.9693243503570557, 0.9595099687576294)"
            ]
          },
          "metadata": {},
          "execution_count": 16
        }
      ]
    },
    {
      "cell_type": "code",
      "source": [
        "model.plot()"
      ],
      "metadata": {
        "id": "ZRZFlf5n9nqY"
      },
      "execution_count": null,
      "outputs": []
    },
    {
      "cell_type": "code",
      "source": [],
      "metadata": {
        "id": "B4kWwFFHw0kf"
      },
      "execution_count": null,
      "outputs": []
    },
    {
      "cell_type": "code",
      "source": [
        "%%capture\n",
        "!pip install genomic-benchmarks"
      ],
      "metadata": {
        "id": "-fXF2YlhQtHp"
      },
      "execution_count": null,
      "outputs": []
    },
    {
      "cell_type": "code",
      "source": [
        "from genomic_benchmarks.data_check import list_datasets"
      ],
      "metadata": {
        "id": "1KldxqMOqeB0"
      },
      "execution_count": null,
      "outputs": []
    },
    {
      "cell_type": "code",
      "source": [
        "list_datasets()"
      ],
      "metadata": {
        "colab": {
          "base_uri": "https://localhost:8080/"
        },
        "id": "9Ze-Xi2QqgFm",
        "outputId": "0b877a54-e839-41f1-819e-56769664fa2b"
      },
      "execution_count": null,
      "outputs": [
        {
          "output_type": "execute_result",
          "data": {
            "text/plain": [
              "['human_enhancers_ensembl',\n",
              " 'human_nontata_promoters',\n",
              " 'demo_human_or_worm',\n",
              " 'drosophila_enhancers_stark',\n",
              " 'human_enhancers_cohn',\n",
              " 'human_ensembl_regulatory',\n",
              " 'demo_coding_vs_intergenomic_seqs',\n",
              " 'dummy_mouse_enhancers_ensembl',\n",
              " 'human_ocr_ensembl']"
            ]
          },
          "metadata": {},
          "execution_count": 18
        }
      ]
    },
    {
      "cell_type": "code",
      "source": [
        "from genomic_benchmarks.loc2seq import download_dataset"
      ],
      "metadata": {
        "id": "ou4R8yzPqlPC"
      },
      "execution_count": null,
      "outputs": []
    },
    {
      "cell_type": "code",
      "source": [
        "from genomic_benchmarks.dataset_getters.pytorch_datasets import HumanNontataPromoters"
      ],
      "metadata": {
        "id": "UwGwGgrfqnRa"
      },
      "execution_count": null,
      "outputs": []
    },
    {
      "cell_type": "code",
      "source": [
        "dset = HumanNontataPromoters(split='train', version=0)"
      ],
      "metadata": {
        "id": "ENyifTW9qtIg"
      },
      "execution_count": null,
      "outputs": []
    },
    {
      "cell_type": "code",
      "source": [
        "from genomic_benchmarks.dataset_getters.pytorch_datasets import DrosophilaEnhancersStark\n",
        "from genomic_benchmarks.dataset_getters.pytorch_datasets import HumanEnhancersCohn\n",
        "from genomic_benchmarks.dataset_getters.pytorch_datasets import HumanEnhancersEnsembl\n",
        "from genomic_benchmarks.dataset_getters.pytorch_datasets import HumanOcrEnsembl\n",
        "from genomic_benchmarks.dataset_getters.pytorch_datasets import DemoCodingVsIntergenomicSeqs\n",
        "from genomic_benchmarks.dataset_getters.pytorch_datasets import DemoHumanOrWorm"
      ],
      "metadata": {
        "id": "VZ2SR_durP6Y"
      },
      "execution_count": null,
      "outputs": []
    },
    {
      "cell_type": "code",
      "source": [
        "dset = DemoHumanOrWorm(split='train', version=0)"
      ],
      "metadata": {
        "colab": {
          "base_uri": "https://localhost:8080/"
        },
        "id": "5w3vFppAtCyE",
        "outputId": "ac87adfa-493d-401d-ad18-e55da80256b7"
      },
      "execution_count": null,
      "outputs": [
        {
          "output_type": "stream",
          "name": "stderr",
          "text": [
            "Downloading...\n",
            "From (original): https://drive.google.com/uc?id=1JW0-eTB-rJXvFcglqBo3pFZi1kyIWC3X\n",
            "From (redirected): https://drive.google.com/uc?id=1JW0-eTB-rJXvFcglqBo3pFZi1kyIWC3X&confirm=t&uuid=bb734063-67b6-4f4f-aa7f-d55a7a33cb94\n",
            "To: /root/.genomic_benchmarks/demo_human_or_worm.zip\n",
            "100%|██████████| 28.9M/28.9M [00:00<00:00, 55.2MB/s]\n"
          ]
        }
      ]
    },
    {
      "cell_type": "code",
      "source": [
        "train_set = DemoHumanOrWorm(split='train', version=0)\n",
        "test_set = DemoHumanOrWorm(split='test', version=0)"
      ],
      "metadata": {
        "id": "pWJJ2IfRthj_"
      },
      "execution_count": null,
      "outputs": []
    },
    {
      "cell_type": "code",
      "source": [
        "aa_list = 'ATCG'\n",
        "\n",
        "def one_hot_encode(sequence):\n",
        "    \"\"\"One-hot encodes a sequence.\"\"\"\n",
        "    aa_to_index = {aa: i for i, aa in enumerate(aa_list)}\n",
        "    encoding = np.zeros((len(sequence), len(aa_list)))\n",
        "\n",
        "    for i, aa in enumerate(sequence):\n",
        "        if aa in aa_to_index:\n",
        "            encoding[i, aa_to_index[aa]] = 1\n",
        "    return encoding\n",
        "\n",
        "def generate_sample_dataset(train_set, test_set, sample_fraction):\n",
        "    \"\"\"Generate a dataset with one-hot encoded sequences using a sample of the original dataset.\"\"\"\n",
        "    dataset = {'train_input': [], 'test_input': [], 'train_label': [], 'test_label': []}\n",
        "\n",
        "    for i in range(int(len(train_set) * sample_fraction)):\n",
        "        sequence, label = train_set[i]\n",
        "        encoded_sequence = one_hot_encode(sequence).flatten()\n",
        "        dataset['train_input'].append(encoded_sequence)\n",
        "        dataset['train_label'].append(label)\n",
        "\n",
        "    for i in range(int(len(test_set) * sample_fraction)):\n",
        "        sequence, label = test_set[i]\n",
        "        encoded_sequence = one_hot_encode(sequence).flatten()\n",
        "        dataset['test_input'].append(encoded_sequence)\n",
        "        dataset['test_label'].append(label)\n",
        "\n",
        "    dataset['train_input'] = torch.tensor(dataset['train_input']).float()\n",
        "    dataset['test_input'] = torch.tensor(dataset['test_input']).float()\n",
        "    dataset['train_label'] = torch.tensor(dataset['train_label']).view(-1, 1).float()\n",
        "    dataset['test_label'] = torch.tensor(dataset['test_label']).view(-1, 1).float()\n",
        "\n",
        "    return dataset\n",
        "\n",
        "train_set = DemoHumanOrWorm(split='train', version=0)\n",
        "test_set = DemoHumanOrWorm(split='test', version=0)\n",
        "\n",
        "sampled_dataset = generate_sample_dataset(train_set, test_set, sample_fraction=0.1)"
      ],
      "metadata": {
        "id": "PLG5ArV1V2MR"
      },
      "execution_count": null,
      "outputs": []
    },
    {
      "cell_type": "code",
      "source": [
        "from collections import Counter"
      ],
      "metadata": {
        "id": "quAurgD_e-ui"
      },
      "execution_count": null,
      "outputs": []
    },
    {
      "cell_type": "code",
      "source": [
        "model = kan.KAN([200 * 4, 8, 1])"
      ],
      "metadata": {
        "colab": {
          "base_uri": "https://localhost:8080/"
        },
        "id": "Iz3DOkclPDmL",
        "outputId": "0c1ed0f8-7e17-4bac-dde2-a080898cec83"
      },
      "execution_count": null,
      "outputs": [
        {
          "output_type": "stream",
          "name": "stdout",
          "text": [
            "checkpoint directory created: ./model\n",
            "saving model version 0.0\n"
          ]
        }
      ]
    },
    {
      "cell_type": "code",
      "source": [
        "def train_acc():\n",
        "    return torch.mean((torch.round(model(sampled_dataset['train_input'])[:,0]) == sampled_dataset['train_label'][:,0]).type(dtype))\n",
        "\n",
        "def test_acc():\n",
        "    return torch.mean((torch.round(model(sampled_dataset['test_input'])[:,0]) == sampled_dataset['test_label'][:,0]).type(dtype))\n",
        "\n",
        "results = model.fit(sampled_dataset, opt=\"LBFGS\", steps=1, metrics=(train_acc, test_acc));\n",
        "results['train_acc'][-1], results['test_acc'][-1]"
      ],
      "metadata": {
        "colab": {
          "base_uri": "https://localhost:8080/"
        },
        "id": "ym3z0-rRVW8Z",
        "outputId": "1ec093d8-5987-47ae-b93a-412ff42fdc6e"
      },
      "execution_count": null,
      "outputs": [
        {
          "output_type": "stream",
          "name": "stderr",
          "text": [
            "| train_loss: 1.18e-04 | test_loss: 2.54e-04 | reg: 0.00e+00 | : 100%|█| 1/1 [00:59<00:00, 59.06s/it\n"
          ]
        },
        {
          "output_type": "stream",
          "name": "stdout",
          "text": [
            "saving model version 0.2\n"
          ]
        },
        {
          "output_type": "execute_result",
          "data": {
            "text/plain": [
              "(1.0, 1.0)"
            ]
          },
          "metadata": {},
          "execution_count": 34
        }
      ]
    },
    {
      "cell_type": "code",
      "source": [
        "def train_metrics():\n",
        "    with torch.no_grad():\n",
        "        outputs = model(sampled_dataset['train_input'])[:, 0]\n",
        "        preds = torch.round(outputs)\n",
        "        labels = sampled_dataset['train_label'][:, 0]\n",
        "        accuracy = torch.mean((preds == labels).type(dtype))\n",
        "        outputs_np = outputs.cpu().numpy()\n",
        "        labels_np = labels.cpu().numpy()\n",
        "\n",
        "\n",
        "        roc_auc = roc_auc_score(labels_np, outputs_np, multi_class='ovr')\n",
        "        f1 = f1_score(labels_np, preds.cpu().numpy(), average='macro')\n",
        "\n",
        "        return accuracy, roc_auc, f1\n",
        "\n",
        "def test_metrics():\n",
        "    with torch.no_grad():\n",
        "        outputs = model(sampled_dataset['test_input'])[:, 0]\n",
        "        preds = torch.round(outputs)\n",
        "        labels = sampled_dataset['test_label'][:, 0]\n",
        "        accuracy = torch.mean((preds == labels).type(dtype))\n",
        "        outputs_np = outputs.cpu().numpy()\n",
        "        labels_np = labels.cpu().numpy()\n",
        "\n",
        "        roc_auc = roc_auc_score(labels_np, outputs_np, multi_class='ovr')\n",
        "        f1 = f1_score(labels_np, preds.cpu().numpy(), average='macro')\n",
        "\n",
        "        return accuracy, roc_auc, f1"
      ],
      "metadata": {
        "id": "6ny3yotJWX26"
      },
      "execution_count": null,
      "outputs": []
    }
  ]
}