{
  "cells": [
    {
      "cell_type": "code",
      "execution_count": null,
      "metadata": {
        "id": "iWeDk-z75g4m"
      },
      "outputs": [],
      "source": [
        "import json\n",
        "import math\n",
        "import os\n",
        "import random\n",
        "import shutil\n",
        "import sys\n",
        "from collections import Counter, OrderedDict\n",
        "from pathlib import Path\n",
        "from typing import ClassVar, Iterator, Sequence\n",
        "\n",
        "import numpy as np\n",
        "import pandas as pd\n",
        "import scipy.stats\n",
        "import torch\n",
        "import torch.nn as nn\n",
        "import torch.nn.functional as F\n",
        "from torch.nn.utils.rnn import pad_sequence\n",
        "from sklearn.metrics import accuracy_score\n",
        "from torch import Tensor\n",
        "from torch.utils.data import DataLoader, Dataset, Sampler, Subset\n",
        "from sklearn.metrics import accuracy_score, roc_auc_score, f1_score\n",
        "from sklearn.model_selection import StratifiedKFold\n",
        "import torch.optim as optim\n",
        "import torch\n",
        "import torch.nn as nn\n",
        "import torch.nn.functional as F\n",
        "from collections import OrderedDict\n",
        "import torch.optim as optim\n",
        "from sklearn.metrics import accuracy_score, f1_score, roc_auc_score, precision_score, recall_score, matthews_corrcoef"
      ]
    },
    {
      "cell_type": "code",
      "execution_count": null,
      "metadata": {
        "id": "oY6t41gN1W1a"
      },
      "outputs": [],
      "source": [
        "df_train = pd.read_csv(\"/content/train.csv\")\n",
        "df_dev = pd.read_csv(\"/content/dev.csv\")\n",
        "df_test = pd.read_csv(\"/content/test.csv\")"
      ]
    },
    {
      "cell_type": "code",
      "execution_count": null,
      "metadata": {
        "colab": {
          "base_uri": "https://localhost:8080/",
          "height": 423
        },
        "id": "HDg1SBoh1mmL",
        "outputId": "382588bc-ca6c-4bd0-b82b-327cfa2e90ca"
      },
      "outputs": [
        {
          "output_type": "execute_result",
          "data": {
            "text/plain": [
              "                                               sequence  label\n",
              "0     CAGGCAAATCAACTTATTTAAATTTCTTGAAATCACAATTAGGATT...     21\n",
              "1     GTGAAATTGTATATGTGGATCATCAATTTTCCAATATTTTTATAAA...     20\n",
              "2     GCACACCGCACGACCGTACGCGCGACCGCTACTCATCACGACGCAT...     14\n",
              "3     TAAGGGAAAGAAAAACCTTTTTCTATAATATAAAACCAATTATTTA...     10\n",
              "4     CATTAATAGAACCATCCAATTTAGACAAATAGTATACGGGACTTTG...     20\n",
              "...                                                 ...    ...\n",
              "3995  AGATATTATTATACGAAATATGCCAAAAGATTATGATAAATCCATA...     20\n",
              "3996  GATGATCTTCTTTCTAGATATGCAACATATTTTCCTGACATTATTG...     19\n",
              "3997  TATATGAAGAAAATTGATGTTTTTGTCAAAGCTAATTTCTTTGAAG...      0\n",
              "3998  AAATATAGTATAATAAATTTATCTGATAGAATCAAATCTGCTTCCA...     20\n",
              "3999  TTGTCCAAATGGAGAGGGTACACCATTAGCTCCCATAATCAATTGA...     15\n",
              "\n",
              "[4000 rows x 2 columns]"
            ],
            "text/html": [
              "\n",
              "  <div id=\"df-1d827933-66f9-499d-9c17-5c403486bdc2\" class=\"colab-df-container\">\n",
              "    <div>\n",
              "<style scoped>\n",
              "    .dataframe tbody tr th:only-of-type {\n",
              "        vertical-align: middle;\n",
              "    }\n",
              "\n",
              "    .dataframe tbody tr th {\n",
              "        vertical-align: top;\n",
              "    }\n",
              "\n",
              "    .dataframe thead th {\n",
              "        text-align: right;\n",
              "    }\n",
              "</style>\n",
              "<table border=\"1\" class=\"dataframe\">\n",
              "  <thead>\n",
              "    <tr style=\"text-align: right;\">\n",
              "      <th></th>\n",
              "      <th>sequence</th>\n",
              "      <th>label</th>\n",
              "    </tr>\n",
              "  </thead>\n",
              "  <tbody>\n",
              "    <tr>\n",
              "      <th>0</th>\n",
              "      <td>CAGGCAAATCAACTTATTTAAATTTCTTGAAATCACAATTAGGATT...</td>\n",
              "      <td>21</td>\n",
              "    </tr>\n",
              "    <tr>\n",
              "      <th>1</th>\n",
              "      <td>GTGAAATTGTATATGTGGATCATCAATTTTCCAATATTTTTATAAA...</td>\n",
              "      <td>20</td>\n",
              "    </tr>\n",
              "    <tr>\n",
              "      <th>2</th>\n",
              "      <td>GCACACCGCACGACCGTACGCGCGACCGCTACTCATCACGACGCAT...</td>\n",
              "      <td>14</td>\n",
              "    </tr>\n",
              "    <tr>\n",
              "      <th>3</th>\n",
              "      <td>TAAGGGAAAGAAAAACCTTTTTCTATAATATAAAACCAATTATTTA...</td>\n",
              "      <td>10</td>\n",
              "    </tr>\n",
              "    <tr>\n",
              "      <th>4</th>\n",
              "      <td>CATTAATAGAACCATCCAATTTAGACAAATAGTATACGGGACTTTG...</td>\n",
              "      <td>20</td>\n",
              "    </tr>\n",
              "    <tr>\n",
              "      <th>...</th>\n",
              "      <td>...</td>\n",
              "      <td>...</td>\n",
              "    </tr>\n",
              "    <tr>\n",
              "      <th>3995</th>\n",
              "      <td>AGATATTATTATACGAAATATGCCAAAAGATTATGATAAATCCATA...</td>\n",
              "      <td>20</td>\n",
              "    </tr>\n",
              "    <tr>\n",
              "      <th>3996</th>\n",
              "      <td>GATGATCTTCTTTCTAGATATGCAACATATTTTCCTGACATTATTG...</td>\n",
              "      <td>19</td>\n",
              "    </tr>\n",
              "    <tr>\n",
              "      <th>3997</th>\n",
              "      <td>TATATGAAGAAAATTGATGTTTTTGTCAAAGCTAATTTCTTTGAAG...</td>\n",
              "      <td>0</td>\n",
              "    </tr>\n",
              "    <tr>\n",
              "      <th>3998</th>\n",
              "      <td>AAATATAGTATAATAAATTTATCTGATAGAATCAAATCTGCTTCCA...</td>\n",
              "      <td>20</td>\n",
              "    </tr>\n",
              "    <tr>\n",
              "      <th>3999</th>\n",
              "      <td>TTGTCCAAATGGAGAGGGTACACCATTAGCTCCCATAATCAATTGA...</td>\n",
              "      <td>15</td>\n",
              "    </tr>\n",
              "  </tbody>\n",
              "</table>\n",
              "<p>4000 rows × 2 columns</p>\n",
              "</div>\n",
              "    <div class=\"colab-df-buttons\">\n",
              "\n",
              "  <div class=\"colab-df-container\">\n",
              "    <button class=\"colab-df-convert\" onclick=\"convertToInteractive('df-1d827933-66f9-499d-9c17-5c403486bdc2')\"\n",
              "            title=\"Convert this dataframe to an interactive table.\"\n",
              "            style=\"display:none;\">\n",
              "\n",
              "  <svg xmlns=\"http://www.w3.org/2000/svg\" height=\"24px\" viewBox=\"0 -960 960 960\">\n",
              "    <path d=\"M120-120v-720h720v720H120Zm60-500h600v-160H180v160Zm220 220h160v-160H400v160Zm0 220h160v-160H400v160ZM180-400h160v-160H180v160Zm440 0h160v-160H620v160ZM180-180h160v-160H180v160Zm440 0h160v-160H620v160Z\"/>\n",
              "  </svg>\n",
              "    </button>\n",
              "\n",
              "  <style>\n",
              "    .colab-df-container {\n",
              "      display:flex;\n",
              "      gap: 12px;\n",
              "    }\n",
              "\n",
              "    .colab-df-convert {\n",
              "      background-color: #E8F0FE;\n",
              "      border: none;\n",
              "      border-radius: 50%;\n",
              "      cursor: pointer;\n",
              "      display: none;\n",
              "      fill: #1967D2;\n",
              "      height: 32px;\n",
              "      padding: 0 0 0 0;\n",
              "      width: 32px;\n",
              "    }\n",
              "\n",
              "    .colab-df-convert:hover {\n",
              "      background-color: #E2EBFA;\n",
              "      box-shadow: 0px 1px 2px rgba(60, 64, 67, 0.3), 0px 1px 3px 1px rgba(60, 64, 67, 0.15);\n",
              "      fill: #174EA6;\n",
              "    }\n",
              "\n",
              "    .colab-df-buttons div {\n",
              "      margin-bottom: 4px;\n",
              "    }\n",
              "\n",
              "    [theme=dark] .colab-df-convert {\n",
              "      background-color: #3B4455;\n",
              "      fill: #D2E3FC;\n",
              "    }\n",
              "\n",
              "    [theme=dark] .colab-df-convert:hover {\n",
              "      background-color: #434B5C;\n",
              "      box-shadow: 0px 1px 3px 1px rgba(0, 0, 0, 0.15);\n",
              "      filter: drop-shadow(0px 1px 2px rgba(0, 0, 0, 0.3));\n",
              "      fill: #FFFFFF;\n",
              "    }\n",
              "  </style>\n",
              "\n",
              "    <script>\n",
              "      const buttonEl =\n",
              "        document.querySelector('#df-1d827933-66f9-499d-9c17-5c403486bdc2 button.colab-df-convert');\n",
              "      buttonEl.style.display =\n",
              "        google.colab.kernel.accessAllowed ? 'block' : 'none';\n",
              "\n",
              "      async function convertToInteractive(key) {\n",
              "        const element = document.querySelector('#df-1d827933-66f9-499d-9c17-5c403486bdc2');\n",
              "        const dataTable =\n",
              "          await google.colab.kernel.invokeFunction('convertToInteractive',\n",
              "                                                    [key], {});\n",
              "        if (!dataTable) return;\n",
              "\n",
              "        const docLinkHtml = 'Like what you see? Visit the ' +\n",
              "          '<a target=\"_blank\" href=https://colab.research.google.com/notebooks/data_table.ipynb>data table notebook</a>'\n",
              "          + ' to learn more about interactive tables.';\n",
              "        element.innerHTML = '';\n",
              "        dataTable['output_type'] = 'display_data';\n",
              "        await google.colab.output.renderOutput(dataTable, element);\n",
              "        const docLink = document.createElement('div');\n",
              "        docLink.innerHTML = docLinkHtml;\n",
              "        element.appendChild(docLink);\n",
              "      }\n",
              "    </script>\n",
              "  </div>\n",
              "\n",
              "\n",
              "<div id=\"df-432c6f3d-ec2a-4386-8b36-aec06ca95b6c\">\n",
              "  <button class=\"colab-df-quickchart\" onclick=\"quickchart('df-432c6f3d-ec2a-4386-8b36-aec06ca95b6c')\"\n",
              "            title=\"Suggest charts\"\n",
              "            style=\"display:none;\">\n",
              "\n",
              "<svg xmlns=\"http://www.w3.org/2000/svg\" height=\"24px\"viewBox=\"0 0 24 24\"\n",
              "     width=\"24px\">\n",
              "    <g>\n",
              "        <path d=\"M19 3H5c-1.1 0-2 .9-2 2v14c0 1.1.9 2 2 2h14c1.1 0 2-.9 2-2V5c0-1.1-.9-2-2-2zM9 17H7v-7h2v7zm4 0h-2V7h2v10zm4 0h-2v-4h2v4z\"/>\n",
              "    </g>\n",
              "</svg>\n",
              "  </button>\n",
              "\n",
              "<style>\n",
              "  .colab-df-quickchart {\n",
              "      --bg-color: #E8F0FE;\n",
              "      --fill-color: #1967D2;\n",
              "      --hover-bg-color: #E2EBFA;\n",
              "      --hover-fill-color: #174EA6;\n",
              "      --disabled-fill-color: #AAA;\n",
              "      --disabled-bg-color: #DDD;\n",
              "  }\n",
              "\n",
              "  [theme=dark] .colab-df-quickchart {\n",
              "      --bg-color: #3B4455;\n",
              "      --fill-color: #D2E3FC;\n",
              "      --hover-bg-color: #434B5C;\n",
              "      --hover-fill-color: #FFFFFF;\n",
              "      --disabled-bg-color: #3B4455;\n",
              "      --disabled-fill-color: #666;\n",
              "  }\n",
              "\n",
              "  .colab-df-quickchart {\n",
              "    background-color: var(--bg-color);\n",
              "    border: none;\n",
              "    border-radius: 50%;\n",
              "    cursor: pointer;\n",
              "    display: none;\n",
              "    fill: var(--fill-color);\n",
              "    height: 32px;\n",
              "    padding: 0;\n",
              "    width: 32px;\n",
              "  }\n",
              "\n",
              "  .colab-df-quickchart:hover {\n",
              "    background-color: var(--hover-bg-color);\n",
              "    box-shadow: 0 1px 2px rgba(60, 64, 67, 0.3), 0 1px 3px 1px rgba(60, 64, 67, 0.15);\n",
              "    fill: var(--button-hover-fill-color);\n",
              "  }\n",
              "\n",
              "  .colab-df-quickchart-complete:disabled,\n",
              "  .colab-df-quickchart-complete:disabled:hover {\n",
              "    background-color: var(--disabled-bg-color);\n",
              "    fill: var(--disabled-fill-color);\n",
              "    box-shadow: none;\n",
              "  }\n",
              "\n",
              "  .colab-df-spinner {\n",
              "    border: 2px solid var(--fill-color);\n",
              "    border-color: transparent;\n",
              "    border-bottom-color: var(--fill-color);\n",
              "    animation:\n",
              "      spin 1s steps(1) infinite;\n",
              "  }\n",
              "\n",
              "  @keyframes spin {\n",
              "    0% {\n",
              "      border-color: transparent;\n",
              "      border-bottom-color: var(--fill-color);\n",
              "      border-left-color: var(--fill-color);\n",
              "    }\n",
              "    20% {\n",
              "      border-color: transparent;\n",
              "      border-left-color: var(--fill-color);\n",
              "      border-top-color: var(--fill-color);\n",
              "    }\n",
              "    30% {\n",
              "      border-color: transparent;\n",
              "      border-left-color: var(--fill-color);\n",
              "      border-top-color: var(--fill-color);\n",
              "      border-right-color: var(--fill-color);\n",
              "    }\n",
              "    40% {\n",
              "      border-color: transparent;\n",
              "      border-right-color: var(--fill-color);\n",
              "      border-top-color: var(--fill-color);\n",
              "    }\n",
              "    60% {\n",
              "      border-color: transparent;\n",
              "      border-right-color: var(--fill-color);\n",
              "    }\n",
              "    80% {\n",
              "      border-color: transparent;\n",
              "      border-right-color: var(--fill-color);\n",
              "      border-bottom-color: var(--fill-color);\n",
              "    }\n",
              "    90% {\n",
              "      border-color: transparent;\n",
              "      border-bottom-color: var(--fill-color);\n",
              "    }\n",
              "  }\n",
              "</style>\n",
              "\n",
              "  <script>\n",
              "    async function quickchart(key) {\n",
              "      const quickchartButtonEl =\n",
              "        document.querySelector('#' + key + ' button');\n",
              "      quickchartButtonEl.disabled = true;  // To prevent multiple clicks.\n",
              "      quickchartButtonEl.classList.add('colab-df-spinner');\n",
              "      try {\n",
              "        const charts = await google.colab.kernel.invokeFunction(\n",
              "            'suggestCharts', [key], {});\n",
              "      } catch (error) {\n",
              "        console.error('Error during call to suggestCharts:', error);\n",
              "      }\n",
              "      quickchartButtonEl.classList.remove('colab-df-spinner');\n",
              "      quickchartButtonEl.classList.add('colab-df-quickchart-complete');\n",
              "    }\n",
              "    (() => {\n",
              "      let quickchartButtonEl =\n",
              "        document.querySelector('#df-432c6f3d-ec2a-4386-8b36-aec06ca95b6c button');\n",
              "      quickchartButtonEl.style.display =\n",
              "        google.colab.kernel.accessAllowed ? 'block' : 'none';\n",
              "    })();\n",
              "  </script>\n",
              "</div>\n",
              "    </div>\n",
              "  </div>\n"
            ],
            "application/vnd.google.colaboratory.intrinsic+json": {
              "type": "dataframe",
              "variable_name": "df_train",
              "summary": "{\n  \"name\": \"df_train\",\n  \"rows\": 4000,\n  \"fields\": [\n    {\n      \"column\": \"sequence\",\n      \"properties\": {\n        \"dtype\": \"string\",\n        \"num_unique_values\": 4000,\n        \"samples\": [\n          \"AAGAGGACGATGGCGCCGCCATTACTGTCACCACCGTGGCACTGTCGGATCTTTTGGATGCCGTCACTAGATATGGTCGCACGGCCACCCACATTTGTGTAGCGCGTACCGCGTCCTGGGTATCACAGGCGCTGACGCGCCAGATTCTTTCGGCTCCTATTGCCGCGCCGCGACGACAGCCAAGCCGCGAACCCAGTGACATGGAGCGCATGATGCGGCGTCTTGACCGCATCGTGTCCGAGGTGGCGTCGGACATGCGTCTCACTGACGCTGTAAACCTCACACATGAATCGAGTGATAACGATAACGATGACATTGACATTGTTATTGTCGACACTCCTGGGACCTTGCCAGCCTCACGCGCGCGCCCGCCCTTGCCGTTGTCATCGACTATTGCACCAGCGGCACTGGCGTCCGCTCCTAAAAACGACTCGGCGCTTGCCGGAACGACGGCAACAACAACAACAACATCATCCTCGTCATCAGCATCACCAACGACGTCAACACAATCACAAGAACCGACTCTGCGTCCAGCGCGTCGGACGACACGCAAAAGGCAGGCACCCACGCCTACGACGTCGTCGCCTCCAGATGCAGAAACGAGCAGACCCACCAAGCGCAGTCGACATTCGACCACAAGGGTAGCGTCATCCGCGCCACAACCGTCGATGGGGACGACAACATCATCATCATCAACATCCATCGCGTCACACGACACCATTGTCATTGATGACGACCACCACAGTGATCACGATGGCGACAGCGATCATGCAACGCAGGTGTTTGCCGCAACGTGCGCCATCGGTCTCGTGCCATGTGCAGAGGCTCCCGGCATTGAATGTTCGATCTGTATGCGCGACGACGGTACCGTGCTGTGGGACACGGCGATGGGACGGCCCGCCACGCTGCACGATTTGTGGATCGACCCTGGGCGCTCGGCGCTCACGCCAGACGGTGTGCGACTCAAAGACGACGCCATCGTCGTCAATCCATGTCGCAATGTTGAGCACGCCGTGTGCGTTGGATGCATGCGTGCTGTGTTGCTCAATCCGGGCCGTCCCCCGGTGGGCCTCGATCGCGCTGCCGTCGGATGTGTGTCGCTCGACGGCGAGTCGCGTTGCGCGGCAACATCTTACGGAGAAGCGCATGTCTTTGGCGCCGTGCTCGAACCGCCCGAGGCCGCCCACCTAACTGCGCTCTATGAGCGCCATCGCTTTCCCGGAATGGAAGTCGTGCCATGTCCCCTGCACATCGTGGTCGACCGACCTGCGCAACCGACCAGGCGTCGCGGGCCGCGCGTCGACGTGCTTCCCTGCGGTGCCGAGTGCATGATCGAACATACATCTGCATCAAATGCCGTCCGCGGCCATCTTGTCATCGCATGCACGCAGAACCCGCGGTGTGCCGGCTCATTCTGCTACCATTGTCGGTCGCGCCTCCCCGCGGGCGCCACACGTTGTGGGCGTTGCGTGCGCGTGAGCGAACGCGACAATCCCGACGGAGTCAACCGCTACTTTTGTCGCCCGGCCCTCGTGGCATCGGCCAGCGAGAGCGACGTGGCAGGCACCGGCAGTCAGCCGGCGTGGCTCGCGAGCGGTGGCGGCGCCGACGCGCACTTGCTGCGCAATCGTGAGGTCACCGAAGAGGTGGCCGTGGACCAAATCGAACGCGTCTTGTCGATGGACCGGGTCGCTCAGCCGTGTTATCGATGCGGCGTGCCCCTGCTCAAGAGTACCGAGTGCAACGGGCTGTCTCATTGCGGCGTGCAAAAGTGCTACATGTGCGGACGCAACGCGCTGGCCGGCGGCCATCTAGAGCCTGACCATTGGGACGCCGACGGTTCCACGGGCTGTCCGCGCTATGACCACCACGCCTACTGGCGTCGCATGAAAGCCGCGCCTTTTGTCTGCTCTGAGGGGCGCTGCTACAACGACGCTGCCGAGTGCAAAGTGCCGGCCCATCGCGCCGGCATTGAAGCCATGCACGCAGAACGGCGCGTATGGCATGTGTGGGGCATGTTGCGCTCTCTGTCGCATGATCTCGGTGAGCGTGTCATGGCGCGTCTCAGGGCCGCCACAGGACCGGGCGACGACACACGGTCTCTGGTCCTGGCGCGTGTCGCCAAGACGCTTGCGCAAGAGGCCGCGCTCGCTCGATCCACCGGCGCCGGCAACGTGCGGCTCTAAAAACCTGCGCCGTCCCGAGAATGTGCCGACAAGAGACATTCTTGCTTCTTTCTTTTTTAAAATAAAAAAGGTTCTCTACCGCTTCCGAGGTTTCGCCCAACACACGCACGCACGCACACCCACCCACAGAAAAAAAAAGAAGACTGGTATGCCATCGCCTGTCTGGCGATAATCGCGCCTTTTTTGGGACGCATACTTTTTTCCCGTGCCGTCCCCCATTTTGCGAGCGGTGCATCTGCGGCTGCCGGACTCCCAAAGCGACGAAGTAAAACAAAGTCTTTTTTTCTGAAAAAAAAATAAAAGTCAAAGGGACGTCCCAAAAGTGTCTGCAGCCTGTTGTTTTGTCTGCTCAAAGATGGTGGACGTATGAGGAGCGAGACATGTCTGTCGTCGCCACTTTTATGTGTCCCCAAGCAGACAAAACAACAGACTGGGAGGGTCGTAAAAAATAGGTTCTGTAGGCCACCAAGTTTTCTACAAGCGAGAGAGCCAACGCACGAAAATAAACTTGGCGGGTCTATTTTTTTCGATCCTCCCATCGTAAACACTTTTTTGGGACATCCCTTTGACTTTTATTTTTTTTTCTGAAAAAAAATGACTTTGTTTTGCCTCCCCTTGGAGAGTTTAGGGGCGTCGGTTTCCTCGTATCTCTGTGTTTTTTTTCGTTTTTCTTTTTCGTTGGCTAATGCAAAAAGGTGGTTCGGGTACATCAAACTGCCGTGGTCTTGTCAGGAACTCGGTCCGCGTGGTCTCTCTTTTTCTTTTCTTTTTTTTTCATCTTCCTGTGCACGCACTCGTCGAGTTTTGTGCCTTGTATTTTTTTCGTCTTGCGCGGTGTCGAGTTGTGGAAAAAAAAGAGGCCTCGCACGCGCGCACGCTCTCTGCGTGACGGCAATGGGGCCAAGGGCAGCGGGGGACCAAAAGCAGCAGTCGCATCGGGTTGCGCATGCGCCGGGAAGAAGCCAAAAAAAAAGAGTCGGCAGCAAAGACAAGAAAGGTCGAAATCGACGCTGGCACGAGGCGAAAGAAAAAAAAAAGACCGACAGAAAATTGTACAAGGAGAACAGGTCGGTGCCGACGACGACAGCGACGATAAGAGCAAGAACACGACTGATCGCCCCCCCCCCCCAAGAGAATGACGCATCGAGACCGAGAAGAAGAGGAACGCCGCCGTCATCACCAAATGCGCGCAGCCTCGGCACCTGGCAAGCGCGCCGACACACTGAAGAGTGCAGACAACGACCATGGCCACGACGATGGCGACAATGGTCACGAGTGGGATCCGCATGCCGATCATGAGATCCATTCACTGCGGGCCGGCACGGTCAAGTTTACGCTTTCCGATGGGCACGACCCCGATGCCGTCGTCGATCTGCGCATGGGTCCGGATCTCGGCATTTACGCCAGCACGCGCTCAACGCGTCGGCGCGTCGACGCCGTGGCGCCAGGTCGGGCGGGCCTCTTGGCCGCCTATTCGACGTCGGGCACCATCGCCCCGATCGAATGGATGCACACCGAGGTCGATGACGAAACGGGCCAGGTCGTGGCTCTGCGTGTGGCGCGCGACGTCGCCGTACGCGATGTGGTGATCGAAAATCGCGGTTCGGTGGGGAGCGCCATCGATGCGTTGCGCGAGGCGGCTATCCTGGCGGACCGCCATAGGCTCACGTTGGAGCACAGCGTCGAGCGTCTCACTAGTGCCTTGGCAGAGTCAGAGGCGCGCTTCAGCGAGTTGGCGCGCCTGGTCGAGTCTATTCAGTACGTCCGCGTCGAGCACGAATCCAAGGAGACGGCCGACGCCTGGTCGTTCCGCACGTACAAGCGTTCCGACGGCACCGACGTGTTTGCCATAATGTCTGCCGACGGCGTGTCGCGCAGTGCTTTTTGCGCACGTCCCGCGCGACGCAACGCGATCGAAAACGCCGCGGCCGTCGCTGCCAACGACACGGCCCACTTTGCCCACACGACGACGGCGTCATCTACGCCAGACGGTGGCAGCAACGAGAAGCCGACAGTCGCAGACGAGCAAGAGAACAAGAAAGACGACGACGCACCCGTGGTTCAAGAGCGAGCAATCACTGACACTGTCAATCGAGAGGAGCGTGAGCCAGAGATTGTGCCTGCCGATGGCCATGCAGCCGACAACGCCACTGTTCCAGACAACCCCGCCGCAGAAGCGCCCGCGGTGCCGACCGACAATGAGCCTGCCAGCGAGTCAGGAAAAGTCCCGATGCCTCTCCAAGAGCCCGTCGTGGCTGCGATTCCGGTTCCCACGACAGGCGGGGCAGCGCCCCTCCAACAGAGACGCACCAAGAGCGGGCGCAAAGCGCGCTCCACGGCGACGGCTCTCGAATCGCCGGGATCGCCTCCGGCCGCGCGCGGCGTCAAGACGCGCCAGAGCGCGCGCCGGGCCAGTTCTCATAGCGCATCGCTTGGCCAGGCCGAGTCTTTGGGTGCCGTCACCATGGCCAGACCTGTGGATGACGCTGACACGGCATAGACACGCCGCTTGACGACATTATCCTGTCGATACTCTGCGGTCGGGTCCTAGAGATTGTCTTGCCTTTTTGTTGTTGTTGTTGTTGTTGTTGTTGTTGTTGGCCATTTCCCTATTCACGCATCTCGTGCCGGCCTGTGCGACTTTGCGCACGCTTTTGTCAGTGGTGTTTCCGTTTTCTTTTTTCCTCAAAACAAATAAAAAAACACAAAGGAACAAAAAAAGGCGCTTTCTTTTGTCTGGCACACAAAGGAAAAATGCGATGACCCACAGGGAAAAAGGGGAAAACAAAAAAAAAGTGCGCGAGGCGCCACGCC\",\n          \"ACACTTGTGTATTATTTTATGTTGTTTAGTACCGTTATCATTACTCCGGTACTATATTATGTTTATCGTATTGTTCGTGATGTTTTAGCTTATCAAGGAAGAGAATCGTTTATTAATCAATGTGCCTATATTTTTAAAGAAAATGAATCATTAGTTAAAAATACTTTACATTCTGTATTTGACGTTGTTAACAATGTTGAGCGAAATATTTTTGATTATTTTAATAAAAATCAATTTTATGGCTCTATAGGTTATGCATGTGACAGAATATTTGATATTTTCAAAACTTATTTTACTCACATAAACAACGTCAATAATTCATGTGGTGAATATTTCAGAAATACTAATGTTCCTTATTATACTCCAGTATATAATAACTGCACATATCAAGATTCTAATCTTACTAATTCATTAGTGTCGGATGGTATTGTTGTAAATGACACTTTTACGTCTGAAAATTTATCTTCTTATTGTACTGGATGTACTCCAGTAGATGGTTCTGTTACTTGTAATTTTTCAAATGATTTAAATAATGAACAAACTGTTTTACCAAATTATCAATCGGGACAATCACTAAGAAACTCGAGAAAAAATATTAGGAATGGTCGTGGTTCTAGAAATTTAAGAAACAAAAAAGTTAGATTTGTGCCTAATAAATCTAATACATCAACAATAGTTAATACATCTTCTAATCTTGTAGATGTACCACTATATAGTGAAGTAAGTTCGCAAGATAATGGAGTAAGTTCACAAACTAATGATGATGTTTATACTCTTGTAGGCGATAAATATGCTTCCGTTGTAAAAGATCTTGGACTTGATGATAAATATATTGAAAGTTTTAATAAATGTATTCAAACTATGAAAAATAATCCTGATATGAAATCAGAAGATCTTATAAATCAAGTATTTGATACAATGCTTTCAGGTGTTGGATTAAAAACTGATTGTTCATCACAATCCGAAGGTGTAACTATTCAAGATTGTGAATTTGATGATTAATATAATTAGTTTAAAATAAAAATTTGATTTATTATTGTTCTGCAAATAATAATAAAATCAAATAATTTAAAGCAGAACTTATAAATAATAATATAATGTGTGGAATTTTTTGTTTGTTAAAATATGATGGAGAAGAAATTGACTTGGATAAAGCAATTATGTGTTTAAACAAATTATCAGCTCGTGGTCCAGATTCTCTTTCATATAAATATATTAAAGTTAGTGAAAAAGTGAGATTATTTTTAGGATTCACAAGATTAGCAATCATGGATACTTCTTCAGCTGGGATACAACCATTTGAAAATGAGAACGATTATGTTATTTGTAATGGAGAAATATATAATTTTAAACAACTCGTGGAAAAATACGAAATAGAAATGTTATCACAATGTGACTGTGAGATTATTTTACCTCTTTTTAAAAAAGTAGGATTTGTTAATATGATAAGTGAAGAATTAGATGCAGAATTTGCTACTGTATTATTTGATTCTATTAACAATAAACTTTATGCAGCCAGAGATAGATATGGAGTTAGACCATTGTACTATGGTTATAATAAAACCGAAAAAACTATTGCATTTGGTTCAGAATTAAAATCATTACATCCAATTATGGAATATATTGAACAACTTGAACCAAATATGTATACTGAAATTGATCTTTTACAAATTCCAGATCTGAGTAAATTTACAAGTACTTTACATCAATATTATAATTTTGACAAACTTATTGCACAACGAGACAATAACAATGTTTCCAACATAAAAACTAAAATTCATGATATTTTTATAAGAGCAGTTAAAAAACGTCTTGAATCAGATAGACCTATTGGCTTTTTATTATCAGGAGGTTTAGATTCAAGTCTAATTGTTTCTATTGCAGCAAAAATATTGGGTCCTGAAAAAATTACATGTTTTTCAATCGGATTACCAGGAAGTCCTGATGTGGAAGCAGCTAAATGTGTAGTAAAATATCTTGGAATTACACAACATCATATCGTTCCATTTTCTATTGAACAAGGTATAGAACAAATACCAACAGTTATAAGTACAATTGAAACATATGATATCACAACTATTCGTGCATCTACTCCACAATATATTATGGCAAAGTATATTCATGATAATACAAATATTAGAGTTTTATTATCTGGAGAAGGTTCTGATGAAATTCATGGTAGTTATAAATATATGAGATTTGCTCCAAATAGTGAAGAATTTCATTGGGAAACCATAAGATTGTTGAAGGAACTTTGTTATTTTGATAATAAAAGAACTGATCGATCTATGGCTGATAATGGTTTAGAAGTAAGAGTACCTTTTCTTGATCAAGAATATGTCGAATATATAACTAGTATTGATCCTTCCTTATTAATGTATAGAAAAGATTATCTCGAAAAAAAAATTATTCGAGATGCTTTCATTGGATATTTGCCTGATGAAGTTTTATATCGACCAAAAGAAGCTTTCTCTGATGCGGTATCAAGTCAGGATATTAATTGGTATAAAAATATTCAAGAAATAGCCAATAGTTATATCACTGACATAGAATTAGAGACTAATCCGTATATTCATAATAGACCAGAAATAAAAGAAGCGCTTTATTATCGCAAAATATTCGATACTATATATCCGGGCAGAGACAATGTTCTCCCTCATTATTGGTTACCACGTTTTCAAACAAGTAAAATATCTGATCCATCAGCAACTATTTTGGCTGATTAATATTAAATAAATTAAAAAAATTGATTTATTAATTTATTTAATAATAAATTTAATGATATATGGATATTATTTCAATAAATAATTTTCGGCGGCAAAATGAATAAAAGAAATTATGAAAATTTTTCTACTCCTCAAATAAAAAGTAAGATAGTAGATAATAGGACTTATAAAAGGTCCAGATCAGAAAATGCTGTTACAAGTTATAAAGTTATTGTGAGAAATGATGATGATCCTCATGTTTTTATGAACACACAATATAAGTACGTAAAAATTGGTAATTTTATTTATAAAACAAAACCATATCATATTAAACATTATGATACAGATGAATATATAAGTTTGTCAAAATCACAATATGAAAATATTAAATCATATATTTTTGAAGATAATTATATAACTATTTCTAAATTTGATAAAACATTCGACAAAATTAATACAGTAAGTATTAATATTTTTAGCAAAACAACTTATAATGTATATTTTGATCGTGAAGTAATTGTTAATTATATTCAAAAAAATCTTATTGATCATATTGTGACTCATGATCAAAAGTTTGATATTTTTTTTAAAAATATTCCTCTTGAAATTAAAATACACAATATTGATGATTTATATATTGGTATGATAACTGATTCAACACATATTGATTTTAAAAATATTGGATCAAATATTATTATACAGAATAAATGTTTGTATGTTAAAAATAAAGATGTTAAAATAAATGTTATTGATTGTATTGATGTGAGTATTGATTCTTCTAAAAATAATAGACTTCCTGTTATTATAGAAGAGGAAGATATAAGTAAACATGTTTTAAAAACATTCAACGATAGATTTACTAATGATACTATAAAAACATTAACAATTAAAGATTATGAATATACTGTGAGTATACATATTTCAAGGGCAAATAAACAAACCAAATATAAAAATATTTATAAATTGTTAAAAGATGGTAGTGATTTTATTATTAAGTCACTAAATGAAAATATAATAATTACAAAAGGTAGTGAAACAGCTACTAAAATATGTTTTAACTGTACTGGTAAAAATTTAAAAGCAAATTATATAGTTTCATATAATGATTTAACATCTTCCATATATAATGGATTTGATAAAATAACAACCGATAAAGAGTTAGAATGTATAGTTGATAATAAAAAATTTTTATTAAATATTGAATATATTTATCCCAAAGCTACAAAAAATGTGGCTTATCATATTGATAGAAAAACAAAAATTATATTTAATACTGATATTAAATCAAATACTATTATCGTCCAAAATAAAAAATCTTATAACATTAAAACCGTTGATTTTAAAATTACTGAAAATAAAAAATCCATTTTCTTTTTTACTCAGGAAGATAAAGCCGTATTATTTGATAATTCTAAACTAGAAAAAATAATAAAAAATAAATGCACACAAATTATAGCAGTCGGATTTAAACAAGTTATTACATATAATGGTAAAAAATATACAATAACTTGTAAAAAAATAGAATTTGAGGATGATATTACTTCAAAAAGATATCCTTTCAGTGGTGAAATAACCAAAAATACAAAAATTAAATTTGTTTTTCCAAAAAATTCAAAAAATATGTTAACTTGTAGTAACACATCAAAAATATTAAGTAATCCTATTCAAGAACTTGAAAAACATGTTGGTGGTATTTCTGAAGAGTTAAAAAAAGTAATTAGAACAATTTGTTTATCAAGAGGAAAATTAAGAGACGAATATCAATCAAGAGGTTTAAAACCAGTTAAAGGTATTCTTTTTCACGGACCTCCTGGAACAGGAAAAACATCTGTAGCACGGAATTTAGGAAAATTACTCGGATGCGAGGGAGAACAATTTAGATTAATGTCAGGACCAGAAATATTTAATAAATATGTCGGAGAATCTGAATCAAATGTTAGGGAAATATTTAAACCAGCTAAAGATGCTTGGAAAAAATATGGTGATAAGGCACCTATATATATGGTGGTTATTGATGAAATTGATGCTATGTTACCTTCAAGAGAAGGAAATAGTTCAAGTCCAGTAAGAGATTCCGTGGTCAATCAATTTCTAGCGGAAATGGATGGTTTGGAACAGTTTAATAATTTCGTTTGTATTGGCATAACTAATAGATTAGAATTATTAGATCCTGCAGTAATAAGATCGGGAAGATTTGGCGTTCACATCAAAATAGATTTACCTTCAAAAGAAGGTCGTGTCAAGATTTTTGAAATTCACACAAATAAATTATCTGACAAATTAAGTAAAATAAAT\",\n          \"TTGTTGCCGGTTTCGCCTCGTTGGCGCTAATCTATCTATGCGCATTCGCGACCAGACATCGGCCGACCGGTTAAAAGTGTGCGCTGGGGCTGGGCTCTTGCCTTTATTTTCGAGTGGCAGCATTGGCCAAATAAAACTTGTAGGGCGGACGCCGCCGTCCATAAAAAGGCCCGCGACCGCTACGGACAATCTTTACTCGTGTTCCGCCACACGCCACAAAACCACACAGCCCGCATCCTGCGCCTTTGTTCCACCCGTCTCCCGACGCCTCATACACCGACGCCAGATGGCTACCGTAACCCCACCCCTCTCGGATTCGACTGCGCCCGCCGCCGCGACGCCCGCCTCGATCGTCGCCGGATCGGACCCGATTCCTGTGCCGTCTGCCTCGGTCGCCAAGTCGATGACGATCGCTGATCTGTGCGACTTTTTGCGCGCGCTGCCCGACCCCAAGGCCCCCATCCATGGTGCGTCAGAGGTCAAGAAGATGCCCGTCACCTTTACTCTGTCTGACGGGAACGTCAGCCAGACCGAAGGGTGGCAGGCATACTCTTTCAACATTGCTGATTTCAAGCCCGAACACATTGGCCACGATCTCGCGATATCCTTTGATGGCGAGAGCGCGCCGGCCGACGTCGTGCTGGCGGCCATGGAACGGTGTCTGGCCAAGCACGCGCACGTGCGTGTATGCGTAAACAGACGCCGGGCGGTCGTCGGCGAGCCCGCCGTCGCCATCCCGATCGACTGTCTCCCGTTCAAAAAGGACCCGACCACGATGGCGGACCTTGTCATGACCCGTGAGGCTCTGCGCGTGGCCGAGTCCCTCGCCGCGATGGGCACGTATGATGGCCGAGTGATCGCCTCCACCGGATCGACTCTGATGCCGCGTCATTGGGAAGAGACGCGCTTCTTTGTCGACGGCACCTTGCTCCAATCGCTCTCTGAGCGCCTACCGAACCTGCACAACCACGACATGTTGACGCTTTTTGTCGCGGTAGGGCCGACGCATGATGAGGCTGCCGAAAAGGGTCACGGCCGTCTCATCATTCGCATGCCAATCCCAGGTCTCACCTATGCGATGCTCGTCGATGCGTACGGACCGCAGTTGCCTCGGGCGTCCATTGTCAAGCATCTCCAGGACATGGCGGCTGCCAACGTTGCGTCCTCGACCGCAAAGCCGTCGGCGCCCTAAATACCCGGATGTGTTTTGTGCGCGTATGCGTCTGTCCCGGCGCCGCTCTGATCATGCCTGTTTTTCTTTTTTTTGTGTGTATGCGCTCGTTGTTGGTACATGCAAAAAAATGGAATACAACATATCCTTTATTCCCTTTTGATATTCCTTTTTTTTGCTGCGCATTTGCAATGTGGCGAGTGCTAGGCAACGGCCAGCCGGCTACAAGTCGCACACGAAAAAAGAGCCGGTGCGAATGAATGTAGAGGCAGTGTGCATAAACGGTGGGGACAACCAACTCGCATTCGCGGTCGGCTCTGCTGCATTCGCCACCCATGATACTGCTGCGCTTGAATTGTGTGCATTCCATTCGTGCCCACACTTTTTTTAATGCTCATCAACGACCTCATCCGGCTTTGGTCGGACGGCCAAAGGGTGTCGACTGGCCGACTCGGGCACGGCCGTTGGCCAGCGTCACATACACGAGGCCCAGAACAAAAAATGGTAGCAAGCGTAAATTTTATGAATACAAGAGGAAGAAAAGGGGCAACGAGTTGTTTACAGCGGCCTGTGGTAGTCTGGTCGGTCCATCTCGCCCTCGCCGTCGTCATTATTATTGTTGTTGTCATCATTCTCGTCGTCGCGATCATCATCTGTTTCAGTGTCGCTGTCGCTGTCGTCAGACACGTTGGACATGCACCCGTCGGCGCACGGCTCGCCGCTGGCCACAAATTCCTTGAGATAGTCGAGCGCCGGGCACGGTAGTAGGGATTTGCCATAGGCGTGGGCGCAGAGATCGGCATGCCGCCAGAGTGCGGCAAACACTGCCGCCTTGGGGTCGTCGTGGTCGTCGGCGCACTGCGACAGCAACTCTTCCACAGTCTCGGCGTCGCACACGCCGGCAAGGTAGTCGACGACGGCAACCTTGCCAAACTCGACGGCATCGCGCAGGGCGCCGCACGTGACCCGGCGGCACGAATCGTCGGGCGTGTTCATGTCCCTCTCATAGACTTTAATGATCACCTCGACTGCGGCAACGTCATTCTCCTCGACGGCAGTCGTCAGCGCTCTCTCGACGTCATCCTCTTTGGCCAGGCACGCGATGAGGACGCCGACATCACCCGGACAGTTGTCAGATGCCGCTCTGTAGAGGAGCGCGTCCACAGCAACGCTGTGCAGGCTGGCCAACGGGCCAGCGATTGCGTTGCACAGTCGGATAAAGGCAAATCCGCTGCCAAAGAGTCGGACCATGGCCAACTCGACCTGGTATGTCGAAGGCGTGGCCAGGGCTTTGACCAGGTCGCCAAAGGCGTCGTCGGTCAGGGCCACGTCGACGATCTCGGCGCATGCGCCAATGTCCTCTTGGTCACAGGGGATGCCGTTCCACCGGTCGCCGGCAACGAACCCCGCCGGGGCGATGGGCGACTCGCTGCATACGCGCTTGGGCGAGGGCGTCGCGATGTCGCCGTCGGCATGCTTGTTGATGTCGCCAAACAAAGGCTCCAGAGGACGCTTGCCGAGGGTAGTCATGTTTTTTCTGGTCGTCTCTTGGGTCGTCTGCCGGCCTTGTAGTAGTGTTGACGTGGCTCCTTTTGCCGTCGTTGATAATGATGGTAATAATAAAACTCTCTGAGCGTCCACCCTTTTTGTACCCAATCTTGTGGATAATGTCGACATGTTAAATGTAGACAAACAACCAATGTGCAACACCGAGTGTCGACTCGGCCAAAAAAGGGCATGCCGAGCACCAATGGTGGGTGGGCTGAATCTGCTGCCAGAATTGTTTTTTGTTTATTGTATTCTCTTCGCTCGCCCTCTTGCTCATCCAAAAAGAAGGCCCTGCGATTTGTGGCAGGTCGACTGAAAAAATGAAAGAGGACACCACAAGTAGGGGCGGTAGCCAACAATGAATCTGGCGCCAGATTGGCCATAGGCCACAGGCCCAACCAAACCCGCGGGGCACACCCCGAGAGAGGGTCAAGGATTGCCTTTGTCGGCATGAGCAGACCGTCTGCGCAAGGACAGAGACGCAGAATGGAAAAAGGAGCAGGCGCGCCTCTGCCGCCGTCGCCGTGTGACCAGCCCAGGTAGTGGCGGGCTGCTGCAACTGGCGTGCGTCTTTGCAATCACACCAAGAGGGTGCTCCCAGTCTAAAAAACCTAGGCGACATACTTGCACAGGCACCTTTCTGTGGCCGGTGCATGTGACAAAACCCGTTATCGACAGCAGCAGGCACACAACAAGGGACATGAAAGAGTTTTTTAGGATGGAAGTTTAATGGAAAACAAGACGATTATTATACAGAGAGCGCCGAGAGATCGCTGGTGTGCGGTCGCCAGTGTGGCGCCTCGGTGACGCAGGCGCCATTGTCTGGCTGCGAGGCCGGGCACACGCCACGGCATCCGTCCCCCTTGTGGATCACGTCGTGCAAAAAGTCGCGCGCGGCGCCGGGTTCAACGTCGTCGGCGAGGTCGTGCGCACAGAGGTCAGCGTGCTCCCACACGGCCTCAAAGCCCTTGATGTCATAGTTGCGACTGGCGCAGTGGAGCAGGACCCGCCGCAGGGCCTGACCATCGCACCGTGGCGCCAGGTCGTTGATTATATTGATCGCGTCGCGCTTGGTCGCCTTGCCGAGAGAGGCCTCGACGAGGCGCTTGTAGACCACCGGTGAGATCTCGGGCGACGACTCGCAGGCGTCGACGATTGCCAGGACGCCCTCGCGGTCGCCTTGCTTGATGAGTCGCGCCAGCACGCAGGTGATCTCAAACTCGCTACAGACGCGATCGACGAGGATAGCCACCGTGCCGTGTACGCACTGCGACGCAGCCTCCTGAAGCACCTCGTCGGGTCTGTTGATGCGTCCGCCGGCGGCATTGCAAATACGGGCGACGGCAGTGGGCTTGTCGATGACTCGATAGAGGGCTTGCTCGATCTGTTTCTTCGAGGCACCGGGAATAGCGTGCACAAGCGTCTTAAAGCCCGCACTGGCCGTGACCGCCAGTAGGTGGACGAGCGTCTCGTAAAAGTCGGTCCCTACTTCTGAGCAGTCCCCGAGATCCGTCCCAGCGGCATCGCGGCGCACTCGCTTGGCCGCTGGCGTCCCGATGCCGGCGTCGCGGCGGCGTTGTTGACATTCATCCAGGTGGCGCTTGAACATGTTGGTTTTTCTTTTCTTTTTGGATGGCGGTTGGGTTTTGTCCTTGGCGGCCTGTGGCGGTGGGCTGGTGGTATGTACAACGACAAAAGGGCCGGTTCTTTATTGCAATGCGCAATTTGCCTATTGGTTGCATCACCGGCAAAGACGAATCCTACCTATGTCGACACCTTTAACCTTTTTTAGCATAAATTTGCATACCGGCGCCGATATTTGGGGGGAGGGGAGAGGATGGCCCGAGTCTGCCCTGTCCTATCGTGCACGTTGCAGGACCGGCCCCATCTCTGTCTTGTTTCTGCCACAGTCATCACCGGCGATTGTGTCGGACGTCATGGGAGGGCCGCTCCGGCCTCGCTGTGTTGAGCAAGTCTTGCGCATCTTTGGCACAAGGAAAAAAATAGACTGCAAGACCAACAGGTTTGTCGAGCAGAGTGGATGCCCATGGGAAAAGGTCTCTCTTTATGGCAGATGCTAATGAATAATTCAATAAAGGAAAGAAATGTGCCGCCCGACGGCGCACTAGGGCCTGCCAAAGACACGGTTTGCGTGGTCGCCACTCTGCGCGGTCTCGACGGCCACGGTCGCGGCAGTGGCCAACTGTTGTAATCGAGAGGCATAGGGCGTGCCTGCAGCAGCGGCGGCCAGTGCCGCCATCCGTCGCGCCAGATCGAGGGG\"\n        ],\n        \"semantic_type\": \"\",\n        \"description\": \"\"\n      }\n    },\n    {\n      \"column\": \"label\",\n      \"properties\": {\n        \"dtype\": \"number\",\n        \"std\": 7,\n        \"min\": 0,\n        \"max\": 24,\n        \"num_unique_values\": 25,\n        \"samples\": [\n          2,\n          19,\n          21\n        ],\n        \"semantic_type\": \"\",\n        \"description\": \"\"\n      }\n    }\n  ]\n}"
            }
          },
          "metadata": {},
          "execution_count": 37
        }
      ],
      "source": [
        "df_train"
      ]
    },
    {
      "cell_type": "code",
      "execution_count": null,
      "metadata": {
        "id": "zPQHuSAz3mAy",
        "colab": {
          "base_uri": "https://localhost:8080/"
        },
        "outputId": "94387616-ba22-49be-89ad-7859f87e83d8"
      },
      "outputs": [
        {
          "output_type": "execute_result",
          "data": {
            "text/plain": [
              "5000"
            ]
          },
          "metadata": {},
          "execution_count": 38
        }
      ],
      "source": [
        "len(df_train[\"sequence\"][0])"
      ]
    },
    {
      "cell_type": "code",
      "source": [
        "batch_size = 32"
      ],
      "metadata": {
        "id": "pxtIVVhHPeDU"
      },
      "execution_count": null,
      "outputs": []
    },
    {
      "cell_type": "code",
      "execution_count": null,
      "metadata": {
        "id": "-U0ZTsFS2Tk5"
      },
      "outputs": [],
      "source": [
        "encoding_map = {\n",
        "    \"A\": [1, 0, 0, 0],\n",
        "    \"T\": [0, 1, 0, 0],\n",
        "    \"C\": [0, 0, 1, 0],\n",
        "    \"G\": [0, 0, 0, 1]\n",
        "}"
      ]
    },
    {
      "cell_type": "code",
      "execution_count": null,
      "metadata": {
        "id": "DmkZzsaX2WoJ"
      },
      "outputs": [],
      "source": [
        "def encode_sequence(sequence):\n",
        "    encoded_seq = [encoding_map[base] for base in sequence if base in encoding_map]\n",
        "    return torch.tensor(encoded_seq, dtype=torch.float).t()\n",
        "\n",
        "def pad_sequences(sequences, target_length):\n",
        "    padded_sequences = []\n",
        "    for seq in sequences:\n",
        "        seq_len = seq.size(1)\n",
        "        if seq_len < target_length:\n",
        "            left_padding = (target_length - seq_len) // 2\n",
        "            right_padding = target_length - seq_len - left_padding\n",
        "            padded_seq = torch.nn.functional.pad(seq, (left_padding, right_padding))\n",
        "        else:\n",
        "            padded_seq = seq[:, :target_length]\n",
        "        padded_sequences.append(padded_seq)\n",
        "    return torch.stack(padded_sequences)\n",
        "\n",
        "def collate_fn(batch):\n",
        "    sequences, labels = zip(*batch)\n",
        "    sequence_lengths = [seq.size(1) for seq in sequences]\n",
        "    target_length = int(np.median(sequence_lengths))\n",
        "    padded_sequences = pad_sequences(sequences, target_length)\n",
        "    labels = torch.stack(labels)\n",
        "    return padded_sequences, labels"
      ]
    },
    {
      "cell_type": "code",
      "execution_count": null,
      "metadata": {
        "id": "UucCNYDD1_Az"
      },
      "outputs": [],
      "source": [
        "class DNASequencesDataset(Dataset):\n",
        "    def __init__(self, dataframe):\n",
        "        self.data = dataframe\n",
        "        self.data = self.data[~self.data['sequence'].str.contains('N')].reset_index(drop=True)\n",
        "        self.encoded_sequences = [encode_sequence(seq) for seq in self.data['sequence']]\n",
        "        self.labels = torch.tensor(self.data['label'].values, dtype=torch.long)\n",
        "\n",
        "    def __len__(self):\n",
        "        return len(self.labels)\n",
        "\n",
        "    def __getitem__(self, idx):\n",
        "        return self.encoded_sequences[idx], self.labels[idx]"
      ]
    },
    {
      "cell_type": "code",
      "execution_count": null,
      "metadata": {
        "id": "NiOt5SnM2TB-"
      },
      "outputs": [],
      "source": [
        "train_dataset = DNASequencesDataset(df_train)\n",
        "dev_dataset = DNASequencesDataset(df_dev)\n",
        "test_dataset = DNASequencesDataset(df_test)\n",
        "\n",
        "train_loader = DataLoader(train_dataset, batch_size=batch_size, collate_fn=collate_fn, shuffle=True)\n",
        "dev_loader = DataLoader(dev_dataset, batch_size=batch_size, collate_fn=collate_fn, shuffle=False)\n",
        "test_loader = DataLoader(test_dataset, batch_size=batch_size, collate_fn=collate_fn, shuffle=False)"
      ]
    },
    {
      "cell_type": "markdown",
      "source": [
        "#Model"
      ],
      "metadata": {
        "id": "I1wcoXJDNvQQ"
      }
    },
    {
      "cell_type": "markdown",
      "metadata": {
        "id": "vI0xJvw1SnDm"
      },
      "source": [
        "KAN Linear"
      ]
    },
    {
      "cell_type": "code",
      "execution_count": null,
      "metadata": {
        "id": "pTu2V80lvv6t"
      },
      "outputs": [],
      "source": [
        "import torch\n",
        "import torch.nn.functional as F\n",
        "import math\n",
        "\n",
        "\n",
        "class KANLinear(torch.nn.Module):\n",
        "    def __init__(\n",
        "        self,\n",
        "        in_features,\n",
        "        out_features,\n",
        "        grid_size=5,\n",
        "        spline_order=3,\n",
        "        scale_noise=0.1,\n",
        "        scale_base=1.0,\n",
        "        scale_spline=1.0,\n",
        "        enable_standalone_scale_spline=True,\n",
        "        base_activation=torch.nn.SiLU,\n",
        "        grid_eps=0.02,\n",
        "        grid_range=[-1, 1],\n",
        "    ):\n",
        "        super(KANLinear, self).__init__()\n",
        "        self.in_features = in_features\n",
        "        self.out_features = out_features\n",
        "        self.grid_size = grid_size\n",
        "        self.spline_order = spline_order\n",
        "\n",
        "        h = (grid_range[1] - grid_range[0]) / grid_size\n",
        "        grid = (\n",
        "            (\n",
        "                torch.arange(-spline_order, grid_size + spline_order + 1) * h\n",
        "                + grid_range[0]\n",
        "            )\n",
        "            .expand(in_features, -1)\n",
        "            .contiguous()\n",
        "        )\n",
        "        self.register_buffer(\"grid\", grid)\n",
        "\n",
        "        self.base_weight = torch.nn.Parameter(torch.Tensor(out_features, in_features))\n",
        "        self.spline_weight = torch.nn.Parameter(\n",
        "            torch.Tensor(out_features, in_features, grid_size + spline_order)\n",
        "        )\n",
        "        if enable_standalone_scale_spline:\n",
        "            self.spline_scaler = torch.nn.Parameter(\n",
        "                torch.Tensor(out_features, in_features)\n",
        "            )\n",
        "\n",
        "        self.scale_noise = scale_noise\n",
        "        self.scale_base = scale_base\n",
        "        self.scale_spline = scale_spline\n",
        "        self.enable_standalone_scale_spline = enable_standalone_scale_spline\n",
        "        self.base_activation = base_activation()\n",
        "        self.grid_eps = grid_eps\n",
        "\n",
        "        self.reset_parameters()\n",
        "\n",
        "    def reset_parameters(self):\n",
        "        torch.nn.init.kaiming_uniform_(self.base_weight, a=math.sqrt(5) * self.scale_base)\n",
        "        with torch.no_grad():\n",
        "            noise = (\n",
        "                (\n",
        "                    torch.rand(self.grid_size + 1, self.in_features, self.out_features)\n",
        "                    - 1 / 2\n",
        "                )\n",
        "                * self.scale_noise\n",
        "                / self.grid_size\n",
        "            )\n",
        "            self.spline_weight.data.copy_(\n",
        "                (self.scale_spline if not self.enable_standalone_scale_spline else 1.0)\n",
        "                * self.curve2coeff(\n",
        "                    self.grid.T[self.spline_order : -self.spline_order],\n",
        "                    noise,\n",
        "                )\n",
        "            )\n",
        "            if self.enable_standalone_scale_spline:\n",
        "                # torch.nn.init.constant_(self.spline_scaler, self.scale_spline)\n",
        "                torch.nn.init.kaiming_uniform_(self.spline_scaler, a=math.sqrt(5) * self.scale_spline)\n",
        "\n",
        "    def b_splines(self, x: torch.Tensor):\n",
        "        \"\"\"\n",
        "        Compute the B-spline bases for the given input tensor.\n",
        "\n",
        "        Args:\n",
        "            x (torch.Tensor): Input tensor of shape (batch_size, in_features).\n",
        "\n",
        "        Returns:\n",
        "            torch.Tensor: B-spline bases tensor of shape (batch_size, in_features, grid_size + spline_order).\n",
        "        \"\"\"\n",
        "        assert x.dim() == 2 and x.size(1) == self.in_features\n",
        "\n",
        "        grid: torch.Tensor = (\n",
        "            self.grid\n",
        "        )  # (in_features, grid_size + 2 * spline_order + 1)\n",
        "        x = x.unsqueeze(-1)\n",
        "        bases = ((x >= grid[:, :-1]) & (x < grid[:, 1:])).to(x.dtype)\n",
        "        for k in range(1, self.spline_order + 1):\n",
        "            bases = (\n",
        "                (x - grid[:, : -(k + 1)])\n",
        "                / (grid[:, k:-1] - grid[:, : -(k + 1)])\n",
        "                * bases[:, :, :-1]\n",
        "            ) + (\n",
        "                (grid[:, k + 1 :] - x)\n",
        "                / (grid[:, k + 1 :] - grid[:, 1:(-k)])\n",
        "                * bases[:, :, 1:]\n",
        "            )\n",
        "\n",
        "        assert bases.size() == (\n",
        "            x.size(0),\n",
        "            self.in_features,\n",
        "            self.grid_size + self.spline_order,\n",
        "        )\n",
        "        return bases.contiguous()\n",
        "\n",
        "    def curve2coeff(self, x: torch.Tensor, y: torch.Tensor):\n",
        "        \"\"\"\n",
        "        Compute the coefficients of the curve that interpolates the given points.\n",
        "\n",
        "        Args:\n",
        "            x (torch.Tensor): Input tensor of shape (batch_size, in_features).\n",
        "            y (torch.Tensor): Output tensor of shape (batch_size, in_features, out_features).\n",
        "\n",
        "        Returns:\n",
        "            torch.Tensor: Coefficients tensor of shape (out_features, in_features, grid_size + spline_order).\n",
        "        \"\"\"\n",
        "        assert x.dim() == 2 and x.size(1) == self.in_features\n",
        "        assert y.size() == (x.size(0), self.in_features, self.out_features)\n",
        "\n",
        "        A = self.b_splines(x).transpose(\n",
        "            0, 1\n",
        "        )  # (in_features, batch_size, grid_size + spline_order)\n",
        "        B = y.transpose(0, 1)  # (in_features, batch_size, out_features)\n",
        "        solution = torch.linalg.lstsq(\n",
        "            A, B\n",
        "        ).solution  # (in_features, grid_size + spline_order, out_features)\n",
        "        result = solution.permute(\n",
        "            2, 0, 1\n",
        "        )  # (out_features, in_features, grid_size + spline_order)\n",
        "\n",
        "        assert result.size() == (\n",
        "            self.out_features,\n",
        "            self.in_features,\n",
        "            self.grid_size + self.spline_order,\n",
        "        )\n",
        "        return result.contiguous()\n",
        "\n",
        "    @property\n",
        "    def scaled_spline_weight(self):\n",
        "        return self.spline_weight * (\n",
        "            self.spline_scaler.unsqueeze(-1)\n",
        "            if self.enable_standalone_scale_spline\n",
        "            else 1.0\n",
        "        )\n",
        "\n",
        "    def forward(self, x: torch.Tensor):\n",
        "        assert x.size(-1) == self.in_features\n",
        "        original_shape = x.shape\n",
        "        x = x.reshape(-1, self.in_features)\n",
        "\n",
        "        base_output = F.linear(self.base_activation(x), self.base_weight)\n",
        "        spline_output = F.linear(\n",
        "            self.b_splines(x).view(x.size(0), -1),\n",
        "            self.scaled_spline_weight.view(self.out_features, -1),\n",
        "        )\n",
        "        output = base_output + spline_output\n",
        "\n",
        "        output = output.reshape(*original_shape[:-1], self.out_features)\n",
        "        return output\n",
        "\n",
        "    @torch.no_grad()\n",
        "    def update_grid(self, x: torch.Tensor, margin=0.01):\n",
        "        assert x.dim() == 2 and x.size(1) == self.in_features\n",
        "        batch = x.size(0)\n",
        "\n",
        "        splines = self.b_splines(x)  # (batch, in, coeff)\n",
        "        splines = splines.permute(1, 0, 2)  # (in, batch, coeff)\n",
        "        orig_coeff = self.scaled_spline_weight  # (out, in, coeff)\n",
        "        orig_coeff = orig_coeff.permute(1, 2, 0)  # (in, coeff, out)\n",
        "        unreduced_spline_output = torch.bmm(splines, orig_coeff)  # (in, batch, out)\n",
        "        unreduced_spline_output = unreduced_spline_output.permute(\n",
        "            1, 0, 2\n",
        "        )  # (batch, in, out)\n",
        "\n",
        "        # sort each channel individually to collect data distribution\n",
        "        x_sorted = torch.sort(x, dim=0)[0]\n",
        "        grid_adaptive = x_sorted[\n",
        "            torch.linspace(\n",
        "                0, batch - 1, self.grid_size + 1, dtype=torch.int64, device=x.device\n",
        "            )\n",
        "        ]\n",
        "\n",
        "        uniform_step = (x_sorted[-1] - x_sorted[0] + 2 * margin) / self.grid_size\n",
        "        grid_uniform = (\n",
        "            torch.arange(\n",
        "                self.grid_size + 1, dtype=torch.float32, device=x.device\n",
        "            ).unsqueeze(1)\n",
        "            * uniform_step\n",
        "            + x_sorted[0]\n",
        "            - margin\n",
        "        )\n",
        "\n",
        "        grid = self.grid_eps * grid_uniform + (1 - self.grid_eps) * grid_adaptive\n",
        "        grid = torch.concatenate(\n",
        "            [\n",
        "                grid[:1]\n",
        "                - uniform_step\n",
        "                * torch.arange(self.spline_order, 0, -1, device=x.device).unsqueeze(1),\n",
        "                grid,\n",
        "                grid[-1:]\n",
        "                + uniform_step\n",
        "                * torch.arange(1, self.spline_order + 1, device=x.device).unsqueeze(1),\n",
        "            ],\n",
        "            dim=0,\n",
        "        )\n",
        "\n",
        "        self.grid.copy_(grid.T)\n",
        "        self.spline_weight.data.copy_(self.curve2coeff(x, unreduced_spline_output))\n",
        "\n",
        "    def regularization_loss(self, regularize_activation=1.0, regularize_entropy=1.0):\n",
        "        \"\"\"\n",
        "        Compute the regularization loss.\n",
        "\n",
        "        This is a dumb simulation of the original L1 regularization as stated in the\n",
        "        paper, since the original one requires computing absolutes and entropy from the\n",
        "        expanded (batch, in_features, out_features) intermediate tensor, which is hidden\n",
        "        behind the F.linear function if we want an memory efficient implementation.\n",
        "\n",
        "        The L1 regularization is now computed as mean absolute value of the spline\n",
        "        weights. The authors implementation also includes this term in addition to the\n",
        "        sample-based regularization.\n",
        "        \"\"\"\n",
        "        l1_fake = self.spline_weight.abs().mean(-1)\n",
        "        regularization_loss_activation = l1_fake.sum()\n",
        "        p = l1_fake / regularization_loss_activation\n",
        "        regularization_loss_entropy = -torch.sum(p * p.log())\n",
        "        return (\n",
        "            regularize_activation * regularization_loss_activation\n",
        "            + regularize_entropy * regularization_loss_entropy\n",
        "        )\n",
        "\n",
        "\n",
        "class KAN(torch.nn.Module):\n",
        "    def __init__(\n",
        "        self,\n",
        "        layers_hidden,\n",
        "        grid_size=5,\n",
        "        spline_order=3,\n",
        "        scale_noise=0.1,\n",
        "        scale_base=1.0,\n",
        "        scale_spline=1.0,\n",
        "        base_activation=torch.nn.SiLU,\n",
        "        grid_eps=0.02,\n",
        "        grid_range=[-1, 1],\n",
        "    ):\n",
        "        super(KAN, self).__init__()\n",
        "        self.grid_size = grid_size\n",
        "        self.spline_order = spline_order\n",
        "\n",
        "        self.layers = torch.nn.ModuleList()\n",
        "        for in_features, out_features in zip(layers_hidden, layers_hidden[1:]):\n",
        "            self.layers.append(\n",
        "                KANLinear(\n",
        "                    in_features,\n",
        "                    out_features,\n",
        "                    grid_size=grid_size,\n",
        "                    spline_order=spline_order,\n",
        "                    scale_noise=scale_noise,\n",
        "                    scale_base=scale_base,\n",
        "                    scale_spline=scale_spline,\n",
        "                    base_activation=base_activation,\n",
        "                    grid_eps=grid_eps,\n",
        "                    grid_range=grid_range,\n",
        "                )\n",
        "            )\n",
        "\n",
        "    def forward(self, x: torch.Tensor, update_grid=True):\n",
        "        for layer in self.layers:\n",
        "            if update_grid:\n",
        "                layer.update_grid(x)\n",
        "            x = layer(x)\n",
        "        return x\n",
        "\n",
        "    def regularization_loss(self, regularize_activation=1.0, regularize_entropy=1.0):\n",
        "        return sum(\n",
        "            layer.regularization_loss(regularize_activation, regularize_entropy)\n",
        "            for layer in self.layers\n",
        "        )"
      ]
    },
    {
      "cell_type": "code",
      "execution_count": null,
      "metadata": {
        "id": "KrkFFjPB5VkK"
      },
      "outputs": [],
      "source": [
        "class Bilinear(nn.Module):\n",
        "    \"\"\"\n",
        "    Simplified Bilinear layer that uses a single Linear layer for pairwise interaction.\n",
        "    \"\"\"\n",
        "    def __init__(self, n: int, out=None, bias=False):\n",
        "        super().__init__()\n",
        "        if out is None:\n",
        "            out = n\n",
        "        # self.fc = nn.Linear(n, out, bias=bias)\n",
        "        self.fc = KANLinear(n, out)\n",
        "\n",
        "    def forward(self, x):\n",
        "        # Flatten input if necessary\n",
        "        return self.fc(x)\n",
        "\n",
        "# Simplified SELayer without TRL and Concater\n",
        "class SELayer(nn.Module):\n",
        "    \"\"\"\n",
        "    Simplified Squeeze-and-Excite layer.\n",
        "\n",
        "    Parameters\n",
        "    ----------\n",
        "    inp : int\n",
        "        Middle layer size.\n",
        "    oup : int\n",
        "        Input and output size.\n",
        "    reduction : int, optional\n",
        "        Reduction parameter. Default is 4.\n",
        "    \"\"\"\n",
        "    def __init__(self, inp, oup, reduction=4):\n",
        "        super(SELayer, self).__init__()\n",
        "        self.avg_pool = nn.AdaptiveAvgPool1d(1)\n",
        "        self.fc = nn.Sequential(\n",
        "            KANLinear(oup, inp // reduction),\n",
        "            # nn.Linear(oup, inp // reduction, bias=False),\n",
        "            # nn.SiLU(),\n",
        "            KANLinear(inp // reduction, oup),\n",
        "            # nn.Linear(inp // reduction, oup, bias=False),\n",
        "            nn.Sigmoid()\n",
        "        )\n",
        "\n",
        "    def forward(self, x):\n",
        "        b, c, _ = x.size()\n",
        "        y = x.view(b, c, -1).mean(dim=2)  # Global Average Pooling\n",
        "        y = self.fc(y).view(b, c, 1)\n",
        "        return x * y\n",
        "\n",
        "# Main SeqNN model\n",
        "class SeqNN(nn.Module):\n",
        "    \"\"\"\n",
        "    LegNet neural network for binary classification.\n",
        "    \"\"\"\n",
        "    __constants__ = ('resize_factor')\n",
        "\n",
        "    def __init__(self,\n",
        "                seqsize,\n",
        "                use_single_channel,\n",
        "                use_reverse_channel,\n",
        "                use_multisubstate_channel,\n",
        "                block_sizes=[256, 256, 128, 128, 64, 64, 32, 32],\n",
        "                ks=5,\n",
        "                resize_factor=4,\n",
        "                activation=nn.SiLU,\n",
        "                filter_per_group=2,\n",
        "                se_reduction=4,\n",
        "                final_ch=1,\n",
        "                bn_momentum=0.1):\n",
        "        super().__init__()\n",
        "        self.block_sizes = block_sizes\n",
        "        self.resize_factor = resize_factor\n",
        "        self.se_reduction = se_reduction\n",
        "        self.seqsize = seqsize\n",
        "        self.use_single_channel = use_single_channel\n",
        "        self.use_reverse_channel = use_reverse_channel\n",
        "        self.use_multisubstate_channel = use_multisubstate_channel\n",
        "        self.final_ch = final_ch\n",
        "        self.bn_momentum = bn_momentum\n",
        "        seqextblocks = OrderedDict()\n",
        "\n",
        "        in_channels_first_block = 4\n",
        "        if self.use_single_channel:\n",
        "            in_channels_first_block += 1\n",
        "        if self.use_reverse_channel:\n",
        "            in_channels_first_block += 1\n",
        "        if self.use_multisubstate_channel:\n",
        "            in_channels_first_block += 1\n",
        "\n",
        "        block = nn.Sequential(\n",
        "            nn.Conv1d(\n",
        "                in_channels=in_channels_first_block,\n",
        "                out_channels=block_sizes[0],\n",
        "                kernel_size=ks,\n",
        "                padding='same',\n",
        "                bias=False\n",
        "            ),\n",
        "            nn.BatchNorm1d(block_sizes[0], momentum=self.bn_momentum),\n",
        "            activation()\n",
        "        )\n",
        "        seqextblocks['blc0'] = block\n",
        "\n",
        "        # Building remaining blocks\n",
        "        for ind, (prev_sz, sz) in enumerate(zip(block_sizes[:-1], block_sizes[1:])):\n",
        "            block = nn.Sequential(\n",
        "                nn.Conv1d(prev_sz, sz * self.resize_factor, kernel_size=1, padding='same', bias=False),\n",
        "                nn.BatchNorm1d(sz * self.resize_factor, momentum=self.bn_momentum),\n",
        "                activation(),\n",
        "\n",
        "                nn.Conv1d(sz * self.resize_factor, sz * self.resize_factor, kernel_size=ks,\n",
        "                          groups=sz * self.resize_factor // filter_per_group, padding='same', bias=False),\n",
        "                nn.BatchNorm1d(sz * self.resize_factor, momentum=self.bn_momentum),\n",
        "                activation(),\n",
        "\n",
        "                SELayer(prev_sz, sz * self.resize_factor, reduction=self.se_reduction),\n",
        "\n",
        "                nn.Conv1d(sz * self.resize_factor, prev_sz, kernel_size=1, padding='same', bias=False),\n",
        "                nn.BatchNorm1d(prev_sz, momentum=self.bn_momentum),\n",
        "                activation(),\n",
        "            )\n",
        "            seqextblocks[f'inv_res_blc{ind}'] = block\n",
        "\n",
        "            resize_block = nn.Sequential(\n",
        "                nn.Conv1d(2 * prev_sz, sz, kernel_size=ks, padding='same', bias=False),\n",
        "                nn.BatchNorm1d(sz, momentum=self.bn_momentum),\n",
        "                activation()\n",
        "            )\n",
        "            seqextblocks[f'resize_blc{ind}'] = resize_block\n",
        "\n",
        "        self.seqextractor = nn.ModuleDict(seqextblocks)\n",
        "\n",
        "        self.mapper = nn.Sequential(\n",
        "            nn.Conv1d(block_sizes[-1], self.final_ch, kernel_size=1, padding='same'),\n",
        "            activation()\n",
        "        )\n",
        "\n",
        "        self.register_buffer('bins', torch.arange(start=0, end=self.final_ch, step=1, requires_grad=False))\n",
        "\n",
        "    def feature_extractor(self, x):\n",
        "        x = self.seqextractor['blc0'](x)\n",
        "        for i in range(len(self.block_sizes) - 1):\n",
        "            x = torch.cat([x, self.seqextractor[f'inv_res_blc{i}'](x)], dim=1)\n",
        "            x = self.seqextractor[f'resize_blc{i}'](x)\n",
        "        return x\n",
        "\n",
        "    def forward(self, x):\n",
        "        f = self.feature_extractor(x)\n",
        "        x = self.mapper(f)\n",
        "        x = F.adaptive_avg_pool1d(x, 1)\n",
        "        x = x.squeeze(2)\n",
        "        prob = torch.sigmoid(x).squeeze(1)\n",
        "\n",
        "        return prob\n",
        "        # logprobs = F.log_softmax(x, dim=1)\n",
        "\n",
        "        # # Soft-argmax operation (optional)\n",
        "        # x = F.softmax(x, dim=1)\n",
        "        # score = (x * self.bins).sum(dim=1)\n",
        "\n",
        "        # return logprobs, score\n"
      ]
    },
    {
      "cell_type": "markdown",
      "source": [
        "KAN Conv"
      ],
      "metadata": {
        "id": "583UDEC_OIBT"
      }
    },
    {
      "cell_type": "code",
      "source": [
        "#Util\n",
        "def add_padding_1d(array: np.ndarray, padding: int) -> np.ndarray:\n",
        "    \"\"\"Adds padding to a 1D array.\"\"\"\n",
        "    n = array.shape[0]\n",
        "    padded_array = np.zeros(n + 2 * padding)\n",
        "    padded_array[padding: n + padding] = array\n",
        "    return padded_array\n",
        "\n",
        "\n",
        "def calc_out_dims_1d(array, kernel_size, stride, dilation, padding):\n",
        "    \"\"\"Calculate output dimensions for 1D convolution.\"\"\"\n",
        "    batch_size, n_channels, n = matrix.shape\n",
        "    out_size = np.floor((n + 2 * padding - kernel_size - (kernel_size - 1) * (dilation - 1)) / stride).astype(int) + 1\n",
        "    return out_size, batch_size, n_channels\n",
        "\n",
        "\n",
        "def multiple_convs_kan_conv1d(array,\n",
        "                               kernels,\n",
        "                               kernel_size,\n",
        "                               out_channels,\n",
        "                               stride=1,\n",
        "                               dilation=1,\n",
        "                               padding=0,\n",
        "                               device=\"cuda\") -> torch.Tensor:\n",
        "    \"\"\"Performs a 1D convolution with multiple kernels on the input array using specified stride, dilation, and padding.\n",
        "\n",
        "    Args:\n",
        "        array (torch.Tensor): 1D tensor of shape (batch_size, channels, length).\n",
        "        kernels (list): List of kernel functions to be applied.\n",
        "        kernel_size (int): Size of the 1D kernel.\n",
        "        out_channels (int): Number of output channels.\n",
        "        stride (int): Stride along the length of the array. Default is 1.\n",
        "        dilation (int): Dilation rate along the length of the array. Default is 1.\n",
        "        padding (int): Number of elements to pad on each side. Default is 0.\n",
        "        device (str): Device to perform calculations on. Default is \"cuda\".\n",
        "\n",
        "    Returns:\n",
        "        torch.Tensor: Feature map after convolution with shape (batch_size, out_channels, length_out).\n",
        "    \"\"\"\n",
        "    length_out, batch_size = calc_out_dims_1d(array, kernel_size, stride, dilation, padding)\n",
        "    n_convs = len(kernels)\n",
        "\n",
        "    array_out = torch.zeros((batch_size, out_channels, length_out)).to(device)\n",
        "\n",
        "    array = F.pad(array, (padding, padding), mode='constant', value=0)\n",
        "    conv_groups = array.unfold(2, kernel_size, stride)\n",
        "    conv_groups = conv_groups.contiguous()\n",
        "\n",
        "    kern_per_out = len(kernels) // out_channels\n",
        "\n",
        "    for c_out in range(out_channels):\n",
        "        out_channel_accum = torch.zeros((batch_size, length_out), device=device)\n",
        "\n",
        "        for k_idx in range(kern_per_out):\n",
        "            kernel = kernels[c_out * kern_per_out + k_idx]\n",
        "            conv_result = kernel(conv_groups.view(-1, 1, kernel_size))\n",
        "            out_channel_accum += conv_result.view(batch_size, length_out)\n",
        "\n",
        "        array_out[:, c_out, :] = out_channel_accum\n",
        "\n",
        "    return array_out"
      ],
      "metadata": {
        "id": "6_mZ4DU-OJ1R"
      },
      "execution_count": null,
      "outputs": []
    },
    {
      "cell_type": "code",
      "source": [
        "def kan_conv1d(matrix: torch.Tensor,\n",
        "               kernel,\n",
        "               kernel_size: int,\n",
        "               stride: int = 1,\n",
        "               dilation: int = 1,\n",
        "               padding: int = 0,\n",
        "               device: str = \"cpu\") -> torch.Tensor:\n",
        "    \"\"\"\n",
        "    Performs a 1D convolution with the given kernel over a 1D matrix using the defined stride, dilation, and padding.\n",
        "\n",
        "    Args:\n",
        "        matrix (torch.Tensor): 3D tensor (batch_size, channels, width) to be convolved.\n",
        "        kernel (function): Kernel function to apply on the 1D patches of the matrix.\n",
        "        kernel_size (int): Size of the kernel (assumed to be square).\n",
        "        stride (int, optional): Stride along the width axis. Defaults to 1.\n",
        "        dilation (int, optional): Dilation along the width axis. Defaults to 1.\n",
        "        padding (int, optional): Padding along the width axis. Defaults to 0.\n",
        "        device (str): Device to perform the operation on (e.g., \"cuda\" or \"cpu\").\n",
        "\n",
        "    Returns:\n",
        "        torch.Tensor: 1D Feature map after convolution.\n",
        "    \"\"\"\n",
        "\n",
        "    batch_size, n_channels, width_in = matrix.shape\n",
        "    width_out = ((width_in + 2 * padding - dilation * (kernel_size - 1) - 1) // stride) + 1\n",
        "    matrix_out = torch.zeros((batch_size, n_channels, width_out), device=device)\n",
        "\n",
        "    matrix_padded = torch.nn.functional.pad(matrix, (padding, padding))\n",
        "\n",
        "    for i in range(width_out):\n",
        "\n",
        "        start = i * stride\n",
        "        end = start + kernel_size * dilation\n",
        "        patch = matrix_padded[:, :, start:end:dilation]\n",
        "\n",
        "        matrix_out[:, :, i] = kernel.forward(patch).squeeze(-1)\n",
        "\n",
        "    return matrix_out"
      ],
      "metadata": {
        "id": "qFsgL3gAOJ4Z"
      },
      "execution_count": null,
      "outputs": []
    },
    {
      "cell_type": "code",
      "source": [
        "class KAN_Convolutional_Layer_1D(torch.nn.Module):\n",
        "    def __init__(self, in_channels=1, out_channels=1, kernel_size=5, stride=1, padding=0, dilation=1, device=\"cuda\"):\n",
        "        super(KAN_Convolutional_Layer_1D, self).__init__()\n",
        "        self.in_channels = in_channels\n",
        "        self.out_channels = out_channels\n",
        "        self.kernel_size = kernel_size\n",
        "        self.stride = stride\n",
        "        self.padding = padding\n",
        "        self.dilation = dilation\n",
        "        self.device = device\n",
        "        self.convs = torch.nn.ModuleList([KAN_Convolution_1D(kernel_size, stride, padding, dilation, device) for _ in range(in_channels * out_channels)])\n",
        "\n",
        "    def forward(self, x: torch.Tensor):\n",
        "        return torch.cat([conv(x[:, i, :].unsqueeze(1)) for i, conv in enumerate(self.convs)], dim=1)"
      ],
      "metadata": {
        "id": "uTYnlRbuOafR"
      },
      "execution_count": null,
      "outputs": []
    },
    {
      "cell_type": "code",
      "source": [
        "class KAN_Convolutional_Layer_1D(torch.nn.Module):\n",
        "    def __init__(\n",
        "            self,\n",
        "            in_channels: int = 1,\n",
        "            out_channels: int = 1,\n",
        "            kernel_size: int = 2,\n",
        "            stride: int = 1,\n",
        "            padding: int = 0,\n",
        "            dilation: int = 1,\n",
        "            grid_size: int = 5,\n",
        "            spline_order: int = 3,\n",
        "            scale_noise: float = 0.1,\n",
        "            scale_base: float = 1.0,\n",
        "            scale_spline: float = 1.0,\n",
        "            base_activation=torch.nn.SiLU,\n",
        "            grid_eps: float = 0.02,\n",
        "            grid_range: tuple = [-1, 1],\n",
        "            device: str = \"cpu\"\n",
        "        ):\n",
        "        super(KAN_Convolutional_Layer_1D, self).__init__()\n",
        "        self.out_channels = out_channels\n",
        "        self.in_channels = in_channels\n",
        "        self.kernel_size = kernel_size\n",
        "        self.dilation = dilation\n",
        "        self.padding = padding\n",
        "        self.stride = stride\n",
        "\n",
        "\n",
        "        self.convs = torch.nn.ModuleList()\n",
        "        for _ in range(in_channels * out_channels):\n",
        "            self.convs.append(\n",
        "                KAN_Convolution_1D(\n",
        "                    kernel_size=kernel_size,\n",
        "                    stride=stride,\n",
        "                    padding=padding,\n",
        "                    dilation=dilation,\n",
        "                    grid_size=grid_size,\n",
        "                    spline_order=spline_order,\n",
        "                    scale_noise=scale_noise,\n",
        "                    scale_base=scale_base,\n",
        "                    scale_spline=scale_spline,\n",
        "                    base_activation=base_activation,\n",
        "                    grid_eps=grid_eps,\n",
        "                    grid_range=grid_range,\n",
        "                )\n",
        "            )\n",
        "\n",
        "    def forward(self, x: torch.Tensor):\n",
        "        batch_size, in_channels, length = x.shape\n",
        "        output_length = (length + 2 * self.padding - self.dilation * (self.kernel_size - 1) - 1) // self.stride + 1\n",
        "        output = torch.zeros((batch_size, self.out_channels, output_length), device=x.device)\n",
        "\n",
        "\n",
        "        for i in range(self.out_channels):\n",
        "            output_accum = torch.zeros((batch_size, output_length), device=x.device)\n",
        "            for j in range(self.in_channels):\n",
        "                kernel_idx = i * self.in_channels + j\n",
        "                conv_result = self.convs[kernel_idx].forward(x[:, j, :].unsqueeze(1))\n",
        "                output_accum += conv_result.squeeze(1)  # Squeeze\n",
        "            output[:, i, :] = output_accum  # A to output channel\n",
        "\n",
        "        return output\n",
        "\n",
        "class KAN_Convolution_1D(torch.nn.Module):\n",
        "    def __init__(\n",
        "            self,\n",
        "            kernel_size: int = 2,\n",
        "            stride: int = 1,\n",
        "            padding: int = 0,\n",
        "            dilation: int = 1,\n",
        "            grid_size: int = 50,\n",
        "            spline_order: int = 3,\n",
        "            scale_noise: float = 0.1,\n",
        "            scale_base: float = 1.0,\n",
        "            scale_spline: float = 1.0,\n",
        "            base_activation=torch.nn.SiLU,\n",
        "            grid_eps: float = 0.02,\n",
        "            grid_range: tuple = [-1, 1]\n",
        "        ):\n",
        "        super(KAN_Convolution_1D, self).__init__()\n",
        "        self.kernel_size = kernel_size\n",
        "        self.stride = stride\n",
        "        self.padding = padding\n",
        "        self.dilation = dilation\n",
        "        self.conv = KANLinear(\n",
        "            in_features = kernel_size,\n",
        "            out_features = 1,\n",
        "            grid_size=grid_size,\n",
        "            spline_order=spline_order,\n",
        "            scale_noise=scale_noise,\n",
        "            scale_base=scale_base,\n",
        "            scale_spline=scale_spline,\n",
        "            base_activation=base_activation,\n",
        "            grid_eps=grid_eps,\n",
        "            grid_range=grid_range\n",
        "        )\n",
        "\n",
        "    def forward(self, x: torch.Tensor):\n",
        "        self.device = x.device\n",
        "        return kan_conv1d(x, self.conv, self.kernel_size,self.stride, self.dilation, self.padding, self.device)"
      ],
      "metadata": {
        "id": "RpaqZpyKOrDG"
      },
      "execution_count": null,
      "outputs": []
    },
    {
      "cell_type": "markdown",
      "source": [
        "Example with changed mapper"
      ],
      "metadata": {
        "id": "Mq70bw4wO6XB"
      }
    },
    {
      "cell_type": "code",
      "source": [
        "# class SeqNN(nn.Module):\n",
        "#     \"\"\"\n",
        "#     SeqNN neural network for binary classification with modified mapper using KAN_Convolutional_Layer_1D.\n",
        "#     \"\"\"\n",
        "#     def __init__(self,\n",
        "#                  seqsize,\n",
        "#                  use_single_channel,\n",
        "#                  use_reverse_channel,\n",
        "#                  use_multisubstate_channel,\n",
        "#                  block_sizes=[256, 256, 128, 128, 64, 64, 32, 32],\n",
        "#                  ks=5,\n",
        "#                  resize_factor=4,\n",
        "#                  activation=nn.SiLU,\n",
        "#                  filter_per_group=2,\n",
        "#                  se_reduction=4,\n",
        "#                  final_ch=1,\n",
        "#                  bn_momentum=0.1):\n",
        "#         super().__init__()\n",
        "\n",
        "#         self.block_sizes = block_sizes\n",
        "#         self.resize_factor = resize_factor\n",
        "#         self.se_reduction = se_reduction\n",
        "#         self.seqsize = seqsize\n",
        "#         self.use_single_channel = use_single_channel\n",
        "#         self.use_reverse_channel = use_reverse_channel\n",
        "#         self.use_multisubstate_channel = use_multisubstate_channel\n",
        "#         self.final_ch = final_ch\n",
        "#         self.bn_momentum = bn_momentum\n",
        "\n",
        "#         seqextblocks = OrderedDict()\n",
        "#         in_channels_first_block = 4  # 4 channels for A, T, C, G\n",
        "#         if self.use_single_channel:\n",
        "#             in_channels_first_block += 1\n",
        "#         if self.use_reverse_channel:\n",
        "#             in_channels_first_block += 1\n",
        "#         if self.use_multisubstate_channel:\n",
        "#             in_channels_first_block += 1\n",
        "\n",
        "#         # First layer\n",
        "#         block = nn.Sequential(\n",
        "#             nn.Conv1d(\n",
        "#                 in_channels=in_channels_first_block,\n",
        "#                 out_channels=block_sizes[0],\n",
        "#                 kernel_size=ks,\n",
        "#                 padding='same',\n",
        "#                 bias=False\n",
        "#             ),\n",
        "#             nn.BatchNorm1d(block_sizes[0], momentum=self.bn_momentum),\n",
        "#             activation()\n",
        "#         )\n",
        "#         seqextblocks['blc0'] = block\n",
        "\n",
        "#         # Building remaining blocks\n",
        "#         for ind, (prev_sz, sz) in enumerate(zip(block_sizes[:-1], block_sizes[1:])):\n",
        "#             block = nn.Sequential(\n",
        "#                 nn.Conv1d(prev_sz, sz * self.resize_factor, kernel_size=1, padding='same', bias=False),\n",
        "#                 nn.BatchNorm1d(sz * self.resize_factor, momentum=self.bn_momentum),\n",
        "#                 activation(),\n",
        "\n",
        "#                 nn.Conv1d(sz * self.resize_factor, sz * self.resize_factor, kernel_size=ks,\n",
        "#                           groups=sz * self.resize_factor // filter_per_group, padding='same', bias=False),\n",
        "#                 nn.BatchNorm1d(sz * self.resize_factor, momentum=self.bn_momentum),\n",
        "#                 activation(),\n",
        "\n",
        "#                 SELayer(prev_sz, sz * self.resize_factor, reduction=self.se_reduction),\n",
        "\n",
        "#                 nn.Conv1d(sz * self.resize_factor, prev_sz, kernel_size=1, padding='same', bias=False),\n",
        "#                 nn.BatchNorm1d(prev_sz, momentum=self.bn_momentum),\n",
        "#                 activation(),\n",
        "#             )\n",
        "#             seqextblocks[f'inv_res_blc{ind}'] = block\n",
        "\n",
        "#             resize_block = nn.Sequential(\n",
        "#                 nn.Conv1d(2 * prev_sz, sz, kernel_size=ks, padding='same', bias=False),\n",
        "#                 nn.BatchNorm1d(sz, momentum=self.bn_momentum),\n",
        "#                 activation()\n",
        "#             )\n",
        "#             seqextblocks[f'resize_blc{ind}'] = resize_block\n",
        "\n",
        "#         self.seqextractor = nn.ModuleDict(seqextblocks)\n",
        "\n",
        "#         self.mapper = nn.Sequential(\n",
        "#             KAN_Convolutional_Layer_1D(\n",
        "#                 in_channels=block_sizes[-1],\n",
        "#                 out_channels=self.final_ch,\n",
        "#                 kernel_size=1,\n",
        "#                 padding=0,\n",
        "#                 device=\"cuda\"\n",
        "#             ),\n",
        "#             activation()\n",
        "#         )\n",
        "\n",
        "#         self.register_buffer('bins', torch.arange(start=0, end=self.final_ch, step=1, requires_grad=False))\n",
        "\n",
        "#     def feature_extractor(self, x):\n",
        "#         x = self.seqextractor['blc0'](x)\n",
        "#         for i in range(len(self.block_sizes) - 1):\n",
        "#             x = torch.cat([x, self.seqextractor[f'inv_res_blc{i}'](x)], dim=1)\n",
        "#             x = self.seqextractor[f'resize_blc{i}'](x)\n",
        "#         return x\n",
        "\n",
        "#     def forward(self, x):\n",
        "#         f = self.feature_extractor(x)\n",
        "#         x = self.mapper(f)\n",
        "#         x = F.adaptive_avg_pool1d(x, 1)\n",
        "#         x = x.squeeze(2)\n",
        "#         prob = torch.sigmoid(x).squeeze(1)\n",
        "\n",
        "#         return prob"
      ],
      "metadata": {
        "id": "Vz-gXm0iO3ei"
      },
      "execution_count": null,
      "outputs": []
    },
    {
      "cell_type": "code",
      "execution_count": null,
      "metadata": {
        "id": "PzqUJs3V5Sib"
      },
      "outputs": [],
      "source": [
        "device = 'cuda'"
      ]
    },
    {
      "cell_type": "code",
      "execution_count": null,
      "metadata": {
        "id": "UNgMwQp57y-x"
      },
      "outputs": [],
      "source": [
        "model = SeqNN(\n",
        "    seqsize=500,\n",
        "    use_single_channel=False,\n",
        "    use_reverse_channel=False,\n",
        "    use_multisubstate_channel=False,\n",
        "    final_ch=1\n",
        ")\n",
        "\n",
        "criterion = nn.BCELoss()\n",
        "optimizer = optim.AdamW(model.parameters(), lr=5e-4, weight_decay=0.005)\n"
      ]
    },
    {
      "cell_type": "code",
      "execution_count": null,
      "metadata": {
        "colab": {
          "base_uri": "https://localhost:8080/"
        },
        "id": "ayyNG-mq8Ard",
        "outputId": "25220b71-8fa2-4d1b-e8b8-91b5fce7a4bb"
      },
      "outputs": [
        {
          "output_type": "execute_result",
          "data": {
            "text/plain": [
              "SeqNN(\n",
              "  (seqextractor): ModuleDict(\n",
              "    (blc0): Sequential(\n",
              "      (0): Conv1d(4, 256, kernel_size=(5,), stride=(1,), padding=same, bias=False)\n",
              "      (1): BatchNorm1d(256, eps=1e-05, momentum=0.1, affine=True, track_running_stats=True)\n",
              "      (2): SiLU()\n",
              "    )\n",
              "    (inv_res_blc0): Sequential(\n",
              "      (0): Conv1d(256, 1024, kernel_size=(1,), stride=(1,), padding=same, bias=False)\n",
              "      (1): BatchNorm1d(1024, eps=1e-05, momentum=0.1, affine=True, track_running_stats=True)\n",
              "      (2): SiLU()\n",
              "      (3): Conv1d(1024, 1024, kernel_size=(5,), stride=(1,), padding=same, groups=512, bias=False)\n",
              "      (4): BatchNorm1d(1024, eps=1e-05, momentum=0.1, affine=True, track_running_stats=True)\n",
              "      (5): SiLU()\n",
              "      (6): SELayer(\n",
              "        (avg_pool): AdaptiveAvgPool1d(output_size=1)\n",
              "        (fc): Sequential(\n",
              "          (0): KANLinear(\n",
              "            (base_activation): SiLU()\n",
              "          )\n",
              "          (1): KANLinear(\n",
              "            (base_activation): SiLU()\n",
              "          )\n",
              "          (2): Sigmoid()\n",
              "        )\n",
              "      )\n",
              "      (7): Conv1d(1024, 256, kernel_size=(1,), stride=(1,), padding=same, bias=False)\n",
              "      (8): BatchNorm1d(256, eps=1e-05, momentum=0.1, affine=True, track_running_stats=True)\n",
              "      (9): SiLU()\n",
              "    )\n",
              "    (resize_blc0): Sequential(\n",
              "      (0): Conv1d(512, 256, kernel_size=(5,), stride=(1,), padding=same, bias=False)\n",
              "      (1): BatchNorm1d(256, eps=1e-05, momentum=0.1, affine=True, track_running_stats=True)\n",
              "      (2): SiLU()\n",
              "    )\n",
              "    (inv_res_blc1): Sequential(\n",
              "      (0): Conv1d(256, 512, kernel_size=(1,), stride=(1,), padding=same, bias=False)\n",
              "      (1): BatchNorm1d(512, eps=1e-05, momentum=0.1, affine=True, track_running_stats=True)\n",
              "      (2): SiLU()\n",
              "      (3): Conv1d(512, 512, kernel_size=(5,), stride=(1,), padding=same, groups=256, bias=False)\n",
              "      (4): BatchNorm1d(512, eps=1e-05, momentum=0.1, affine=True, track_running_stats=True)\n",
              "      (5): SiLU()\n",
              "      (6): SELayer(\n",
              "        (avg_pool): AdaptiveAvgPool1d(output_size=1)\n",
              "        (fc): Sequential(\n",
              "          (0): KANLinear(\n",
              "            (base_activation): SiLU()\n",
              "          )\n",
              "          (1): KANLinear(\n",
              "            (base_activation): SiLU()\n",
              "          )\n",
              "          (2): Sigmoid()\n",
              "        )\n",
              "      )\n",
              "      (7): Conv1d(512, 256, kernel_size=(1,), stride=(1,), padding=same, bias=False)\n",
              "      (8): BatchNorm1d(256, eps=1e-05, momentum=0.1, affine=True, track_running_stats=True)\n",
              "      (9): SiLU()\n",
              "    )\n",
              "    (resize_blc1): Sequential(\n",
              "      (0): Conv1d(512, 128, kernel_size=(5,), stride=(1,), padding=same, bias=False)\n",
              "      (1): BatchNorm1d(128, eps=1e-05, momentum=0.1, affine=True, track_running_stats=True)\n",
              "      (2): SiLU()\n",
              "    )\n",
              "    (inv_res_blc2): Sequential(\n",
              "      (0): Conv1d(128, 512, kernel_size=(1,), stride=(1,), padding=same, bias=False)\n",
              "      (1): BatchNorm1d(512, eps=1e-05, momentum=0.1, affine=True, track_running_stats=True)\n",
              "      (2): SiLU()\n",
              "      (3): Conv1d(512, 512, kernel_size=(5,), stride=(1,), padding=same, groups=256, bias=False)\n",
              "      (4): BatchNorm1d(512, eps=1e-05, momentum=0.1, affine=True, track_running_stats=True)\n",
              "      (5): SiLU()\n",
              "      (6): SELayer(\n",
              "        (avg_pool): AdaptiveAvgPool1d(output_size=1)\n",
              "        (fc): Sequential(\n",
              "          (0): KANLinear(\n",
              "            (base_activation): SiLU()\n",
              "          )\n",
              "          (1): KANLinear(\n",
              "            (base_activation): SiLU()\n",
              "          )\n",
              "          (2): Sigmoid()\n",
              "        )\n",
              "      )\n",
              "      (7): Conv1d(512, 128, kernel_size=(1,), stride=(1,), padding=same, bias=False)\n",
              "      (8): BatchNorm1d(128, eps=1e-05, momentum=0.1, affine=True, track_running_stats=True)\n",
              "      (9): SiLU()\n",
              "    )\n",
              "    (resize_blc2): Sequential(\n",
              "      (0): Conv1d(256, 128, kernel_size=(5,), stride=(1,), padding=same, bias=False)\n",
              "      (1): BatchNorm1d(128, eps=1e-05, momentum=0.1, affine=True, track_running_stats=True)\n",
              "      (2): SiLU()\n",
              "    )\n",
              "    (inv_res_blc3): Sequential(\n",
              "      (0): Conv1d(128, 256, kernel_size=(1,), stride=(1,), padding=same, bias=False)\n",
              "      (1): BatchNorm1d(256, eps=1e-05, momentum=0.1, affine=True, track_running_stats=True)\n",
              "      (2): SiLU()\n",
              "      (3): Conv1d(256, 256, kernel_size=(5,), stride=(1,), padding=same, groups=128, bias=False)\n",
              "      (4): BatchNorm1d(256, eps=1e-05, momentum=0.1, affine=True, track_running_stats=True)\n",
              "      (5): SiLU()\n",
              "      (6): SELayer(\n",
              "        (avg_pool): AdaptiveAvgPool1d(output_size=1)\n",
              "        (fc): Sequential(\n",
              "          (0): KANLinear(\n",
              "            (base_activation): SiLU()\n",
              "          )\n",
              "          (1): KANLinear(\n",
              "            (base_activation): SiLU()\n",
              "          )\n",
              "          (2): Sigmoid()\n",
              "        )\n",
              "      )\n",
              "      (7): Conv1d(256, 128, kernel_size=(1,), stride=(1,), padding=same, bias=False)\n",
              "      (8): BatchNorm1d(128, eps=1e-05, momentum=0.1, affine=True, track_running_stats=True)\n",
              "      (9): SiLU()\n",
              "    )\n",
              "    (resize_blc3): Sequential(\n",
              "      (0): Conv1d(256, 64, kernel_size=(5,), stride=(1,), padding=same, bias=False)\n",
              "      (1): BatchNorm1d(64, eps=1e-05, momentum=0.1, affine=True, track_running_stats=True)\n",
              "      (2): SiLU()\n",
              "    )\n",
              "    (inv_res_blc4): Sequential(\n",
              "      (0): Conv1d(64, 256, kernel_size=(1,), stride=(1,), padding=same, bias=False)\n",
              "      (1): BatchNorm1d(256, eps=1e-05, momentum=0.1, affine=True, track_running_stats=True)\n",
              "      (2): SiLU()\n",
              "      (3): Conv1d(256, 256, kernel_size=(5,), stride=(1,), padding=same, groups=128, bias=False)\n",
              "      (4): BatchNorm1d(256, eps=1e-05, momentum=0.1, affine=True, track_running_stats=True)\n",
              "      (5): SiLU()\n",
              "      (6): SELayer(\n",
              "        (avg_pool): AdaptiveAvgPool1d(output_size=1)\n",
              "        (fc): Sequential(\n",
              "          (0): KANLinear(\n",
              "            (base_activation): SiLU()\n",
              "          )\n",
              "          (1): KANLinear(\n",
              "            (base_activation): SiLU()\n",
              "          )\n",
              "          (2): Sigmoid()\n",
              "        )\n",
              "      )\n",
              "      (7): Conv1d(256, 64, kernel_size=(1,), stride=(1,), padding=same, bias=False)\n",
              "      (8): BatchNorm1d(64, eps=1e-05, momentum=0.1, affine=True, track_running_stats=True)\n",
              "      (9): SiLU()\n",
              "    )\n",
              "    (resize_blc4): Sequential(\n",
              "      (0): Conv1d(128, 64, kernel_size=(5,), stride=(1,), padding=same, bias=False)\n",
              "      (1): BatchNorm1d(64, eps=1e-05, momentum=0.1, affine=True, track_running_stats=True)\n",
              "      (2): SiLU()\n",
              "    )\n",
              "    (inv_res_blc5): Sequential(\n",
              "      (0): Conv1d(64, 128, kernel_size=(1,), stride=(1,), padding=same, bias=False)\n",
              "      (1): BatchNorm1d(128, eps=1e-05, momentum=0.1, affine=True, track_running_stats=True)\n",
              "      (2): SiLU()\n",
              "      (3): Conv1d(128, 128, kernel_size=(5,), stride=(1,), padding=same, groups=64, bias=False)\n",
              "      (4): BatchNorm1d(128, eps=1e-05, momentum=0.1, affine=True, track_running_stats=True)\n",
              "      (5): SiLU()\n",
              "      (6): SELayer(\n",
              "        (avg_pool): AdaptiveAvgPool1d(output_size=1)\n",
              "        (fc): Sequential(\n",
              "          (0): KANLinear(\n",
              "            (base_activation): SiLU()\n",
              "          )\n",
              "          (1): KANLinear(\n",
              "            (base_activation): SiLU()\n",
              "          )\n",
              "          (2): Sigmoid()\n",
              "        )\n",
              "      )\n",
              "      (7): Conv1d(128, 64, kernel_size=(1,), stride=(1,), padding=same, bias=False)\n",
              "      (8): BatchNorm1d(64, eps=1e-05, momentum=0.1, affine=True, track_running_stats=True)\n",
              "      (9): SiLU()\n",
              "    )\n",
              "    (resize_blc5): Sequential(\n",
              "      (0): Conv1d(128, 32, kernel_size=(5,), stride=(1,), padding=same, bias=False)\n",
              "      (1): BatchNorm1d(32, eps=1e-05, momentum=0.1, affine=True, track_running_stats=True)\n",
              "      (2): SiLU()\n",
              "    )\n",
              "    (inv_res_blc6): Sequential(\n",
              "      (0): Conv1d(32, 128, kernel_size=(1,), stride=(1,), padding=same, bias=False)\n",
              "      (1): BatchNorm1d(128, eps=1e-05, momentum=0.1, affine=True, track_running_stats=True)\n",
              "      (2): SiLU()\n",
              "      (3): Conv1d(128, 128, kernel_size=(5,), stride=(1,), padding=same, groups=64, bias=False)\n",
              "      (4): BatchNorm1d(128, eps=1e-05, momentum=0.1, affine=True, track_running_stats=True)\n",
              "      (5): SiLU()\n",
              "      (6): SELayer(\n",
              "        (avg_pool): AdaptiveAvgPool1d(output_size=1)\n",
              "        (fc): Sequential(\n",
              "          (0): KANLinear(\n",
              "            (base_activation): SiLU()\n",
              "          )\n",
              "          (1): KANLinear(\n",
              "            (base_activation): SiLU()\n",
              "          )\n",
              "          (2): Sigmoid()\n",
              "        )\n",
              "      )\n",
              "      (7): Conv1d(128, 32, kernel_size=(1,), stride=(1,), padding=same, bias=False)\n",
              "      (8): BatchNorm1d(32, eps=1e-05, momentum=0.1, affine=True, track_running_stats=True)\n",
              "      (9): SiLU()\n",
              "    )\n",
              "    (resize_blc6): Sequential(\n",
              "      (0): Conv1d(64, 32, kernel_size=(5,), stride=(1,), padding=same, bias=False)\n",
              "      (1): BatchNorm1d(32, eps=1e-05, momentum=0.1, affine=True, track_running_stats=True)\n",
              "      (2): SiLU()\n",
              "    )\n",
              "  )\n",
              "  (mapper): Sequential(\n",
              "    (0): Conv1d(32, 1, kernel_size=(1,), stride=(1,), padding=same)\n",
              "    (1): SiLU()\n",
              "  )\n",
              ")"
            ]
          },
          "metadata": {},
          "execution_count": 12
        }
      ],
      "source": [
        "model.to(device)"
      ]
    },
    {
      "cell_type": "code",
      "execution_count": null,
      "metadata": {
        "colab": {
          "base_uri": "https://localhost:8080/"
        },
        "id": "wB0Z02CDwoLd",
        "outputId": "a96a042a-2007-4751-83f7-f32d96931707"
      },
      "outputs": [
        {
          "output_type": "stream",
          "name": "stdout",
          "text": [
            "Total number of parameters: 4990177\n"
          ]
        }
      ],
      "source": [
        "total_params = sum(p.numel() for p in model.parameters())\n",
        "print(f\"Total number of parameters: {total_params}\")"
      ]
    },
    {
      "cell_type": "code",
      "execution_count": null,
      "metadata": {
        "id": "Fi1oWMvj7S7p"
      },
      "outputs": [],
      "source": [
        "def train(model, loader, criterion, optimizer, device):\n",
        "    model.train()\n",
        "    running_loss = 0.0\n",
        "    all_preds = []\n",
        "    all_labels = []\n",
        "\n",
        "    for sequences, labels in loader:\n",
        "        sequences, labels = sequences.to(device), labels.to(device)\n",
        "        optimizer.zero_grad()\n",
        "\n",
        "        probs = model(sequences)\n",
        "        loss = criterion(probs, labels.float())\n",
        "\n",
        "        loss.backward()\n",
        "        optimizer.step()\n",
        "\n",
        "        running_loss += loss.item() * sequences.size(0)\n",
        "        all_preds.extend(probs.detach().cpu().numpy())\n",
        "        all_labels.extend(labels.cpu().numpy())\n",
        "\n",
        "    epoch_loss = running_loss / len(loader.dataset)\n",
        "\n",
        "    all_preds = [1 if p >= 0.5 else 0 for p in all_preds]\n",
        "    accuracy = accuracy_score(all_labels, all_preds)\n",
        "    f1 = f1_score(all_labels, all_preds)\n",
        "    auc = roc_auc_score(all_labels, all_preds)\n",
        "    precision = precision_score(all_labels, all_preds)\n",
        "    recall = recall_score(all_labels, all_preds)\n",
        "    mcc = matthews_corrcoef(all_labels, all_preds)\n",
        "\n",
        "    return epoch_loss, accuracy, f1, auc, precision, recall, mcc\n",
        "\n",
        "\n",
        "def evaluate(model, loader, criterion, device):\n",
        "    model.eval()\n",
        "    eval_loss = 0.0\n",
        "    all_preds = []\n",
        "    all_labels = []\n",
        "\n",
        "    with torch.no_grad():\n",
        "        for sequences, labels in loader:\n",
        "            sequences, labels = sequences.to(device), labels.to(device)\n",
        "\n",
        "\n",
        "            probs = model(sequences)\n",
        "            loss = criterion(probs, labels.float())\n",
        "            eval_loss += loss.item() * sequences.size(0)\n",
        "\n",
        "            all_preds.extend(probs.cpu().numpy())\n",
        "            all_labels.extend(labels.cpu().numpy())\n",
        "\n",
        "    epoch_loss = eval_loss / len(loader.dataset)\n",
        "\n",
        "    all_preds = [1 if p >= 0.5 else 0 for p in all_preds]\n",
        "    accuracy = accuracy_score(all_labels, all_preds)\n",
        "    f1 = f1_score(all_labels, all_preds)\n",
        "    auc = roc_auc_score(all_labels, all_preds)\n",
        "    precision = precision_score(all_labels, all_preds)\n",
        "    recall = recall_score(all_labels, all_preds)\n",
        "    mcc = matthews_corrcoef(all_labels, all_preds)\n",
        "\n",
        "    return epoch_loss, accuracy, f1, auc, precision, recall, mcc"
      ]
    },
    {
      "cell_type": "markdown",
      "source": [
        "#EMP"
      ],
      "metadata": {
        "id": "cJu17iFQNGct"
      }
    },
    {
      "cell_type": "markdown",
      "metadata": {
        "id": "g9QD_dVw9ndY"
      },
      "source": [
        "H3"
      ]
    },
    {
      "cell_type": "code",
      "execution_count": null,
      "metadata": {
        "colab": {
          "base_uri": "https://localhost:8080/"
        },
        "id": "CzTkTSs74DBM",
        "outputId": "4a0fa190-48e3-4218-817c-caaaa88b9529"
      },
      "outputs": [
        {
          "name": "stdout",
          "output_type": "stream",
          "text": [
            "Epoch 1/10\n",
            "Train - Loss: 0.4987, Acc: 0.8272, F1: 0.8297, AUC: 0.8274, Precision: 0.8401, Recall: 0.8195, MCC: 0.6545\n",
            "Val   - Loss: 0.5041, Acc: 0.8176, F1: 0.8037, AUC: 0.8183, Precision: 0.8789, Recall: 0.7404, MCC: 0.6439\n",
            "Epoch 2/10\n",
            "Train - Loss: 0.4847, Acc: 0.8364, F1: 0.8391, AUC: 0.8365, Precision: 0.8476, Recall: 0.8309, MCC: 0.6728\n",
            "Val   - Loss: 0.5011, Acc: 0.8390, F1: 0.8375, AUC: 0.8392, Precision: 0.8530, Recall: 0.8225, MCC: 0.6785\n",
            "Epoch 3/10\n",
            "Train - Loss: 0.4686, Acc: 0.8485, F1: 0.8516, AUC: 0.8485, Precision: 0.8568, Recall: 0.8465, MCC: 0.6969\n",
            "Val   - Loss: 0.4846, Acc: 0.8564, F1: 0.8608, AUC: 0.8562, Precision: 0.8418, Recall: 0.8808, MCC: 0.7134\n",
            "Epoch 4/10\n",
            "Train - Loss: 0.4654, Acc: 0.8529, F1: 0.8557, AUC: 0.8530, Precision: 0.8624, Recall: 0.8491, MCC: 0.7058\n",
            "Val   - Loss: 0.4885, Acc: 0.8424, F1: 0.8333, AUC: 0.8429, Precision: 0.8926, Recall: 0.7815, MCC: 0.6905\n",
            "Epoch 5/10\n",
            "Train - Loss: 0.4576, Acc: 0.8567, F1: 0.8584, AUC: 0.8571, Precision: 0.8718, Recall: 0.8455, MCC: 0.7138\n",
            "Val   - Loss: 0.5054, Acc: 0.8076, F1: 0.7851, AUC: 0.8086, Precision: 0.8991, Recall: 0.6967, MCC: 0.6324\n",
            "Epoch 6/10\n",
            "Train - Loss: 0.4518, Acc: 0.8596, F1: 0.8609, AUC: 0.8600, Precision: 0.8764, Recall: 0.8460, MCC: 0.7197\n",
            "Val   - Loss: 0.4835, Acc: 0.8504, F1: 0.8547, AUC: 0.8502, Precision: 0.8374, Recall: 0.8728, MCC: 0.7012\n",
            "Epoch 7/10\n",
            "Train - Loss: 0.4475, Acc: 0.8647, F1: 0.8658, AUC: 0.8651, Precision: 0.8825, Recall: 0.8498, MCC: 0.7300\n",
            "Val   - Loss: 0.4642, Acc: 0.8617, F1: 0.8587, AUC: 0.8620, Precision: 0.8859, Recall: 0.8331, MCC: 0.7249\n",
            "Epoch 8/10\n",
            "Train - Loss: 0.4403, Acc: 0.8685, F1: 0.8691, AUC: 0.8690, Precision: 0.8892, Recall: 0.8499, MCC: 0.7379\n",
            "Val   - Loss: 0.4921, Acc: 0.8544, F1: 0.8604, AUC: 0.8541, Precision: 0.8327, Recall: 0.8901, MCC: 0.7103\n",
            "Epoch 9/10\n",
            "Train - Loss: 0.4351, Acc: 0.8698, F1: 0.8697, AUC: 0.8704, Precision: 0.8945, Recall: 0.8463, MCC: 0.7409\n",
            "Val   - Loss: 0.4784, Acc: 0.8517, F1: 0.8504, AUC: 0.8518, Precision: 0.8656, Recall: 0.8358, MCC: 0.7039\n",
            "Epoch 10/10\n",
            "Train - Loss: 0.4277, Acc: 0.8729, F1: 0.8733, AUC: 0.8735, Precision: 0.8953, Recall: 0.8524, MCC: 0.7469\n",
            "Val   - Loss: 0.4696, Acc: 0.8484, F1: 0.8398, AUC: 0.8489, Precision: 0.8988, Recall: 0.7881, MCC: 0.7025\n"
          ]
        }
      ],
      "source": [
        "num_epochs = 10\n",
        "for epoch in range(num_epochs):\n",
        "\n",
        "    train_loss, train_acc, train_f1, train_auc, train_precision, train_recall, train_mcc = train(model, train_loader, criterion, optimizer, device)\n",
        "    val_loss, val_acc, val_f1, val_auc, val_precision, val_recall, val_mcc = evaluate(model, test_loader, criterion, device)\n",
        "\n",
        "    print(f\"Epoch {epoch+1}/{num_epochs}\")\n",
        "    print(f\"Train - Loss: {train_loss:.4f}, Acc: {train_acc:.4f}, F1: {train_f1:.4f}, AUC: {train_auc:.4f}, \"\n",
        "          f\"Precision: {train_precision:.4f}, Recall: {train_recall:.4f}, MCC: {train_mcc:.4f}\")\n",
        "    print(f\"Val   - Loss: {val_loss:.4f}, Acc: {val_acc:.4f}, F1: {val_f1:.4f}, AUC: {val_auc:.4f}, \"\n",
        "          f\"Precision: {val_precision:.4f}, Recall: {val_recall:.4f}, MCC: {val_mcc:.4f}\")\n"
      ]
    },
    {
      "cell_type": "markdown",
      "metadata": {
        "id": "uFajSbRb9pvu"
      },
      "source": [
        "H3K4me1"
      ]
    },
    {
      "cell_type": "code",
      "execution_count": null,
      "metadata": {
        "colab": {
          "base_uri": "https://localhost:8080/"
        },
        "id": "PJ8CRMU49qDO",
        "outputId": "24f002b0-e1e1-4070-bfea-cc09e8910b0d"
      },
      "outputs": [
        {
          "name": "stdout",
          "output_type": "stream",
          "text": [
            "Epoch 1/10\n",
            "Train - Loss: 0.6443, Acc: 0.6389, F1: 0.6897, AUC: 0.6292, Precision: 0.6499, Recall: 0.7348, MCC: 0.2646\n",
            "Val   - Loss: 0.6268, Acc: 0.6686, F1: 0.7103, AUC: 0.6609, Precision: 0.6810, Recall: 0.7422, MCC: 0.3264\n",
            "Epoch 2/10\n",
            "Train - Loss: 0.6288, Acc: 0.6641, F1: 0.6971, AUC: 0.6596, Precision: 0.6868, Recall: 0.7078, MCC: 0.3204\n",
            "Val   - Loss: 0.6269, Acc: 0.6736, F1: 0.7158, AUC: 0.6655, Precision: 0.6838, Recall: 0.7509, MCC: 0.3365\n",
            "Epoch 3/10\n",
            "Train - Loss: 0.6240, Acc: 0.6687, F1: 0.7028, AUC: 0.6638, Precision: 0.6890, Recall: 0.7171, MCC: 0.3292\n",
            "Val   - Loss: 0.6282, Acc: 0.6689, F1: 0.7293, AUC: 0.6536, Precision: 0.6600, Recall: 0.8149, MCC: 0.3267\n",
            "Epoch 4/10\n",
            "Train - Loss: 0.6190, Acc: 0.6738, F1: 0.7038, AUC: 0.6702, Precision: 0.6982, Recall: 0.7095, MCC: 0.3411\n",
            "Val   - Loss: 0.6321, Acc: 0.6578, F1: 0.7309, AUC: 0.6378, Precision: 0.6417, Recall: 0.8489, MCC: 0.3070\n",
            "Epoch 5/10\n",
            "Train - Loss: 0.6141, Acc: 0.6809, F1: 0.7071, AUC: 0.6784, Precision: 0.7090, Recall: 0.7052, MCC: 0.3567\n",
            "Val   - Loss: 0.6200, Acc: 0.6761, F1: 0.6970, AUC: 0.6757, Precision: 0.7143, Recall: 0.6805, MCC: 0.3501\n",
            "Epoch 6/10\n",
            "Train - Loss: 0.6075, Acc: 0.6862, F1: 0.7125, AUC: 0.6835, Precision: 0.7129, Recall: 0.7122, MCC: 0.3670\n",
            "Val   - Loss: 0.6810, Acc: 0.5464, F1: 0.3689, AUC: 0.5782, Precision: 0.7735, Recall: 0.2422, MCC: 0.2066\n",
            "Epoch 7/10\n",
            "Train - Loss: 0.6021, Acc: 0.6913, F1: 0.7160, AUC: 0.6892, Precision: 0.7196, Recall: 0.7125, MCC: 0.3780\n",
            "Val   - Loss: 0.6385, Acc: 0.6787, F1: 0.7178, AUC: 0.6715, Precision: 0.6910, Recall: 0.7468, MCC: 0.3474\n",
            "Epoch 8/10\n",
            "Train - Loss: 0.5961, Acc: 0.6958, F1: 0.7142, AUC: 0.6958, Precision: 0.7335, Recall: 0.6959, MCC: 0.3902\n",
            "Val   - Loss: 0.6183, Acc: 0.6872, F1: 0.7248, AUC: 0.6803, Precision: 0.6990, Recall: 0.7526, MCC: 0.3649\n",
            "Epoch 9/10\n",
            "Train - Loss: 0.5889, Acc: 0.7043, F1: 0.7228, AUC: 0.7041, Precision: 0.7405, Recall: 0.7059, MCC: 0.4068\n",
            "Val   - Loss: 0.6202, Acc: 0.6821, F1: 0.7074, AUC: 0.6801, Precision: 0.7129, Recall: 0.7018, MCC: 0.3596\n",
            "Epoch 10/10\n",
            "Train - Loss: 0.5805, Acc: 0.7095, F1: 0.7248, AUC: 0.7105, Precision: 0.7510, Recall: 0.7004, MCC: 0.4192\n",
            "Val   - Loss: 0.6201, Acc: 0.6853, F1: 0.7247, AUC: 0.6778, Precision: 0.6953, Recall: 0.7566, MCC: 0.3607\n"
          ]
        }
      ],
      "source": [
        "num_epochs = 10\n",
        "for epoch in range(num_epochs):\n",
        "\n",
        "    train_loss, train_acc, train_f1, train_auc, train_precision, train_recall, train_mcc = train(model, train_loader, criterion, optimizer, device)\n",
        "    val_loss, val_acc, val_f1, val_auc, val_precision, val_recall, val_mcc = evaluate(model, test_loader, criterion, device)\n",
        "\n",
        "    print(f\"Epoch {epoch+1}/{num_epochs}\")\n",
        "    print(f\"Train - Loss: {train_loss:.4f}, Acc: {train_acc:.4f}, F1: {train_f1:.4f}, AUC: {train_auc:.4f}, \"\n",
        "          f\"Precision: {train_precision:.4f}, Recall: {train_recall:.4f}, MCC: {train_mcc:.4f}\")\n",
        "    print(f\"Val   - Loss: {val_loss:.4f}, Acc: {val_acc:.4f}, F1: {val_f1:.4f}, AUC: {val_auc:.4f}, \"\n",
        "          f\"Precision: {val_precision:.4f}, Recall: {val_recall:.4f}, MCC: {val_mcc:.4f}\")\n"
      ]
    },
    {
      "cell_type": "markdown",
      "metadata": {
        "id": "RSdP5WDm9v_x"
      },
      "source": [
        "H3K4me2"
      ]
    },
    {
      "cell_type": "code",
      "execution_count": null,
      "metadata": {
        "colab": {
          "base_uri": "https://localhost:8080/"
        },
        "id": "aJ-YeGhN9wIE",
        "outputId": "0f746236-5d22-4d0d-9013-3032fdbe9f1c"
      },
      "outputs": [
        {
          "name": "stdout",
          "output_type": "stream",
          "text": [
            "Epoch 1/10\n",
            "Train - Loss: 0.6365, Acc: 0.6420, F1: 0.7344, AUC: 0.5980, Precision: 0.6554, Recall: 0.8351, MCC: 0.2240\n",
            "Val   - Loss: 0.6344, Acc: 0.6562, F1: 0.7564, AUC: 0.6038, Precision: 0.6459, Recall: 0.9125, MCC: 0.2701\n",
            "Epoch 2/10\n",
            "Train - Loss: 0.6305, Acc: 0.6540, F1: 0.7364, AUC: 0.6173, Precision: 0.6714, Recall: 0.8152, MCC: 0.2565\n",
            "Val   - Loss: 0.6313, Acc: 0.6615, F1: 0.7368, AUC: 0.6311, Precision: 0.6757, Recall: 0.8100, MCC: 0.2822\n",
            "Epoch 3/10\n",
            "Train - Loss: 0.6287, Acc: 0.6541, F1: 0.7409, AUC: 0.6130, Precision: 0.6663, Recall: 0.8342, MCC: 0.2539\n",
            "Val   - Loss: 0.6301, Acc: 0.6572, F1: 0.7243, AUC: 0.6342, Precision: 0.6838, Recall: 0.7699, MCC: 0.2788\n",
            "Epoch 4/10\n",
            "Train - Loss: 0.6246, Acc: 0.6570, F1: 0.7383, AUC: 0.6208, Precision: 0.6740, Recall: 0.8161, MCC: 0.2637\n",
            "Val   - Loss: 0.6321, Acc: 0.6540, F1: 0.7106, AUC: 0.6391, Precision: 0.6955, Recall: 0.7265, MCC: 0.2812\n",
            "Epoch 5/10\n",
            "Train - Loss: 0.6214, Acc: 0.6586, F1: 0.7395, AUC: 0.6224, Precision: 0.6751, Recall: 0.8174, MCC: 0.2672\n",
            "Val   - Loss: 0.6353, Acc: 0.6654, F1: 0.7461, AUC: 0.6295, Precision: 0.6707, Recall: 0.8407, MCC: 0.2886\n",
            "Epoch 6/10\n",
            "Train - Loss: 0.6183, Acc: 0.6636, F1: 0.7405, AUC: 0.6304, Precision: 0.6823, Recall: 0.8095, MCC: 0.2805\n",
            "Val   - Loss: 0.6328, Acc: 0.6575, F1: 0.7191, AUC: 0.6388, Precision: 0.6912, Recall: 0.7493, MCC: 0.2839\n",
            "Epoch 7/10\n",
            "Train - Loss: 0.6142, Acc: 0.6671, F1: 0.7433, AUC: 0.6339, Precision: 0.6846, Recall: 0.8130, MCC: 0.2883\n",
            "Val   - Loss: 0.6332, Acc: 0.6474, F1: 0.6974, AUC: 0.6378, Precision: 0.7002, Recall: 0.6947, MCC: 0.2751\n",
            "Epoch 8/10\n",
            "Train - Loss: 0.6113, Acc: 0.6675, F1: 0.7410, AUC: 0.6368, Precision: 0.6883, Recall: 0.8023, MCC: 0.2908\n",
            "Val   - Loss: 0.6272, Acc: 0.6601, F1: 0.7324, AUC: 0.6326, Precision: 0.6789, Recall: 0.7950, MCC: 0.2813\n",
            "Epoch 9/10\n",
            "Train - Loss: 0.6067, Acc: 0.6723, F1: 0.7411, AUC: 0.6452, Precision: 0.6969, Recall: 0.7914, MCC: 0.3042\n",
            "Val   - Loss: 0.6461, Acc: 0.6429, F1: 0.6775, AUC: 0.6432, Precision: 0.7180, Recall: 0.6412, MCC: 0.2826\n",
            "Epoch 10/10\n",
            "Train - Loss: 0.6040, Acc: 0.6747, F1: 0.7419, AUC: 0.6487, Precision: 0.7003, Recall: 0.7887, MCC: 0.3102\n",
            "Val   - Loss: 0.6331, Acc: 0.6670, F1: 0.7389, AUC: 0.6387, Precision: 0.6824, Recall: 0.8056, MCC: 0.2956\n"
          ]
        }
      ],
      "source": [
        "num_epochs = 10\n",
        "for epoch in range(num_epochs):\n",
        "\n",
        "    train_loss, train_acc, train_f1, train_auc, train_precision, train_recall, train_mcc = train(model, train_loader, criterion, optimizer, device)\n",
        "    val_loss, val_acc, val_f1, val_auc, val_precision, val_recall, val_mcc = evaluate(model, test_loader, criterion, device)\n",
        "\n",
        "    print(f\"Epoch {epoch+1}/{num_epochs}\")\n",
        "    print(f\"Train - Loss: {train_loss:.4f}, Acc: {train_acc:.4f}, F1: {train_f1:.4f}, AUC: {train_auc:.4f}, \"\n",
        "          f\"Precision: {train_precision:.4f}, Recall: {train_recall:.4f}, MCC: {train_mcc:.4f}\")\n",
        "    print(f\"Val   - Loss: {val_loss:.4f}, Acc: {val_acc:.4f}, F1: {val_f1:.4f}, AUC: {val_auc:.4f}, \"\n",
        "          f\"Precision: {val_precision:.4f}, Recall: {val_recall:.4f}, MCC: {val_mcc:.4f}\")"
      ]
    },
    {
      "cell_type": "markdown",
      "metadata": {
        "id": "cYtBpAD79wd9"
      },
      "source": [
        "H3K4me3"
      ]
    },
    {
      "cell_type": "code",
      "execution_count": null,
      "metadata": {
        "colab": {
          "base_uri": "https://localhost:8080/"
        },
        "id": "8wEiGrvS9wmB",
        "outputId": "ddeda3ce-a392-4d1a-a79c-4e267d6fefbc"
      },
      "outputs": [
        {
          "name": "stdout",
          "output_type": "stream",
          "text": [
            "Epoch 1/10\n",
            "Train - Loss: 0.6702, Acc: 0.5921, F1: 0.6591, AUC: 0.5816, Precision: 0.5946, Recall: 0.7394, MCC: 0.1722\n",
            "Val   - Loss: 0.6669, Acc: 0.6114, F1: 0.6691, AUC: 0.6032, Precision: 0.6094, Recall: 0.7419, MCC: 0.2153\n",
            "Epoch 2/10\n",
            "Train - Loss: 0.6588, Acc: 0.6162, F1: 0.6598, AUC: 0.6103, Precision: 0.6257, Recall: 0.6980, MCC: 0.2243\n",
            "Val   - Loss: 0.6578, Acc: 0.6168, F1: 0.6320, AUC: 0.6166, Precision: 0.6431, Recall: 0.6213, MCC: 0.2328\n",
            "Epoch 3/10\n",
            "Train - Loss: 0.6505, Acc: 0.6294, F1: 0.6656, AUC: 0.6249, Precision: 0.6415, Recall: 0.6916, MCC: 0.2521\n",
            "Val   - Loss: 0.6632, Acc: 0.6003, F1: 0.5492, AUC: 0.6091, Precision: 0.6819, Recall: 0.4597, MCC: 0.2273\n",
            "Epoch 4/10\n",
            "Train - Loss: 0.6424, Acc: 0.6395, F1: 0.6666, AUC: 0.6369, Precision: 0.6576, Recall: 0.6759, MCC: 0.2744\n",
            "Val   - Loss: 0.6525, Acc: 0.6318, F1: 0.6658, AUC: 0.6280, Precision: 0.6410, Recall: 0.6927, MCC: 0.2582\n",
            "Epoch 5/10\n",
            "Train - Loss: 0.6359, Acc: 0.6473, F1: 0.6699, AUC: 0.6456, Precision: 0.6688, Recall: 0.6710, MCC: 0.2913\n",
            "Val   - Loss: 0.6454, Acc: 0.6332, F1: 0.6258, AUC: 0.6365, Precision: 0.6805, Recall: 0.5793, MCC: 0.2739\n",
            "Epoch 6/10\n",
            "Train - Loss: 0.6266, Acc: 0.6577, F1: 0.6748, AUC: 0.6571, Precision: 0.6840, Recall: 0.6659, MCC: 0.3138\n",
            "Val   - Loss: 0.6790, Acc: 0.6207, F1: 0.6941, AUC: 0.6086, Precision: 0.6057, Recall: 0.8127, MCC: 0.2390\n",
            "Epoch 7/10\n",
            "Train - Loss: 0.6196, Acc: 0.6671, F1: 0.6814, AUC: 0.6670, Precision: 0.6958, Recall: 0.6677, MCC: 0.3334\n",
            "Val   - Loss: 0.6729, Acc: 0.6190, F1: 0.6773, AUC: 0.6105, Precision: 0.6142, Recall: 0.7547, MCC: 0.2313\n",
            "Epoch 8/10\n",
            "Train - Loss: 0.6095, Acc: 0.6792, F1: 0.6886, AUC: 0.6802, Precision: 0.7139, Recall: 0.6650, MCC: 0.3596\n",
            "Val   - Loss: 0.6490, Acc: 0.6239, F1: 0.5951, AUC: 0.6303, Precision: 0.6923, Recall: 0.5218, MCC: 0.2657\n",
            "Epoch 9/10\n",
            "Train - Loss: 0.5982, Acc: 0.6916, F1: 0.6966, AUC: 0.6935, Precision: 0.7327, Recall: 0.6638, MCC: 0.3864\n",
            "Val   - Loss: 0.6452, Acc: 0.6198, F1: 0.5599, AUC: 0.6301, Precision: 0.7236, Recall: 0.4566, MCC: 0.2753\n",
            "Epoch 10/10\n",
            "Train - Loss: 0.5887, Acc: 0.7013, F1: 0.7039, AUC: 0.7039, Precision: 0.7469, Recall: 0.6656, MCC: 0.4073\n",
            "Val   - Loss: 0.6454, Acc: 0.6497, F1: 0.6607, AUC: 0.6501, Precision: 0.6784, Recall: 0.6439, MCC: 0.2997\n"
          ]
        }
      ],
      "source": [
        "num_epochs = 10\n",
        "for epoch in range(num_epochs):\n",
        "\n",
        "    train_loss, train_acc, train_f1, train_auc, train_precision, train_recall, train_mcc = train(model, train_loader, criterion, optimizer, device)\n",
        "    val_loss, val_acc, val_f1, val_auc, val_precision, val_recall, val_mcc = evaluate(model, test_loader, criterion, device)\n",
        "\n",
        "    print(f\"Epoch {epoch+1}/{num_epochs}\")\n",
        "    print(f\"Train - Loss: {train_loss:.4f}, Acc: {train_acc:.4f}, F1: {train_f1:.4f}, AUC: {train_auc:.4f}, \"\n",
        "          f\"Precision: {train_precision:.4f}, Recall: {train_recall:.4f}, MCC: {train_mcc:.4f}\")\n",
        "    print(f\"Val   - Loss: {val_loss:.4f}, Acc: {val_acc:.4f}, F1: {val_f1:.4f}, AUC: {val_auc:.4f}, \"\n",
        "          f\"Precision: {val_precision:.4f}, Recall: {val_recall:.4f}, MCC: {val_mcc:.4f}\")"
      ]
    },
    {
      "cell_type": "markdown",
      "metadata": {
        "id": "Hk1dGECZ9wtl"
      },
      "source": [
        "H3K9ac"
      ]
    },
    {
      "cell_type": "code",
      "execution_count": null,
      "metadata": {
        "colab": {
          "base_uri": "https://localhost:8080/"
        },
        "id": "6wOy-MD29w05",
        "outputId": "26e6eb9f-7cc0-4859-f84f-7f242cd72aaa"
      },
      "outputs": [
        {
          "name": "stdout",
          "output_type": "stream",
          "text": [
            "Epoch 1/10\n",
            "Train - Loss: 0.5572, Acc: 0.7357, F1: 0.7583, AUC: 0.7345, Precision: 0.7718, Recall: 0.7452, MCC: 0.4673\n",
            "Val   - Loss: 0.5517, Acc: 0.7460, F1: 0.7667, AUC: 0.7448, Precision: 0.7780, Recall: 0.7557, MCC: 0.4882\n",
            "Epoch 2/10\n",
            "Train - Loss: 0.5502, Acc: 0.7452, F1: 0.7666, AUC: 0.7443, Precision: 0.7815, Recall: 0.7523, MCC: 0.4867\n",
            "Val   - Loss: 0.5652, Acc: 0.7283, F1: 0.7199, AUC: 0.7396, Precision: 0.8362, Recall: 0.6319, MCC: 0.4832\n",
            "Epoch 3/10\n",
            "Train - Loss: 0.5469, Acc: 0.7474, F1: 0.7662, AUC: 0.7478, Precision: 0.7896, Recall: 0.7442, MCC: 0.4930\n",
            "Val   - Loss: 0.5547, Acc: 0.7438, F1: 0.7612, AUC: 0.7443, Precision: 0.7844, Recall: 0.7394, MCC: 0.4863\n",
            "Epoch 4/10\n",
            "Train - Loss: 0.5413, Acc: 0.7515, F1: 0.7695, AUC: 0.7522, Precision: 0.7949, Recall: 0.7456, MCC: 0.5017\n",
            "Val   - Loss: 0.5477, Acc: 0.7474, F1: 0.7566, AUC: 0.7517, Precision: 0.8087, Recall: 0.7107, MCC: 0.5008\n",
            "Epoch 5/10\n",
            "Train - Loss: 0.5347, Acc: 0.7568, F1: 0.7731, AUC: 0.7584, Precision: 0.8037, Recall: 0.7448, MCC: 0.5137\n",
            "Val   - Loss: 0.5470, Acc: 0.7549, F1: 0.7702, AUC: 0.7563, Precision: 0.7990, Recall: 0.7433, MCC: 0.5100\n",
            "Epoch 6/10\n",
            "Train - Loss: 0.5284, Acc: 0.7611, F1: 0.7758, AUC: 0.7634, Precision: 0.8115, Recall: 0.7432, MCC: 0.5235\n",
            "Val   - Loss: 0.5591, Acc: 0.7434, F1: 0.7508, AUC: 0.7486, Precision: 0.8100, Recall: 0.6997, MCC: 0.4949\n",
            "Epoch 7/10\n",
            "Train - Loss: 0.5181, Acc: 0.7676, F1: 0.7799, AUC: 0.7712, Precision: 0.8244, Recall: 0.7399, MCC: 0.5389\n",
            "Val   - Loss: 0.5643, Acc: 0.7463, F1: 0.7633, AUC: 0.7470, Precision: 0.7874, Recall: 0.7407, MCC: 0.4916\n",
            "Epoch 8/10\n",
            "Train - Loss: 0.5104, Acc: 0.7736, F1: 0.7857, AUC: 0.7771, Precision: 0.8299, Recall: 0.7460, MCC: 0.5507\n",
            "Val   - Loss: 0.5456, Acc: 0.7593, F1: 0.7759, AUC: 0.7598, Precision: 0.7986, Recall: 0.7544, MCC: 0.5173\n",
            "Epoch 9/10\n",
            "Train - Loss: 0.5008, Acc: 0.7814, F1: 0.7943, AUC: 0.7843, Precision: 0.8333, Recall: 0.7588, MCC: 0.5650\n",
            "Val   - Loss: 0.5990, Acc: 0.7492, F1: 0.7775, AUC: 0.7440, Precision: 0.7622, Recall: 0.7935, MCC: 0.4909\n",
            "Epoch 10/10\n",
            "Train - Loss: 0.4889, Acc: 0.7900, F1: 0.7993, AUC: 0.7949, Precision: 0.8535, Recall: 0.7515, MCC: 0.5861\n",
            "Val   - Loss: 0.5620, Acc: 0.7330, F1: 0.7348, AUC: 0.7404, Precision: 0.8139, Recall: 0.6697, MCC: 0.4802\n"
          ]
        }
      ],
      "source": [
        "num_epochs = 10\n",
        "for epoch in range(num_epochs):\n",
        "\n",
        "    train_loss, train_acc, train_f1, train_auc, train_precision, train_recall, train_mcc = train(model, train_loader, criterion, optimizer, device)\n",
        "    val_loss, val_acc, val_f1, val_auc, val_precision, val_recall, val_mcc = evaluate(model, test_loader, criterion, device)\n",
        "\n",
        "    print(f\"Epoch {epoch+1}/{num_epochs}\")\n",
        "    print(f\"Train - Loss: {train_loss:.4f}, Acc: {train_acc:.4f}, F1: {train_f1:.4f}, AUC: {train_auc:.4f}, \"\n",
        "          f\"Precision: {train_precision:.4f}, Recall: {train_recall:.4f}, MCC: {train_mcc:.4f}\")\n",
        "    print(f\"Val   - Loss: {val_loss:.4f}, Acc: {val_acc:.4f}, F1: {val_f1:.4f}, AUC: {val_auc:.4f}, \"\n",
        "          f\"Precision: {val_precision:.4f}, Recall: {val_recall:.4f}, MCC: {val_mcc:.4f}\")"
      ]
    },
    {
      "cell_type": "markdown",
      "metadata": {
        "id": "lSX1KZ5x9w-C"
      },
      "source": [
        "H3K14ac"
      ]
    },
    {
      "cell_type": "code",
      "execution_count": null,
      "metadata": {
        "colab": {
          "base_uri": "https://localhost:8080/"
        },
        "id": "C5zy-wgA9xIy",
        "outputId": "1daa25ac-6a61-4a2c-ef34-098a2ab3b5c1"
      },
      "outputs": [
        {
          "name": "stdout",
          "output_type": "stream",
          "text": [
            "Epoch 1/10\n",
            "Train - Loss: 0.6281, Acc: 0.6510, F1: 0.7096, AUC: 0.6355, Precision: 0.6701, Recall: 0.7540, MCC: 0.2793\n",
            "Val   - Loss: 0.6298, Acc: 0.6545, F1: 0.7562, AUC: 0.6061, Precision: 0.6352, Recall: 0.9341, MCC: 0.2890\n",
            "Epoch 2/10\n",
            "Train - Loss: 0.6089, Acc: 0.6815, F1: 0.7255, AUC: 0.6720, Precision: 0.7076, Recall: 0.7443, MCC: 0.3474\n",
            "Val   - Loss: 0.6052, Acc: 0.6989, F1: 0.7508, AUC: 0.6831, Precision: 0.7148, Recall: 0.7906, MCC: 0.3761\n",
            "Epoch 3/10\n",
            "Train - Loss: 0.6015, Acc: 0.6912, F1: 0.7319, AUC: 0.6831, Precision: 0.7190, Recall: 0.7452, MCC: 0.3686\n",
            "Val   - Loss: 0.6020, Acc: 0.6862, F1: 0.7290, AUC: 0.6777, Precision: 0.7224, Recall: 0.7358, MCC: 0.3566\n",
            "Epoch 4/10\n",
            "Train - Loss: 0.5969, Acc: 0.6963, F1: 0.7339, AUC: 0.6897, Precision: 0.7274, Recall: 0.7404, MCC: 0.3805\n",
            "Val   - Loss: 0.6000, Acc: 0.6983, F1: 0.7358, AUC: 0.6925, Precision: 0.7395, Recall: 0.7321, MCC: 0.3844\n",
            "Epoch 5/10\n",
            "Train - Loss: 0.5899, Acc: 0.7008, F1: 0.7370, AUC: 0.6947, Precision: 0.7327, Recall: 0.7414, MCC: 0.3902\n",
            "Val   - Loss: 0.5912, Acc: 0.6917, F1: 0.7101, AUC: 0.6975, Precision: 0.7708, Recall: 0.6582, MCC: 0.3907\n",
            "Epoch 6/10\n",
            "Train - Loss: 0.5819, Acc: 0.7093, F1: 0.7422, AUC: 0.7047, Precision: 0.7444, Recall: 0.7400, MCC: 0.4090\n",
            "Val   - Loss: 0.5869, Acc: 0.7023, F1: 0.7297, AUC: 0.7026, Precision: 0.7615, Recall: 0.7004, MCC: 0.4014\n",
            "Epoch 7/10\n",
            "Train - Loss: 0.5741, Acc: 0.7176, F1: 0.7497, AUC: 0.7130, Precision: 0.7515, Recall: 0.7479, MCC: 0.4258\n",
            "Val   - Loss: 0.5851, Acc: 0.7029, F1: 0.7280, AUC: 0.7046, Precision: 0.7666, Recall: 0.6930, MCC: 0.4050\n",
            "Epoch 8/10\n",
            "Train - Loss: 0.5636, Acc: 0.7259, F1: 0.7542, AUC: 0.7232, Precision: 0.7650, Recall: 0.7437, MCC: 0.4448\n",
            "Val   - Loss: 0.5789, Acc: 0.7144, F1: 0.7600, AUC: 0.7016, Precision: 0.7336, Recall: 0.7885, MCC: 0.4100\n",
            "Epoch 9/10\n",
            "Train - Loss: 0.5553, Acc: 0.7330, F1: 0.7576, AUC: 0.7323, Precision: 0.7784, Recall: 0.7379, MCC: 0.4618\n",
            "Val   - Loss: 0.5825, Acc: 0.7059, F1: 0.7362, AUC: 0.7043, Precision: 0.7584, Recall: 0.7152, MCC: 0.4055\n",
            "Epoch 10/10\n",
            "Train - Loss: 0.5441, Acc: 0.7403, F1: 0.7627, AUC: 0.7407, Precision: 0.7890, Recall: 0.7382, MCC: 0.4780\n",
            "Val   - Loss: 0.5822, Acc: 0.6959, F1: 0.7062, AUC: 0.7061, Precision: 0.7921, Recall: 0.6371, MCC: 0.4089\n"
          ]
        }
      ],
      "source": [
        "num_epochs = 10\n",
        "for epoch in range(num_epochs):\n",
        "\n",
        "    train_loss, train_acc, train_f1, train_auc, train_precision, train_recall, train_mcc = train(model, train_loader, criterion, optimizer, device)\n",
        "    val_loss, val_acc, val_f1, val_auc, val_precision, val_recall, val_mcc = evaluate(model, test_loader, criterion, device)\n",
        "\n",
        "    print(f\"Epoch {epoch+1}/{num_epochs}\")\n",
        "    print(f\"Train - Loss: {train_loss:.4f}, Acc: {train_acc:.4f}, F1: {train_f1:.4f}, AUC: {train_auc:.4f}, \"\n",
        "          f\"Precision: {train_precision:.4f}, Recall: {train_recall:.4f}, MCC: {train_mcc:.4f}\")\n",
        "    print(f\"Val   - Loss: {val_loss:.4f}, Acc: {val_acc:.4f}, F1: {val_f1:.4f}, AUC: {val_auc:.4f}, \"\n",
        "          f\"Precision: {val_precision:.4f}, Recall: {val_recall:.4f}, MCC: {val_mcc:.4f}\")"
      ]
    },
    {
      "cell_type": "markdown",
      "metadata": {
        "id": "nylQBt2U99Fl"
      },
      "source": [
        "H3K36me3"
      ]
    },
    {
      "cell_type": "code",
      "execution_count": null,
      "metadata": {
        "colab": {
          "base_uri": "https://localhost:8080/"
        },
        "id": "Pkz9UXOJ99Li",
        "outputId": "bd05e5a8-ac1b-4205-993c-3fae2e28db98"
      },
      "outputs": [
        {
          "name": "stdout",
          "output_type": "stream",
          "text": [
            "Epoch 1/10\n",
            "Train - Loss: 0.6094, Acc: 0.6872, F1: 0.7145, AUC: 0.6840, Precision: 0.7055, Recall: 0.7237, MCC: 0.3689\n",
            "Val   - Loss: 0.6149, Acc: 0.6694, F1: 0.6809, AUC: 0.6741, Precision: 0.7361, Recall: 0.6334, MCC: 0.3462\n",
            "Epoch 2/10\n",
            "Train - Loss: 0.5891, Acc: 0.7136, F1: 0.7340, AUC: 0.7121, Precision: 0.7372, Recall: 0.7309, MCC: 0.4238\n",
            "Val   - Loss: 0.5879, Acc: 0.7116, F1: 0.7337, AUC: 0.7113, Precision: 0.7549, Recall: 0.7137, MCC: 0.4205\n",
            "Epoch 3/10\n",
            "Train - Loss: 0.5832, Acc: 0.7201, F1: 0.7403, AUC: 0.7186, Precision: 0.7430, Recall: 0.7376, MCC: 0.4369\n",
            "Val   - Loss: 0.6025, Acc: 0.6697, F1: 0.6368, AUC: 0.6889, Precision: 0.8211, Recall: 0.5201, MCC: 0.3928\n",
            "Epoch 4/10\n",
            "Train - Loss: 0.5776, Acc: 0.7266, F1: 0.7461, AUC: 0.7252, Precision: 0.7494, Recall: 0.7429, MCC: 0.4500\n",
            "Val   - Loss: 0.5774, Acc: 0.7308, F1: 0.7599, AUC: 0.7264, Precision: 0.7547, Recall: 0.7652, MCC: 0.4536\n",
            "Epoch 5/10\n",
            "Train - Loss: 0.5724, Acc: 0.7311, F1: 0.7499, AUC: 0.7299, Precision: 0.7544, Recall: 0.7454, MCC: 0.4593\n",
            "Val   - Loss: 0.5790, Acc: 0.7210, F1: 0.7381, AUC: 0.7230, Precision: 0.7733, Recall: 0.7060, MCC: 0.4431\n",
            "Epoch 6/10\n",
            "Train - Loss: 0.5677, Acc: 0.7365, F1: 0.7541, AUC: 0.7355, Precision: 0.7611, Recall: 0.7472, MCC: 0.4704\n",
            "Val   - Loss: 0.5866, Acc: 0.7076, F1: 0.7087, AUC: 0.7163, Precision: 0.7955, Recall: 0.6390, MCC: 0.4323\n",
            "Epoch 7/10\n",
            "Train - Loss: 0.5624, Acc: 0.7418, F1: 0.7579, AUC: 0.7412, Precision: 0.7685, Recall: 0.7476, MCC: 0.4815\n",
            "Val   - Loss: 0.5865, Acc: 0.7188, F1: 0.7614, AUC: 0.7076, Precision: 0.7215, Recall: 0.8059, MCC: 0.4253\n",
            "Epoch 8/10\n",
            "Train - Loss: 0.5563, Acc: 0.7484, F1: 0.7619, AUC: 0.7487, Precision: 0.7802, Recall: 0.7444, MCC: 0.4961\n",
            "Val   - Loss: 0.5743, Acc: 0.7253, F1: 0.7468, AUC: 0.7251, Precision: 0.7671, Recall: 0.7276, MCC: 0.4479\n",
            "Epoch 9/10\n",
            "Train - Loss: 0.5484, Acc: 0.7568, F1: 0.7709, AUC: 0.7568, Precision: 0.7857, Recall: 0.7566, MCC: 0.5124\n",
            "Val   - Loss: 0.5843, Acc: 0.7228, F1: 0.7636, AUC: 0.7123, Precision: 0.7268, Recall: 0.8043, MCC: 0.4337\n",
            "Epoch 10/10\n",
            "Train - Loss: 0.5409, Acc: 0.7622, F1: 0.7742, AUC: 0.7629, Precision: 0.7955, Recall: 0.7540, MCC: 0.5242\n",
            "Val   - Loss: 0.5723, Acc: 0.7239, F1: 0.7359, AUC: 0.7281, Precision: 0.7871, Recall: 0.6910, MCC: 0.4534\n"
          ]
        }
      ],
      "source": [
        "num_epochs = 10\n",
        "for epoch in range(num_epochs):\n",
        "\n",
        "    train_loss, train_acc, train_f1, train_auc, train_precision, train_recall, train_mcc = train(model, train_loader, criterion, optimizer, device)\n",
        "    val_loss, val_acc, val_f1, val_auc, val_precision, val_recall, val_mcc = evaluate(model, test_loader, criterion, device)\n",
        "\n",
        "    print(f\"Epoch {epoch+1}/{num_epochs}\")\n",
        "    print(f\"Train - Loss: {train_loss:.4f}, Acc: {train_acc:.4f}, F1: {train_f1:.4f}, AUC: {train_auc:.4f}, \"\n",
        "          f\"Precision: {train_precision:.4f}, Recall: {train_recall:.4f}, MCC: {train_mcc:.4f}\")\n",
        "    print(f\"Val   - Loss: {val_loss:.4f}, Acc: {val_acc:.4f}, F1: {val_f1:.4f}, AUC: {val_auc:.4f}, \"\n",
        "          f\"Precision: {val_precision:.4f}, Recall: {val_recall:.4f}, MCC: {val_mcc:.4f}\")"
      ]
    },
    {
      "cell_type": "markdown",
      "metadata": {
        "id": "jTTsU49F-CFN"
      },
      "source": [
        "H3K79me3"
      ]
    },
    {
      "cell_type": "code",
      "execution_count": null,
      "metadata": {
        "colab": {
          "base_uri": "https://localhost:8080/"
        },
        "id": "pnMpfS-O-CPu",
        "outputId": "e8ebd087-e083-4bb4-bc21-74b8dbf117a9"
      },
      "outputs": [
        {
          "name": "stdout",
          "output_type": "stream",
          "text": [
            "Epoch 1/10\n",
            "Train - Loss: 0.5702, Acc: 0.7437, F1: 0.7649, AUC: 0.7409, Precision: 0.7456, Recall: 0.7851, MCC: 0.4844\n",
            "Val   - Loss: 0.5521, Acc: 0.7677, F1: 0.7990, AUC: 0.7612, Precision: 0.7367, Recall: 0.8729, MCC: 0.5391\n",
            "Epoch 2/10\n",
            "Train - Loss: 0.5408, Acc: 0.7826, F1: 0.7970, AUC: 0.7812, Precision: 0.7903, Recall: 0.8038, MCC: 0.5631\n",
            "Val   - Loss: 0.5306, Acc: 0.7902, F1: 0.7995, AUC: 0.7902, Precision: 0.8089, Recall: 0.7903, MCC: 0.5798\n",
            "Epoch 3/10\n",
            "Train - Loss: 0.5364, Acc: 0.7812, F1: 0.7934, AUC: 0.7805, Precision: 0.7955, Recall: 0.7913, MCC: 0.5608\n",
            "Val   - Loss: 0.5371, Acc: 0.7926, F1: 0.8175, AUC: 0.7874, Precision: 0.7651, Recall: 0.8775, MCC: 0.5874\n",
            "Epoch 4/10\n",
            "Train - Loss: 0.5302, Acc: 0.7889, F1: 0.8023, AUC: 0.7878, Precision: 0.7981, Recall: 0.8066, MCC: 0.5760\n",
            "Val   - Loss: 0.5334, Acc: 0.7764, F1: 0.7657, AUC: 0.7817, Precision: 0.8590, Recall: 0.6907, MCC: 0.5687\n",
            "Epoch 5/10\n",
            "Train - Loss: 0.5244, Acc: 0.7954, F1: 0.8072, AUC: 0.7946, Precision: 0.8077, Recall: 0.8066, MCC: 0.5892\n",
            "Val   - Loss: 0.5266, Acc: 0.7972, F1: 0.8191, AUC: 0.7928, Precision: 0.7756, Recall: 0.8676, MCC: 0.5947\n",
            "Epoch 6/10\n",
            "Train - Loss: 0.5215, Acc: 0.7950, F1: 0.8053, AUC: 0.7948, Precision: 0.8124, Recall: 0.7983, MCC: 0.5890\n",
            "Val   - Loss: 0.5352, Acc: 0.7854, F1: 0.8070, AUC: 0.7815, Precision: 0.7698, Recall: 0.8480, MCC: 0.5699\n",
            "Epoch 7/10\n",
            "Train - Loss: 0.5168, Acc: 0.8010, F1: 0.8114, AUC: 0.8006, Precision: 0.8166, Recall: 0.8063, MCC: 0.6008\n",
            "Val   - Loss: 0.5329, Acc: 0.7798, F1: 0.7690, AUC: 0.7852, Precision: 0.8643, Recall: 0.6927, MCC: 0.5761\n",
            "Epoch 8/10\n",
            "Train - Loss: 0.5102, Acc: 0.8050, F1: 0.8149, AUC: 0.8047, Precision: 0.8213, Recall: 0.8086, MCC: 0.6089\n",
            "Val   - Loss: 0.5206, Acc: 0.8027, F1: 0.8151, AUC: 0.8015, Precision: 0.8085, Recall: 0.8218, MCC: 0.6038\n",
            "Epoch 9/10\n",
            "Train - Loss: 0.5039, Acc: 0.8082, F1: 0.8161, AUC: 0.8086, Precision: 0.8311, Recall: 0.8017, MCC: 0.6162\n",
            "Val   - Loss: 0.5231, Acc: 0.7926, F1: 0.7894, AUC: 0.7962, Precision: 0.8531, Recall: 0.7346, MCC: 0.5938\n",
            "Epoch 10/10\n",
            "Train - Loss: 0.4967, Acc: 0.8126, F1: 0.8211, AUC: 0.8129, Precision: 0.8330, Recall: 0.8095, MCC: 0.6248\n",
            "Val   - Loss: 0.5228, Acc: 0.7940, F1: 0.8105, AUC: 0.7917, Precision: 0.7898, Recall: 0.8322, MCC: 0.5863\n"
          ]
        }
      ],
      "source": [
        "num_epochs = 10\n",
        "for epoch in range(num_epochs):\n",
        "\n",
        "    train_loss, train_acc, train_f1, train_auc, train_precision, train_recall, train_mcc = train(model, train_loader, criterion, optimizer, device)\n",
        "    val_loss, val_acc, val_f1, val_auc, val_precision, val_recall, val_mcc = evaluate(model, test_loader, criterion, device)\n",
        "\n",
        "    print(f\"Epoch {epoch+1}/{num_epochs}\")\n",
        "    print(f\"Train - Loss: {train_loss:.4f}, Acc: {train_acc:.4f}, F1: {train_f1:.4f}, AUC: {train_auc:.4f}, \"\n",
        "          f\"Precision: {train_precision:.4f}, Recall: {train_recall:.4f}, MCC: {train_mcc:.4f}\")\n",
        "    print(f\"Val   - Loss: {val_loss:.4f}, Acc: {val_acc:.4f}, F1: {val_f1:.4f}, AUC: {val_auc:.4f}, \"\n",
        "          f\"Precision: {val_precision:.4f}, Recall: {val_recall:.4f}, MCC: {val_mcc:.4f}\")"
      ]
    },
    {
      "cell_type": "markdown",
      "metadata": {
        "id": "y27Ym22O-FF4"
      },
      "source": [
        "H4"
      ]
    },
    {
      "cell_type": "code",
      "execution_count": null,
      "metadata": {
        "colab": {
          "base_uri": "https://localhost:8080/"
        },
        "id": "vyInOcSt-FNt",
        "outputId": "220566d5-0b9d-47a1-f6e5-6e191bb197c7"
      },
      "outputs": [
        {
          "name": "stdout",
          "output_type": "stream",
          "text": [
            "Epoch 1/10\n",
            "Train - Loss: 0.5467, Acc: 0.8123, F1: 0.7930, AUC: 0.8119, Precision: 0.7784, Recall: 0.8081, MCC: 0.6218\n",
            "Val   - Loss: 0.5131, Acc: 0.8412, F1: 0.8034, AUC: 0.8301, Precision: 0.8893, Recall: 0.7326, MCC: 0.6812\n",
            "Epoch 2/10\n",
            "Train - Loss: 0.5126, Acc: 0.8514, F1: 0.8305, AUC: 0.8482, Precision: 0.8430, Recall: 0.8185, MCC: 0.6986\n",
            "Val   - Loss: 0.4821, Acc: 0.8775, F1: 0.8603, AUC: 0.8748, Precision: 0.8691, Recall: 0.8516, MCC: 0.7513\n",
            "Epoch 3/10\n",
            "Train - Loss: 0.5040, Acc: 0.8593, F1: 0.8393, AUC: 0.8560, Precision: 0.8534, Recall: 0.8256, MCC: 0.7146\n",
            "Val   - Loss: 0.4827, Acc: 0.8754, F1: 0.8613, AUC: 0.8752, Precision: 0.8496, Recall: 0.8733, MCC: 0.7485\n",
            "Epoch 4/10\n",
            "Train - Loss: 0.4928, Acc: 0.8650, F1: 0.8468, AUC: 0.8624, Precision: 0.8548, Recall: 0.8389, MCC: 0.7262\n",
            "Val   - Loss: 0.4882, Acc: 0.8576, F1: 0.8228, AUC: 0.8462, Precision: 0.9165, Recall: 0.7465, MCC: 0.7163\n",
            "Epoch 5/10\n",
            "Train - Loss: 0.4831, Acc: 0.8705, F1: 0.8510, AUC: 0.8666, Precision: 0.8719, Recall: 0.8310, MCC: 0.7373\n",
            "Val   - Loss: 0.4717, Acc: 0.8830, F1: 0.8717, AUC: 0.8845, Precision: 0.8469, Recall: 0.8980, MCC: 0.7654\n",
            "Epoch 6/10\n",
            "Train - Loss: 0.4760, Acc: 0.8772, F1: 0.8593, AUC: 0.8738, Precision: 0.8763, Recall: 0.8429, MCC: 0.7509\n",
            "Val   - Loss: 0.4733, Acc: 0.8946, F1: 0.8791, AUC: 0.8916, Precision: 0.8931, Recall: 0.8655, MCC: 0.7860\n",
            "Epoch 7/10\n",
            "Train - Loss: 0.4696, Acc: 0.8790, F1: 0.8594, AUC: 0.8743, Precision: 0.8894, Recall: 0.8314, MCC: 0.7548\n",
            "Val   - Loss: 0.4715, Acc: 0.8802, F1: 0.8560, AUC: 0.8724, Precision: 0.9155, Recall: 0.8037, MCC: 0.7589\n",
            "Epoch 8/10\n",
            "Train - Loss: 0.4694, Acc: 0.8801, F1: 0.8618, AUC: 0.8762, Precision: 0.8845, Recall: 0.8402, MCC: 0.7569\n",
            "Val   - Loss: 0.5573, Acc: 0.7823, F1: 0.6858, AUC: 0.7571, Precision: 0.9507, Recall: 0.5363, MCC: 0.5900\n",
            "Epoch 9/10\n",
            "Train - Loss: 0.4624, Acc: 0.8808, F1: 0.8617, AUC: 0.8762, Precision: 0.8907, Recall: 0.8345, MCC: 0.7584\n",
            "Val   - Loss: 0.4897, Acc: 0.8877, F1: 0.8754, AUC: 0.8880, Precision: 0.8610, Recall: 0.8903, MCC: 0.7737\n",
            "Epoch 10/10\n",
            "Train - Loss: 0.4547, Acc: 0.8901, F1: 0.8729, AUC: 0.8859, Precision: 0.8995, Recall: 0.8477, MCC: 0.7774\n",
            "Val   - Loss: 0.4756, Acc: 0.8789, F1: 0.8555, AUC: 0.8718, Precision: 0.9066, Recall: 0.8099, MCC: 0.7553\n"
          ]
        }
      ],
      "source": [
        "num_epochs = 10\n",
        "for epoch in range(num_epochs):\n",
        "\n",
        "    train_loss, train_acc, train_f1, train_auc, train_precision, train_recall, train_mcc = train(model, train_loader, criterion, optimizer, device)\n",
        "\n",
        "    val_loss, val_acc, val_f1, val_auc, val_precision, val_recall, val_mcc = evaluate(model, test_loader, criterion, device)\n",
        "\n",
        "    print(f\"Epoch {epoch+1}/{num_epochs}\")\n",
        "    print(f\"Train - Loss: {train_loss:.4f}, Acc: {train_acc:.4f}, F1: {train_f1:.4f}, AUC: {train_auc:.4f}, \"\n",
        "          f\"Precision: {train_precision:.4f}, Recall: {train_recall:.4f}, MCC: {train_mcc:.4f}\")\n",
        "    print(f\"Val   - Loss: {val_loss:.4f}, Acc: {val_acc:.4f}, F1: {val_f1:.4f}, AUC: {val_auc:.4f}, \"\n",
        "          f\"Precision: {val_precision:.4f}, Recall: {val_recall:.4f}, MCC: {val_mcc:.4f}\")"
      ]
    },
    {
      "cell_type": "markdown",
      "metadata": {
        "id": "nipNUY1C_7rI"
      },
      "source": [
        "H4ac"
      ]
    },
    {
      "cell_type": "code",
      "execution_count": null,
      "metadata": {
        "colab": {
          "base_uri": "https://localhost:8080/"
        },
        "id": "BqEWFE7Z_7zY",
        "outputId": "384c63de-be02-4e3a-b6ea-22f8414ca46a"
      },
      "outputs": [
        {
          "name": "stdout",
          "output_type": "stream",
          "text": [
            "Epoch 1/10\n",
            "Train - Loss: 0.6412, Acc: 0.6436, F1: 0.6951, AUC: 0.6339, Precision: 0.6476, Recall: 0.7501, MCC: 0.2760\n",
            "Val   - Loss: 0.6310, Acc: 0.6651, F1: 0.7066, AUC: 0.6587, Precision: 0.6620, Recall: 0.7576, MCC: 0.3246\n",
            "Epoch 2/10\n",
            "Train - Loss: 0.6226, Acc: 0.6684, F1: 0.7010, AUC: 0.6639, Precision: 0.6850, Recall: 0.7178, MCC: 0.3298\n",
            "Val   - Loss: 0.6258, Acc: 0.6589, F1: 0.6521, AUC: 0.6630, Precision: 0.7134, Recall: 0.6006, MCC: 0.3270\n",
            "Epoch 3/10\n",
            "Train - Loss: 0.6148, Acc: 0.6792, F1: 0.7076, AUC: 0.6758, Precision: 0.6988, Recall: 0.7166, MCC: 0.3526\n",
            "Val   - Loss: 0.6283, Acc: 0.6633, F1: 0.6294, AUC: 0.6720, Precision: 0.7599, Recall: 0.5372, MCC: 0.3544\n",
            "Epoch 4/10\n",
            "Train - Loss: 0.6074, Acc: 0.6877, F1: 0.7128, AUC: 0.6852, Precision: 0.7102, Recall: 0.7153, MCC: 0.3707\n",
            "Val   - Loss: 0.6146, Acc: 0.6765, F1: 0.7173, AUC: 0.6700, Precision: 0.6707, Recall: 0.7708, MCC: 0.3482\n",
            "Epoch 5/10\n",
            "Train - Loss: 0.6017, Acc: 0.6919, F1: 0.7144, AUC: 0.6901, Precision: 0.7173, Recall: 0.7116, MCC: 0.3800\n",
            "Val   - Loss: 0.6242, Acc: 0.6554, F1: 0.5999, AUC: 0.6672, Precision: 0.7852, Recall: 0.4854, MCC: 0.3550\n",
            "Epoch 6/10\n",
            "Train - Loss: 0.5944, Acc: 0.6971, F1: 0.7163, AUC: 0.6963, Precision: 0.7268, Recall: 0.7062, MCC: 0.3917\n",
            "Val   - Loss: 0.6101, Acc: 0.6897, F1: 0.6767, AUC: 0.6952, Precision: 0.7598, Recall: 0.6099, MCC: 0.3939\n",
            "Epoch 7/10\n",
            "Train - Loss: 0.5868, Acc: 0.7060, F1: 0.7238, AUC: 0.7055, Precision: 0.7368, Recall: 0.7112, MCC: 0.4100\n",
            "Val   - Loss: 0.6347, Acc: 0.6296, F1: 0.5286, AUC: 0.6461, Precision: 0.8194, Recall: 0.3901, MCC: 0.3353\n",
            "Epoch 8/10\n",
            "Train - Loss: 0.5784, Acc: 0.7124, F1: 0.7271, AUC: 0.7128, Precision: 0.7478, Recall: 0.7076, MCC: 0.4243\n",
            "Val   - Loss: 0.5996, Acc: 0.7015, F1: 0.7078, AUC: 0.7030, Precision: 0.7388, Recall: 0.6793, MCC: 0.4052\n",
            "Epoch 9/10\n",
            "Train - Loss: 0.5707, Acc: 0.7201, F1: 0.7320, AUC: 0.7214, Precision: 0.7603, Recall: 0.7057, MCC: 0.4413\n",
            "Val   - Loss: 0.6036, Acc: 0.6938, F1: 0.7215, AUC: 0.6903, Precision: 0.6994, Recall: 0.7449, MCC: 0.3833\n",
            "Epoch 10/10\n",
            "Train - Loss: 0.5606, Acc: 0.7303, F1: 0.7421, AUC: 0.7315, Precision: 0.7696, Recall: 0.7166, MCC: 0.4615\n",
            "Val   - Loss: 0.6612, Acc: 0.6639, F1: 0.7322, AUC: 0.6502, Precision: 0.6357, Recall: 0.8634, MCC: 0.3348\n"
          ]
        }
      ],
      "source": [
        "num_epochs = 10\n",
        "for epoch in range(num_epochs):\n",
        "\n",
        "    train_loss, train_acc, train_f1, train_auc, train_precision, train_recall, train_mcc = train(model, train_loader, criterion, optimizer, device)\n",
        "\n",
        "    val_loss, val_acc, val_f1, val_auc, val_precision, val_recall, val_mcc = evaluate(model, test_loader, criterion, device)\n",
        "\n",
        "    print(f\"Epoch {epoch+1}/{num_epochs}\")\n",
        "    print(f\"Train - Loss: {train_loss:.4f}, Acc: {train_acc:.4f}, F1: {train_f1:.4f}, AUC: {train_auc:.4f}, \"\n",
        "          f\"Precision: {train_precision:.4f}, Recall: {train_recall:.4f}, MCC: {train_mcc:.4f}\")\n",
        "    print(f\"Val   - Loss: {val_loss:.4f}, Acc: {val_acc:.4f}, F1: {val_f1:.4f}, AUC: {val_auc:.4f}, \"\n",
        "          f\"Precision: {val_precision:.4f}, Recall: {val_recall:.4f}, MCC: {val_mcc:.4f}\")"
      ]
    },
    {
      "cell_type": "markdown",
      "metadata": {
        "id": "X79FEmUjwk9D"
      },
      "source": [
        "# TFP Human\n"
      ]
    },
    {
      "cell_type": "markdown",
      "metadata": {
        "id": "H54wvuwC-aeY"
      },
      "source": [
        "0"
      ]
    },
    {
      "cell_type": "code",
      "execution_count": null,
      "metadata": {
        "colab": {
          "background_save": true,
          "base_uri": "https://localhost:8080/"
        },
        "id": "Gnddk4L6wliX",
        "outputId": "7deb8ca5-e0f1-43f8-94eb-a96464c52f67"
      },
      "outputs": [
        {
          "name": "stdout",
          "output_type": "stream",
          "text": [
            "Epoch 1/10\n",
            "Train - Loss: 0.5802, Acc: 0.7434, F1: 0.7438, AUC: 0.7434, Precision: 0.7419, Recall: 0.7457, MCC: 0.4868\n",
            "Val   - Loss: 0.5288, Acc: 0.8070, F1: 0.8083, AUC: 0.8070, Precision: 0.8028, Recall: 0.8140, MCC: 0.6141\n",
            "Epoch 2/10\n",
            "Train - Loss: 0.5600, Acc: 0.7652, F1: 0.7627, AUC: 0.7652, Precision: 0.7701, Recall: 0.7554, MCC: 0.5305\n",
            "Val   - Loss: 0.5259, Acc: 0.8090, F1: 0.8265, AUC: 0.8090, Precision: 0.7571, Recall: 0.9100, MCC: 0.6310\n",
            "Epoch 3/10\n",
            "Train - Loss: 0.5525, Acc: 0.7717, F1: 0.7709, AUC: 0.7717, Precision: 0.7728, Recall: 0.7691, MCC: 0.5435\n",
            "Val   - Loss: 0.5215, Acc: 0.8140, F1: 0.8309, AUC: 0.8140, Precision: 0.7617, Recall: 0.9140, MCC: 0.6409\n",
            "Epoch 4/10\n",
            "Train - Loss: 0.5475, Acc: 0.7778, F1: 0.7767, AUC: 0.7778, Precision: 0.7797, Recall: 0.7737, MCC: 0.5556\n",
            "Val   - Loss: 0.5100, Acc: 0.8300, F1: 0.8353, AUC: 0.8300, Precision: 0.8102, Recall: 0.8620, MCC: 0.6614\n",
            "Epoch 5/10\n",
            "Train - Loss: 0.5394, Acc: 0.7851, F1: 0.7840, AUC: 0.7851, Precision: 0.7872, Recall: 0.7808, MCC: 0.5702\n",
            "Val   - Loss: 0.5132, Acc: 0.8260, F1: 0.8398, AUC: 0.8260, Precision: 0.7782, Recall: 0.9120, MCC: 0.6619\n",
            "Epoch 6/10\n",
            "Train - Loss: 0.5363, Acc: 0.7872, F1: 0.7848, AUC: 0.7872, Precision: 0.7928, Recall: 0.7770, MCC: 0.5745\n",
            "Val   - Loss: 0.5117, Acc: 0.8370, F1: 0.8404, AUC: 0.8370, Precision: 0.8234, Recall: 0.8580, MCC: 0.6746\n",
            "Epoch 7/10\n",
            "Train - Loss: 0.5315, Acc: 0.7927, F1: 0.7911, AUC: 0.7927, Precision: 0.7964, Recall: 0.7859, MCC: 0.5854\n",
            "Val   - Loss: 0.5069, Acc: 0.8310, F1: 0.8380, AUC: 0.8310, Precision: 0.8048, Recall: 0.8740, MCC: 0.6645\n",
            "Epoch 8/10\n",
            "Train - Loss: 0.5260, Acc: 0.7960, F1: 0.7932, AUC: 0.7960, Precision: 0.8036, Recall: 0.7831, MCC: 0.5922\n",
            "Val   - Loss: 0.5087, Acc: 0.8290, F1: 0.8382, AUC: 0.8290, Precision: 0.7953, Recall: 0.8860, MCC: 0.6623\n",
            "Epoch 9/10\n",
            "Train - Loss: 0.5226, Acc: 0.7956, F1: 0.7920, AUC: 0.7956, Precision: 0.8054, Recall: 0.7789, MCC: 0.5915\n",
            "Val   - Loss: 0.5060, Acc: 0.8370, F1: 0.8419, AUC: 0.8370, Precision: 0.8173, Recall: 0.8680, MCC: 0.6753\n",
            "Epoch 10/10\n",
            "Train - Loss: 0.5171, Acc: 0.8029, F1: 0.7994, AUC: 0.8028, Precision: 0.8129, Recall: 0.7863, MCC: 0.6060\n",
            "Val   - Loss: 0.5078, Acc: 0.8280, F1: 0.8343, AUC: 0.8280, Precision: 0.8048, Recall: 0.8660, MCC: 0.6579\n"
          ]
        }
      ],
      "source": [
        "for epoch in range(num_epochs):\n",
        "    train_loss, train_acc, train_f1, train_auc, train_precision, train_recall, train_mcc = train(model, train_loader, criterion, optimizer, device)\n",
        "\n",
        "    val_loss, val_acc, val_f1, val_auc, val_precision, val_recall, val_mcc = evaluate(model, test_loader, criterion, device)\n",
        "\n",
        "    print(f\"Epoch {epoch+1}/{num_epochs}\")\n",
        "    print(f\"Train - Loss: {train_loss:.4f}, Acc: {train_acc:.4f}, F1: {train_f1:.4f}, AUC: {train_auc:.4f}, \"\n",
        "          f\"Precision: {train_precision:.4f}, Recall: {train_recall:.4f}, MCC: {train_mcc:.4f}\")\n",
        "    print(f\"Val   - Loss: {val_loss:.4f}, Acc: {val_acc:.4f}, F1: {val_f1:.4f}, AUC: {val_auc:.4f}, \"\n",
        "          f\"Precision: {val_precision:.4f}, Recall: {val_recall:.4f}, MCC: {val_mcc:.4f}\")"
      ]
    },
    {
      "cell_type": "markdown",
      "metadata": {
        "id": "yp5FKaIf-bzj"
      },
      "source": [
        "1"
      ]
    },
    {
      "cell_type": "code",
      "execution_count": null,
      "metadata": {
        "id": "Wvzj7BJk-b6o"
      },
      "outputs": [],
      "source": [
        "for epoch in range(num_epochs):\n",
        "\n",
        "    train_loss, train_acc, train_f1, train_auc, train_precision, train_recall, train_mcc = train(model, train_loader, criterion, optimizer, device)\n",
        "\n",
        "    val_loss, val_acc, val_f1, val_auc, val_precision, val_recall, val_mcc = evaluate(model, test_loader, criterion, device)\n",
        "\n",
        "    print(f\"Epoch {epoch+1}/{num_epochs}\")\n",
        "    print(f\"Train - Loss: {train_loss:.4f}, Acc: {train_acc:.4f}, F1: {train_f1:.4f}, AUC: {train_auc:.4f}, \"\n",
        "          f\"Precision: {train_precision:.4f}, Recall: {train_recall:.4f}, MCC: {train_mcc:.4f}\")\n",
        "    print(f\"Val   - Loss: {val_loss:.4f}, Acc: {val_acc:.4f}, F1: {val_f1:.4f}, AUC: {val_auc:.4f}, \"\n",
        "          f\"Precision: {val_precision:.4f}, Recall: {val_recall:.4f}, MCC: {val_mcc:.4f}\")"
      ]
    },
    {
      "cell_type": "markdown",
      "metadata": {
        "id": "8efokbIk-cLr"
      },
      "source": [
        "2"
      ]
    },
    {
      "cell_type": "code",
      "execution_count": null,
      "metadata": {
        "id": "rvQAnv-S-cQA"
      },
      "outputs": [],
      "source": [
        "for epoch in range(num_epochs):\n",
        "\n",
        "    train_loss, train_acc, train_f1, train_auc, train_precision, train_recall, train_mcc = train(model, train_loader, criterion, optimizer, device)\n",
        "\n",
        "    val_loss, val_acc, val_f1, val_auc, val_precision, val_recall, val_mcc = evaluate(model, test_loader, criterion, device)\n",
        "\n",
        "    print(f\"Epoch {epoch+1}/{num_epochs}\")\n",
        "    print(f\"Train - Loss: {train_loss:.4f}, Acc: {train_acc:.4f}, F1: {train_f1:.4f}, AUC: {train_auc:.4f}, \"\n",
        "          f\"Precision: {train_precision:.4f}, Recall: {train_recall:.4f}, MCC: {train_mcc:.4f}\")\n",
        "    print(f\"Val   - Loss: {val_loss:.4f}, Acc: {val_acc:.4f}, F1: {val_f1:.4f}, AUC: {val_auc:.4f}, \"\n",
        "          f\"Precision: {val_precision:.4f}, Recall: {val_recall:.4f}, MCC: {val_mcc:.4f}\")"
      ]
    },
    {
      "cell_type": "markdown",
      "metadata": {
        "id": "0Ji-CsUY-cVV"
      },
      "source": [
        "3"
      ]
    },
    {
      "cell_type": "code",
      "execution_count": null,
      "metadata": {
        "id": "RGRdR7lq-cZI"
      },
      "outputs": [],
      "source": [
        "for epoch in range(num_epochs):\n",
        "\n",
        "    train_loss, train_acc, train_f1, train_auc, train_precision, train_recall, train_mcc = train(model, train_loader, criterion, optimizer, device)\n",
        "\n",
        "    val_loss, val_acc, val_f1, val_auc, val_precision, val_recall, val_mcc = evaluate(model, test_loader, criterion, device)\n",
        "\n",
        "    print(f\"Epoch {epoch+1}/{num_epochs}\")\n",
        "    print(f\"Train - Loss: {train_loss:.4f}, Acc: {train_acc:.4f}, F1: {train_f1:.4f}, AUC: {train_auc:.4f}, \"\n",
        "          f\"Precision: {train_precision:.4f}, Recall: {train_recall:.4f}, MCC: {train_mcc:.4f}\")\n",
        "    print(f\"Val   - Loss: {val_loss:.4f}, Acc: {val_acc:.4f}, F1: {val_f1:.4f}, AUC: {val_auc:.4f}, \"\n",
        "          f\"Precision: {val_precision:.4f}, Recall: {val_recall:.4f}, MCC: {val_mcc:.4f}\")"
      ]
    },
    {
      "cell_type": "markdown",
      "metadata": {
        "id": "81fVvwqk-etI"
      },
      "source": [
        "4"
      ]
    },
    {
      "cell_type": "code",
      "execution_count": null,
      "metadata": {
        "id": "qaKKcL3B-ey7"
      },
      "outputs": [],
      "source": [
        "for epoch in range(num_epochs):\n",
        "\n",
        "    train_loss, train_acc, train_f1, train_auc, train_precision, train_recall, train_mcc = train(model, train_loader, criterion, optimizer, device)\n",
        "\n",
        "    val_loss, val_acc, val_f1, val_auc, val_precision, val_recall, val_mcc = evaluate(model, test_loader, criterion, device)\n",
        "\n",
        "    print(f\"Epoch {epoch+1}/{num_epochs}\")\n",
        "    print(f\"Train - Loss: {train_loss:.4f}, Acc: {train_acc:.4f}, F1: {train_f1:.4f}, AUC: {train_auc:.4f}, \"\n",
        "          f\"Precision: {train_precision:.4f}, Recall: {train_recall:.4f}, MCC: {train_mcc:.4f}\")\n",
        "    print(f\"Val   - Loss: {val_loss:.4f}, Acc: {val_acc:.4f}, F1: {val_f1:.4f}, AUC: {val_auc:.4f}, \"\n",
        "          f\"Precision: {val_precision:.4f}, Recall: {val_recall:.4f}, MCC: {val_mcc:.4f}\")"
      ]
    },
    {
      "cell_type": "markdown",
      "metadata": {
        "id": "-geguDcFsOrp"
      },
      "source": [
        "# TFP Mouse"
      ]
    },
    {
      "cell_type": "markdown",
      "metadata": {
        "id": "QC4gtJaDsnWY"
      },
      "source": [
        "0"
      ]
    },
    {
      "cell_type": "code",
      "execution_count": null,
      "metadata": {
        "colab": {
          "base_uri": "https://localhost:8080/"
        },
        "id": "bV2nUUmpsYmp",
        "outputId": "6e9e9621-3407-4f7e-8b1e-4c075abd3b5c"
      },
      "outputs": [
        {
          "name": "stdout",
          "output_type": "stream",
          "text": [
            "Epoch 1/10\n",
            "Train - Loss: 0.6407, Acc: 0.6445, F1: 0.6926, AUC: 0.6359, Precision: 0.6514, Recall: 0.7393, MCC: 0.2784\n",
            "Val   - Loss: 0.6349, Acc: 0.6584, F1: 0.7038, AUC: 0.6512, Precision: 0.6534, Recall: 0.7625, MCC: 0.3110\n",
            "Epoch 2/10\n",
            "Train - Loss: 0.6232, Acc: 0.6714, F1: 0.7031, AUC: 0.6671, Precision: 0.6884, Recall: 0.7185, MCC: 0.3359\n",
            "Val   - Loss: 0.6229, Acc: 0.6630, F1: 0.7083, AUC: 0.6558, Precision: 0.6568, Recall: 0.7686, MCC: 0.3207\n",
            "Epoch 3/10\n",
            "Train - Loss: 0.6158, Acc: 0.6815, F1: 0.7134, AUC: 0.6769, Precision: 0.6958, Recall: 0.7319, MCC: 0.3561\n",
            "Val   - Loss: 0.6179, Acc: 0.6745, F1: 0.6805, AUC: 0.6761, Precision: 0.7125, Recall: 0.6512, MCC: 0.3516\n",
            "Epoch 4/10\n",
            "Train - Loss: 0.6089, Acc: 0.6864, F1: 0.7167, AUC: 0.6822, Precision: 0.7015, Recall: 0.7326, MCC: 0.3663\n",
            "Val   - Loss: 0.6348, Acc: 0.6595, F1: 0.7316, AUC: 0.6449, Precision: 0.6303, Recall: 0.8716, MCC: 0.3281\n",
            "Epoch 5/10\n",
            "Train - Loss: 0.6029, Acc: 0.6953, F1: 0.7212, AUC: 0.6923, Precision: 0.7148, Recall: 0.7277, MCC: 0.3853\n",
            "Val   - Loss: 0.6721, Acc: 0.6449, F1: 0.7294, AUC: 0.6273, Precision: 0.6135, Recall: 0.8992, MCC: 0.3068\n",
            "Epoch 6/10\n",
            "Train - Loss: 0.5983, Acc: 0.6973, F1: 0.7196, AUC: 0.6955, Precision: 0.7220, Recall: 0.7172, MCC: 0.3908\n",
            "Val   - Loss: 0.6084, Acc: 0.6862, F1: 0.7153, AUC: 0.6825, Precision: 0.6917, Recall: 0.7405, MCC: 0.3678\n",
            "Epoch 7/10\n",
            "Train - Loss: 0.5925, Acc: 0.7062, F1: 0.7284, AUC: 0.7043, Precision: 0.7294, Recall: 0.7274, MCC: 0.4084\n",
            "Val   - Loss: 0.6108, Acc: 0.6865, F1: 0.7276, AUC: 0.6796, Precision: 0.6768, Recall: 0.7868, MCC: 0.3690\n",
            "Epoch 8/10\n",
            "Train - Loss: 0.5849, Acc: 0.7098, F1: 0.7284, AUC: 0.7090, Precision: 0.7387, Recall: 0.7183, MCC: 0.4172\n",
            "Val   - Loss: 0.6114, Acc: 0.6804, F1: 0.7115, AUC: 0.6762, Precision: 0.6847, Recall: 0.7405, MCC: 0.3558\n",
            "Epoch 9/10\n",
            "Train - Loss: 0.5786, Acc: 0.7151, F1: 0.7323, AUC: 0.7147, Precision: 0.7455, Recall: 0.7195, MCC: 0.4283\n",
            "Val   - Loss: 0.6106, Acc: 0.6760, F1: 0.6330, AUC: 0.6864, Precision: 0.7968, Recall: 0.5251, MCC: 0.3897\n",
            "Epoch 10/10\n",
            "Train - Loss: 0.5710, Acc: 0.7221, F1: 0.7372, AUC: 0.7222, Precision: 0.7554, Recall: 0.7199, MCC: 0.4432\n",
            "Val   - Loss: 0.6053, Acc: 0.6839, F1: 0.6616, AUC: 0.6910, Precision: 0.7688, Recall: 0.5807, MCC: 0.3887\n"
          ]
        }
      ],
      "source": [
        "num_epochs = 10\n",
        "for epoch in range(num_epochs):\n",
        "\n",
        "    train_loss, train_acc, train_f1, train_auc, train_precision, train_recall, train_mcc = train(model, train_loader, criterion, optimizer, device)\n",
        "\n",
        "    val_loss, val_acc, val_f1, val_auc, val_precision, val_recall, val_mcc = evaluate(model, test_loader, criterion, device)\n",
        "\n",
        "    print(f\"Epoch {epoch+1}/{num_epochs}\")\n",
        "    print(f\"Train - Loss: {train_loss:.4f}, Acc: {train_acc:.4f}, F1: {train_f1:.4f}, AUC: {train_auc:.4f}, \"\n",
        "          f\"Precision: {train_precision:.4f}, Recall: {train_recall:.4f}, MCC: {train_mcc:.4f}\")\n",
        "    print(f\"Val   - Loss: {val_loss:.4f}, Acc: {val_acc:.4f}, F1: {val_f1:.4f}, AUC: {val_auc:.4f}, \"\n",
        "          f\"Precision: {val_precision:.4f}, Recall: {val_recall:.4f}, MCC: {val_mcc:.4f}\")"
      ]
    },
    {
      "cell_type": "markdown",
      "metadata": {
        "id": "eMQ8qGM1soQk"
      },
      "source": [
        "1"
      ]
    },
    {
      "cell_type": "code",
      "execution_count": null,
      "metadata": {
        "colab": {
          "base_uri": "https://localhost:8080/"
        },
        "id": "8AUFlsVXsobx",
        "outputId": "bfd921b4-80d9-487b-93f0-9fe7f1462355"
      },
      "outputs": [
        {
          "name": "stdout",
          "output_type": "stream",
          "text": [
            "Epoch 1/10\n",
            "Train - Loss: 0.4525, Acc: 0.8492, F1: 0.8415, AUC: 0.8492, Precision: 0.8864, Recall: 0.8008, MCC: 0.7017\n",
            "Val   - Loss: 0.4157, Acc: 0.8772, F1: 0.8774, AUC: 0.8772, Precision: 0.8763, Recall: 0.8784, MCC: 0.7545\n",
            "Epoch 2/10\n",
            "Train - Loss: 0.4216, Acc: 0.8763, F1: 0.8703, AUC: 0.8763, Precision: 0.9145, Recall: 0.8301, MCC: 0.7559\n",
            "Val   - Loss: 0.4174, Acc: 0.8824, F1: 0.8812, AUC: 0.8824, Precision: 0.8904, Recall: 0.8722, MCC: 0.7650\n",
            "Epoch 3/10\n",
            "Train - Loss: 0.4114, Acc: 0.8875, F1: 0.8835, AUC: 0.8875, Precision: 0.9155, Recall: 0.8536, MCC: 0.7767\n",
            "Val   - Loss: 0.4024, Acc: 0.8930, F1: 0.8868, AUC: 0.8929, Precision: 0.9405, Recall: 0.8390, MCC: 0.7905\n",
            "Epoch 4/10\n",
            "Train - Loss: 0.4048, Acc: 0.8943, F1: 0.8908, AUC: 0.8943, Precision: 0.9206, Recall: 0.8630, MCC: 0.7902\n",
            "Val   - Loss: 0.4046, Acc: 0.8946, F1: 0.8898, AUC: 0.8946, Precision: 0.9324, Recall: 0.8508, MCC: 0.7922\n",
            "Epoch 5/10\n",
            "Train - Loss: 0.3985, Acc: 0.8970, F1: 0.8935, AUC: 0.8970, Precision: 0.9240, Recall: 0.8650, MCC: 0.7956\n",
            "Val   - Loss: 0.3932, Acc: 0.9027, F1: 0.8994, AUC: 0.9027, Precision: 0.9317, Recall: 0.8692, MCC: 0.8073\n",
            "Epoch 6/10\n",
            "Train - Loss: 0.3933, Acc: 0.9040, F1: 0.9011, AUC: 0.9040, Precision: 0.9287, Recall: 0.8751, MCC: 0.8094\n",
            "Val   - Loss: 0.3913, Acc: 0.9005, F1: 0.9000, AUC: 0.9005, Precision: 0.9047, Recall: 0.8953, MCC: 0.8011\n",
            "Epoch 7/10\n",
            "Train - Loss: 0.3895, Acc: 0.9053, F1: 0.9021, AUC: 0.9053, Precision: 0.9330, Recall: 0.8732, MCC: 0.8123\n",
            "Val   - Loss: 0.3902, Acc: 0.9067, F1: 0.9054, AUC: 0.9067, Precision: 0.9188, Recall: 0.8923, MCC: 0.8138\n",
            "Epoch 8/10\n",
            "Train - Loss: 0.3842, Acc: 0.9099, F1: 0.9070, AUC: 0.9099, Precision: 0.9363, Recall: 0.8795, MCC: 0.8213\n",
            "Val   - Loss: 0.3907, Acc: 0.9081, F1: 0.9027, AUC: 0.9081, Precision: 0.9590, Recall: 0.8526, MCC: 0.8212\n",
            "Epoch 9/10\n",
            "Train - Loss: 0.3806, Acc: 0.9126, F1: 0.9097, AUC: 0.9126, Precision: 0.9399, Recall: 0.8814, MCC: 0.8268\n",
            "Val   - Loss: 0.3822, Acc: 0.9131, F1: 0.9100, AUC: 0.9131, Precision: 0.9442, Recall: 0.8781, MCC: 0.8283\n",
            "Epoch 10/10\n",
            "Train - Loss: 0.3765, Acc: 0.9166, F1: 0.9138, AUC: 0.9165, Precision: 0.9443, Recall: 0.8852, MCC: 0.8347\n",
            "Val   - Loss: 0.3902, Acc: 0.9088, F1: 0.9068, AUC: 0.9088, Precision: 0.9272, Recall: 0.8873, MCC: 0.8184\n"
          ]
        }
      ],
      "source": [
        "for epoch in range(num_epochs):\n",
        "\n",
        "    train_loss, train_acc, train_f1, train_auc, train_precision, train_recall, train_mcc = train(model, train_loader, criterion, optimizer, device)\n",
        "\n",
        "    val_loss, val_acc, val_f1, val_auc, val_precision, val_recall, val_mcc = evaluate(model, test_loader, criterion, device)\n",
        "\n",
        "    print(f\"Epoch {epoch+1}/{num_epochs}\")\n",
        "    print(f\"Train - Loss: {train_loss:.4f}, Acc: {train_acc:.4f}, F1: {train_f1:.4f}, AUC: {train_auc:.4f}, \"\n",
        "          f\"Precision: {train_precision:.4f}, Recall: {train_recall:.4f}, MCC: {train_mcc:.4f}\")\n",
        "    print(f\"Val   - Loss: {val_loss:.4f}, Acc: {val_acc:.4f}, F1: {val_f1:.4f}, AUC: {val_auc:.4f}, \"\n",
        "          f\"Precision: {val_precision:.4f}, Recall: {val_recall:.4f}, MCC: {val_mcc:.4f}\")"
      ]
    },
    {
      "cell_type": "markdown",
      "metadata": {
        "id": "9IS4sb_ZsoiL"
      },
      "source": [
        "2"
      ]
    },
    {
      "cell_type": "code",
      "execution_count": null,
      "metadata": {
        "colab": {
          "base_uri": "https://localhost:8080/"
        },
        "id": "nfhKmvUhsonK",
        "outputId": "58ac231d-6930-4d1f-b871-4f8d7612db79"
      },
      "outputs": [
        {
          "name": "stdout",
          "output_type": "stream",
          "text": [
            "Epoch 1/10\n",
            "Train - Loss: 0.5783, Acc: 0.7630, F1: 0.7385, AUC: 0.7629, Precision: 0.8227, Recall: 0.6700, MCC: 0.5352\n",
            "Val   - Loss: 0.5489, Acc: 0.7561, F1: 0.7546, AUC: 0.7561, Precision: 0.7593, Recall: 0.7500, MCC: 0.5122\n",
            "Epoch 2/10\n",
            "Train - Loss: 0.4778, Acc: 0.8637, F1: 0.8591, AUC: 0.8637, Precision: 0.8889, Recall: 0.8312, MCC: 0.7290\n",
            "Val   - Loss: 0.4213, Acc: 0.8994, F1: 0.8881, AUC: 0.8994, Precision: 1.0000, Recall: 0.7988, MCC: 0.8155\n",
            "Epoch 3/10\n",
            "Train - Loss: 0.4411, Acc: 0.8656, F1: 0.8536, AUC: 0.8656, Precision: 0.9370, Recall: 0.7838, MCC: 0.7412\n",
            "Val   - Loss: 0.4055, Acc: 0.9116, F1: 0.9068, AUC: 0.9116, Precision: 0.9592, Recall: 0.8598, MCC: 0.8276\n",
            "Epoch 4/10\n",
            "Train - Loss: 0.4168, Acc: 0.8855, F1: 0.8785, AUC: 0.8855, Precision: 0.9345, Recall: 0.8289, MCC: 0.7759\n",
            "Val   - Loss: 0.3980, Acc: 0.9055, F1: 0.9016, AUC: 0.9055, Precision: 0.9404, Recall: 0.8659, MCC: 0.8135\n",
            "Epoch 5/10\n",
            "Train - Loss: 0.4115, Acc: 0.8882, F1: 0.8794, AUC: 0.8881, Precision: 0.9536, Recall: 0.8159, MCC: 0.7845\n",
            "Val   - Loss: 0.3750, Acc: 0.9360, F1: 0.9329, AUC: 0.9360, Precision: 0.9799, Recall: 0.8902, MCC: 0.8756\n",
            "Epoch 6/10\n",
            "Train - Loss: 0.4085, Acc: 0.8931, F1: 0.8871, AUC: 0.8931, Precision: 0.9394, Recall: 0.8403, MCC: 0.7906\n",
            "Val   - Loss: 0.3754, Acc: 0.9238, F1: 0.9180, AUC: 0.9238, Precision: 0.9929, Recall: 0.8537, MCC: 0.8560\n",
            "Epoch 7/10\n",
            "Train - Loss: 0.4126, Acc: 0.8885, F1: 0.8813, AUC: 0.8885, Precision: 0.9418, Recall: 0.8281, MCC: 0.7828\n",
            "Val   - Loss: 0.3908, Acc: 0.9116, F1: 0.9068, AUC: 0.9116, Precision: 0.9592, Recall: 0.8598, MCC: 0.8276\n",
            "Epoch 8/10\n",
            "Train - Loss: 0.3979, Acc: 0.8958, F1: 0.8907, AUC: 0.8958, Precision: 0.9360, Recall: 0.8495, MCC: 0.7950\n",
            "Val   - Loss: 0.3793, Acc: 0.9268, F1: 0.9216, AUC: 0.9268, Precision: 0.9930, Recall: 0.8598, MCC: 0.8614\n",
            "Epoch 9/10\n",
            "Train - Loss: 0.3932, Acc: 0.8985, F1: 0.8908, AUC: 0.8984, Precision: 0.9627, Recall: 0.8289, MCC: 0.8047\n",
            "Val   - Loss: 0.3991, Acc: 0.9146, F1: 0.9103, AUC: 0.9146, Precision: 0.9595, Recall: 0.8659, MCC: 0.8332\n",
            "Epoch 10/10\n",
            "Train - Loss: 0.3901, Acc: 0.9019, F1: 0.8964, AUC: 0.9019, Precision: 0.9488, Recall: 0.8495, MCC: 0.8082\n",
            "Val   - Loss: 0.3759, Acc: 0.9146, F1: 0.9091, AUC: 0.9146, Precision: 0.9722, Recall: 0.8537, MCC: 0.8355\n"
          ]
        }
      ],
      "source": [
        "for epoch in range(num_epochs):\n",
        "\n",
        "    train_loss, train_acc, train_f1, train_auc, train_precision, train_recall, train_mcc = train(model, train_loader, criterion, optimizer, device)\n",
        "\n",
        "    val_loss, val_acc, val_f1, val_auc, val_precision, val_recall, val_mcc = evaluate(model, test_loader, criterion, device)\n",
        "\n",
        "    print(f\"Epoch {epoch+1}/{num_epochs}\")\n",
        "    print(f\"Train - Loss: {train_loss:.4f}, Acc: {train_acc:.4f}, F1: {train_f1:.4f}, AUC: {train_auc:.4f}, \"\n",
        "          f\"Precision: {train_precision:.4f}, Recall: {train_recall:.4f}, MCC: {train_mcc:.4f}\")\n",
        "    print(f\"Val   - Loss: {val_loss:.4f}, Acc: {val_acc:.4f}, F1: {val_f1:.4f}, AUC: {val_auc:.4f}, \"\n",
        "          f\"Precision: {val_precision:.4f}, Recall: {val_recall:.4f}, MCC: {val_mcc:.4f}\")"
      ]
    },
    {
      "cell_type": "markdown",
      "metadata": {
        "id": "i1jvj3KfsqRw"
      },
      "source": [
        "3"
      ]
    },
    {
      "cell_type": "code",
      "execution_count": null,
      "metadata": {
        "colab": {
          "base_uri": "https://localhost:8080/"
        },
        "id": "1z_7X4EzsqXb",
        "outputId": "7ff5fad4-8fbf-4637-ad8a-9d6255bd3c7f"
      },
      "outputs": [
        {
          "name": "stdout",
          "output_type": "stream",
          "text": [
            "Epoch 1/10\n",
            "Train - Loss: 0.5741, Acc: 0.7397, F1: 0.6990, AUC: 0.7396, Precision: 0.8276, Recall: 0.6050, MCC: 0.4976\n",
            "Val   - Loss: 0.6579, Acc: 0.6799, F1: 0.7506, AUC: 0.6799, Precision: 0.6148, Recall: 0.9634, MCC: 0.4368\n",
            "Epoch 2/10\n",
            "Train - Loss: 0.4805, Acc: 0.8538, F1: 0.8478, AUC: 0.8538, Precision: 0.8833, Recall: 0.8151, MCC: 0.7097\n",
            "Val   - Loss: 0.4260, Acc: 0.8963, F1: 0.8910, AUC: 0.8963, Precision: 0.9392, Recall: 0.8476, MCC: 0.7965\n",
            "Epoch 3/10\n",
            "Train - Loss: 0.4427, Acc: 0.8748, F1: 0.8671, AUC: 0.8748, Precision: 0.9232, Recall: 0.8174, MCC: 0.7546\n",
            "Val   - Loss: 0.3945, Acc: 0.9085, F1: 0.9026, AUC: 0.9085, Precision: 0.9653, Recall: 0.8476, MCC: 0.8232\n",
            "Epoch 4/10\n",
            "Train - Loss: 0.4162, Acc: 0.8889, F1: 0.8815, AUC: 0.8889, Precision: 0.9442, Recall: 0.8266, MCC: 0.7839\n",
            "Val   - Loss: 0.3937, Acc: 0.9207, F1: 0.9172, AUC: 0.9207, Precision: 0.9600, Recall: 0.8780, MCC: 0.8445\n",
            "Epoch 5/10\n",
            "Train - Loss: 0.4169, Acc: 0.8851, F1: 0.8763, AUC: 0.8851, Precision: 0.9484, Recall: 0.8144, MCC: 0.7780\n",
            "Val   - Loss: 0.4781, Acc: 0.8110, F1: 0.7687, AUC: 0.8110, Precision: 0.9904, Recall: 0.6280, MCC: 0.6683\n",
            "Epoch 6/10\n",
            "Train - Loss: 0.4188, Acc: 0.8840, F1: 0.8754, AUC: 0.8839, Precision: 0.9443, Recall: 0.8159, MCC: 0.7751\n",
            "Val   - Loss: 0.3798, Acc: 0.9268, F1: 0.9231, AUC: 0.9268, Precision: 0.9730, Recall: 0.8780, MCC: 0.8578\n",
            "Epoch 7/10\n",
            "Train - Loss: 0.4011, Acc: 0.8950, F1: 0.8880, AUC: 0.8950, Precision: 0.9511, Recall: 0.8327, MCC: 0.7962\n",
            "Val   - Loss: 0.4071, Acc: 0.9146, F1: 0.9073, AUC: 0.9146, Precision: 0.9928, Recall: 0.8354, MCC: 0.8399\n",
            "Epoch 8/10\n",
            "Train - Loss: 0.4057, Acc: 0.8996, F1: 0.8932, AUC: 0.8996, Precision: 0.9532, Recall: 0.8403, MCC: 0.8049\n",
            "Val   - Loss: 0.3835, Acc: 0.9207, F1: 0.9182, AUC: 0.9207, Precision: 0.9481, Recall: 0.8902, MCC: 0.8430\n",
            "Epoch 9/10\n",
            "Train - Loss: 0.4030, Acc: 0.8939, F1: 0.8866, AUC: 0.8938, Precision: 0.9510, Recall: 0.8304, MCC: 0.7942\n",
            "Val   - Loss: 0.4223, Acc: 0.9055, F1: 0.8963, AUC: 0.9055, Precision: 0.9926, Recall: 0.8171, MCC: 0.8240\n",
            "Epoch 10/10\n",
            "Train - Loss: 0.3993, Acc: 0.8901, F1: 0.8807, AUC: 0.8900, Precision: 0.9620, Recall: 0.8121, MCC: 0.7898\n",
            "Val   - Loss: 0.4093, Acc: 0.8872, F1: 0.8729, AUC: 0.8872, Precision: 1.0000, Recall: 0.7744, MCC: 0.7949\n"
          ]
        }
      ],
      "source": [
        "for epoch in range(num_epochs):\n",
        "\n",
        "    train_loss, train_acc, train_f1, train_auc, train_precision, train_recall, train_mcc = train(model, train_loader, criterion, optimizer, device)\n",
        "\n",
        "    val_loss, val_acc, val_f1, val_auc, val_precision, val_recall, val_mcc = evaluate(model, test_loader, criterion, device)\n",
        "\n",
        "    print(f\"Epoch {epoch+1}/{num_epochs}\")\n",
        "    print(f\"Train - Loss: {train_loss:.4f}, Acc: {train_acc:.4f}, F1: {train_f1:.4f}, AUC: {train_auc:.4f}, \"\n",
        "          f\"Precision: {train_precision:.4f}, Recall: {train_recall:.4f}, MCC: {train_mcc:.4f}\")\n",
        "    print(f\"Val   - Loss: {val_loss:.4f}, Acc: {val_acc:.4f}, F1: {val_f1:.4f}, AUC: {val_auc:.4f}, \"\n",
        "          f\"Precision: {val_precision:.4f}, Recall: {val_recall:.4f}, MCC: {val_mcc:.4f}\")"
      ]
    },
    {
      "cell_type": "markdown",
      "metadata": {
        "id": "jPsM-tj4srT6"
      },
      "source": [
        "4"
      ]
    },
    {
      "cell_type": "code",
      "execution_count": null,
      "metadata": {
        "colab": {
          "base_uri": "https://localhost:8080/"
        },
        "id": "aVJEKleXsrZY",
        "outputId": "f65e73fd-1bf3-42a3-c2cf-48123b45cc04"
      },
      "outputs": [
        {
          "name": "stdout",
          "output_type": "stream",
          "text": [
            "Epoch 1/10\n",
            "Train - Loss: 0.6332, Acc: 0.6508, F1: 0.6488, AUC: 0.6507, Precision: 0.6493, Recall: 0.6483, MCC: 0.3015\n",
            "Val   - Loss: 0.6204, Acc: 0.6824, F1: 0.6495, AUC: 0.6824, Precision: 0.7242, Recall: 0.5887, MCC: 0.3713\n",
            "Epoch 2/10\n",
            "Train - Loss: 0.5984, Acc: 0.7071, F1: 0.6909, AUC: 0.7069, Precision: 0.7274, Recall: 0.6580, MCC: 0.4158\n",
            "Val   - Loss: 0.6082, Acc: 0.6973, F1: 0.6919, AUC: 0.6973, Precision: 0.7041, Recall: 0.6801, MCC: 0.3948\n",
            "Epoch 3/10\n",
            "Train - Loss: 0.5817, Acc: 0.7301, F1: 0.7206, AUC: 0.7299, Precision: 0.7430, Recall: 0.6996, MCC: 0.4608\n",
            "Val   - Loss: 0.5933, Acc: 0.7329, F1: 0.7117, AUC: 0.7328, Precision: 0.7724, Recall: 0.6599, MCC: 0.4707\n",
            "Epoch 4/10\n",
            "Train - Loss: 0.5742, Acc: 0.7299, F1: 0.7164, AUC: 0.7297, Precision: 0.7500, Recall: 0.6857, MCC: 0.4612\n",
            "Val   - Loss: 0.6229, Acc: 0.7047, F1: 0.7385, AUC: 0.7048, Precision: 0.6624, Recall: 0.8342, MCC: 0.4240\n",
            "Epoch 5/10\n",
            "Train - Loss: 0.5670, Acc: 0.7432, F1: 0.7306, AUC: 0.7430, Precision: 0.7644, Recall: 0.6997, MCC: 0.4880\n",
            "Val   - Loss: 0.5914, Acc: 0.7345, F1: 0.7283, AUC: 0.7345, Precision: 0.7453, Recall: 0.7120, MCC: 0.4694\n",
            "Epoch 6/10\n",
            "Train - Loss: 0.5579, Acc: 0.7540, F1: 0.7420, AUC: 0.7538, Precision: 0.7759, Recall: 0.7109, MCC: 0.5095\n",
            "Val   - Loss: 0.5804, Acc: 0.7292, F1: 0.7192, AUC: 0.7291, Precision: 0.7463, Recall: 0.6939, MCC: 0.4594\n",
            "Epoch 7/10\n",
            "Train - Loss: 0.5484, Acc: 0.7610, F1: 0.7483, AUC: 0.7607, Precision: 0.7859, Recall: 0.7142, MCC: 0.5238\n",
            "Val   - Loss: 0.5963, Acc: 0.7265, F1: 0.7358, AUC: 0.7265, Precision: 0.7113, Recall: 0.7620, MCC: 0.4542\n",
            "Epoch 8/10\n",
            "Train - Loss: 0.5415, Acc: 0.7658, F1: 0.7523, AUC: 0.7656, Precision: 0.7941, Recall: 0.7146, MCC: 0.5340\n",
            "Val   - Loss: 0.5902, Acc: 0.7345, F1: 0.7335, AUC: 0.7345, Precision: 0.7358, Recall: 0.7311, MCC: 0.4689\n",
            "Epoch 9/10\n",
            "Train - Loss: 0.5339, Acc: 0.7739, F1: 0.7609, AUC: 0.7737, Precision: 0.8030, Recall: 0.7231, MCC: 0.5503\n",
            "Val   - Loss: 0.5940, Acc: 0.7281, F1: 0.7262, AUC: 0.7281, Precision: 0.7309, Recall: 0.7216, MCC: 0.4562\n",
            "Epoch 10/10\n",
            "Train - Loss: 0.5241, Acc: 0.7835, F1: 0.7690, AUC: 0.7832, Precision: 0.8199, Recall: 0.7240, MCC: 0.5707\n",
            "Val   - Loss: 0.6022, Acc: 0.7127, F1: 0.6979, AUC: 0.7127, Precision: 0.7353, Recall: 0.6642, MCC: 0.4274\n"
          ]
        }
      ],
      "source": [
        "for epoch in range(num_epochs):\n",
        "\n",
        "    train_loss, train_acc, train_f1, train_auc, train_precision, train_recall, train_mcc = train(model, train_loader, criterion, optimizer, device)\n",
        "\n",
        "    val_loss, val_acc, val_f1, val_auc, val_precision, val_recall, val_mcc = evaluate(model, test_loader, criterion, device)\n",
        "\n",
        "    print(f\"Epoch {epoch+1}/{num_epochs}\")\n",
        "    print(f\"Train - Loss: {train_loss:.4f}, Acc: {train_acc:.4f}, F1: {train_f1:.4f}, AUC: {train_auc:.4f}, \"\n",
        "          f\"Precision: {train_precision:.4f}, Recall: {train_recall:.4f}, MCC: {train_mcc:.4f}\")\n",
        "    print(f\"Val   - Loss: {val_loss:.4f}, Acc: {val_acc:.4f}, F1: {val_f1:.4f}, AUC: {val_auc:.4f}, \"\n",
        "          f\"Precision: {val_precision:.4f}, Recall: {val_recall:.4f}, MCC: {val_mcc:.4f}\")"
      ]
    },
    {
      "cell_type": "markdown",
      "metadata": {
        "id": "wCGRxC0O9zdZ"
      },
      "source": [
        "# Promoter Detection"
      ]
    },
    {
      "cell_type": "markdown",
      "source": [
        "prom_300_all"
      ],
      "metadata": {
        "id": "cM9TIdsVNN9G"
      }
    },
    {
      "cell_type": "code",
      "execution_count": null,
      "metadata": {
        "id": "F_Aei_969zuc",
        "colab": {
          "base_uri": "https://localhost:8080/"
        },
        "outputId": "ee3ddf20-9ee6-48e5-ae0c-eafb51b991bb"
      },
      "outputs": [
        {
          "output_type": "stream",
          "name": "stdout",
          "text": [
            "Epoch 1/10\n",
            "Train - Loss: 0.4702, Acc: 0.8627, F1: 0.8619, AUC: 0.8627, Precision: 0.8669, Recall: 0.8570, MCC: 0.7255\n",
            "Val   - Loss: 0.4541, Acc: 0.8792, F1: 0.8778, AUC: 0.8793, Precision: 0.8945, Recall: 0.8617, MCC: 0.7590\n",
            "Epoch 2/10\n",
            "Train - Loss: 0.4482, Acc: 0.8851, F1: 0.8861, AUC: 0.8851, Precision: 0.8777, Recall: 0.8948, MCC: 0.7703\n",
            "Val   - Loss: 0.4557, Acc: 0.8796, F1: 0.8882, AUC: 0.8791, Precision: 0.8335, Recall: 0.9507, MCC: 0.7666\n",
            "Epoch 3/10\n",
            "Train - Loss: 0.4402, Acc: 0.8917, F1: 0.8931, AUC: 0.8917, Precision: 0.8817, Recall: 0.9048, MCC: 0.7837\n",
            "Val   - Loss: 0.4417, Acc: 0.8867, F1: 0.8877, AUC: 0.8866, Precision: 0.8852, Recall: 0.8903, MCC: 0.7733\n",
            "Epoch 4/10\n",
            "Train - Loss: 0.4360, Acc: 0.8939, F1: 0.8952, AUC: 0.8939, Precision: 0.8836, Recall: 0.9071, MCC: 0.7880\n",
            "Val   - Loss: 0.4541, Acc: 0.8858, F1: 0.8869, AUC: 0.8858, Precision: 0.8845, Recall: 0.8893, MCC: 0.7716\n",
            "Epoch 5/10\n",
            "Train - Loss: 0.4309, Acc: 0.8964, F1: 0.8979, AUC: 0.8964, Precision: 0.8845, Recall: 0.9118, MCC: 0.7931\n",
            "Val   - Loss: 0.4343, Acc: 0.8934, F1: 0.8978, AUC: 0.8932, Precision: 0.8678, Recall: 0.9299, MCC: 0.7888\n",
            "Epoch 6/10\n",
            "Train - Loss: 0.4253, Acc: 0.8994, F1: 0.9012, AUC: 0.8994, Precision: 0.8852, Recall: 0.9178, MCC: 0.7993\n",
            "Val   - Loss: 0.4338, Acc: 0.8929, F1: 0.8976, AUC: 0.8926, Precision: 0.8652, Recall: 0.9326, MCC: 0.7881\n",
            "Epoch 7/10\n",
            "Train - Loss: 0.4204, Acc: 0.9030, F1: 0.9046, AUC: 0.9030, Precision: 0.8903, Recall: 0.9193, MCC: 0.8065\n",
            "Val   - Loss: 0.4370, Acc: 0.8956, F1: 0.9012, AUC: 0.8953, Precision: 0.8603, Recall: 0.9463, MCC: 0.7951\n",
            "Epoch 8/10\n",
            "Train - Loss: 0.4170, Acc: 0.9043, F1: 0.9058, AUC: 0.9043, Precision: 0.8913, Recall: 0.9208, MCC: 0.8090\n",
            "Val   - Loss: 0.4281, Acc: 0.8959, F1: 0.8996, AUC: 0.8957, Precision: 0.8748, Recall: 0.9258, MCC: 0.7932\n",
            "Epoch 9/10\n",
            "Train - Loss: 0.4139, Acc: 0.9059, F1: 0.9077, AUC: 0.9060, Precision: 0.8910, Recall: 0.9251, MCC: 0.8125\n",
            "Val   - Loss: 0.4625, Acc: 0.8963, F1: 0.9019, AUC: 0.8959, Precision: 0.8609, Recall: 0.9470, MCC: 0.7965\n",
            "Epoch 10/10\n",
            "Train - Loss: 0.4104, Acc: 0.9089, F1: 0.9104, AUC: 0.9089, Precision: 0.8952, Recall: 0.9262, MCC: 0.8183\n",
            "Val   - Loss: 0.4448, Acc: 0.8921, F1: 0.8987, AUC: 0.8917, Precision: 0.8516, Recall: 0.9513, MCC: 0.7895\n"
          ]
        }
      ],
      "source": [
        "num_epochs = 10\n",
        "for epoch in range(num_epochs):\n",
        "\n",
        "    train_loss, train_acc, train_f1, train_auc, train_precision, train_recall, train_mcc = train(model, train_loader, criterion, optimizer, device)\n",
        "\n",
        "    val_loss, val_acc, val_f1, val_auc, val_precision, val_recall, val_mcc = evaluate(model, test_loader, criterion, device)\n",
        "\n",
        "    print(f\"Epoch {epoch+1}/{num_epochs}\")\n",
        "    print(f\"Train - Loss: {train_loss:.4f}, Acc: {train_acc:.4f}, F1: {train_f1:.4f}, AUC: {train_auc:.4f}, \"\n",
        "          f\"Precision: {train_precision:.4f}, Recall: {train_recall:.4f}, MCC: {train_mcc:.4f}\")\n",
        "    print(f\"Val   - Loss: {val_loss:.4f}, Acc: {val_acc:.4f}, F1: {val_f1:.4f}, AUC: {val_auc:.4f}, \"\n",
        "          f\"Precision: {val_precision:.4f}, Recall: {val_recall:.4f}, MCC: {val_mcc:.4f}\")"
      ]
    },
    {
      "cell_type": "markdown",
      "source": [
        "prom_300_notata"
      ],
      "metadata": {
        "id": "1eH9GgJ8NSC0"
      }
    },
    {
      "cell_type": "code",
      "source": [
        "for epoch in range(num_epochs):\n",
        "\n",
        "    train_loss, train_acc, train_f1, train_auc, train_precision, train_recall, train_mcc = train(model, train_loader, criterion, optimizer, device)\n",
        "\n",
        "    val_loss, val_acc, val_f1, val_auc, val_precision, val_recall, val_mcc = evaluate(model, test_loader, criterion, device)\n",
        "\n",
        "    print(f\"Epoch {epoch+1}/{num_epochs}\")\n",
        "    print(f\"Train - Loss: {train_loss:.4f}, Acc: {train_acc:.4f}, F1: {train_f1:.4f}, AUC: {train_auc:.4f}, \"\n",
        "          f\"Precision: {train_precision:.4f}, Recall: {train_recall:.4f}, MCC: {train_mcc:.4f}\")\n",
        "    print(f\"Val   - Loss: {val_loss:.4f}, Acc: {val_acc:.4f}, F1: {val_f1:.4f}, AUC: {val_auc:.4f}, \"\n",
        "          f\"Precision: {val_precision:.4f}, Recall: {val_recall:.4f}, MCC: {val_mcc:.4f}\")"
      ],
      "metadata": {
        "colab": {
          "base_uri": "https://localhost:8080/"
        },
        "id": "41ist9FKNSLM",
        "outputId": "8bf9444f-27ba-4e8a-f297-0530455a2efd"
      },
      "execution_count": null,
      "outputs": [
        {
          "output_type": "stream",
          "name": "stdout",
          "text": [
            "Epoch 1/10\n",
            "Train - Loss: 0.3916, Acc: 0.9101, F1: 0.9078, AUC: 0.9101, Precision: 0.9316, Recall: 0.8852, MCC: 0.8212\n",
            "Val   - Loss: 0.3741, Acc: 0.9148, F1: 0.9104, AUC: 0.9155, Precision: 0.9725, Recall: 0.8557, MCC: 0.8360\n",
            "Epoch 2/10\n",
            "Train - Loss: 0.3656, Acc: 0.9304, F1: 0.9286, AUC: 0.9304, Precision: 0.9525, Recall: 0.9059, MCC: 0.8618\n",
            "Val   - Loss: 0.3578, Acc: 0.9324, F1: 0.9316, AUC: 0.9326, Precision: 0.9521, Recall: 0.9120, MCC: 0.8655\n",
            "Epoch 3/10\n",
            "Train - Loss: 0.3562, Acc: 0.9383, F1: 0.9371, AUC: 0.9383, Precision: 0.9554, Recall: 0.9194, MCC: 0.8771\n",
            "Val   - Loss: 0.3621, Acc: 0.9324, F1: 0.9338, AUC: 0.9322, Precision: 0.9244, Recall: 0.9433, MCC: 0.8648\n",
            "Epoch 4/10\n",
            "Train - Loss: 0.3535, Acc: 0.9388, F1: 0.9376, AUC: 0.9388, Precision: 0.9573, Recall: 0.9186, MCC: 0.8784\n",
            "Val   - Loss: 0.3571, Acc: 0.9357, F1: 0.9361, AUC: 0.9358, Precision: 0.9405, Recall: 0.9318, MCC: 0.8715\n",
            "Epoch 5/10\n",
            "Train - Loss: 0.3490, Acc: 0.9431, F1: 0.9422, AUC: 0.9431, Precision: 0.9573, Recall: 0.9277, MCC: 0.8867\n",
            "Val   - Loss: 0.3539, Acc: 0.9388, F1: 0.9376, AUC: 0.9391, Precision: 0.9660, Recall: 0.9109, MCC: 0.8790\n",
            "Epoch 6/10\n",
            "Train - Loss: 0.3463, Acc: 0.9462, F1: 0.9453, AUC: 0.9462, Precision: 0.9614, Recall: 0.9297, MCC: 0.8929\n",
            "Val   - Loss: 0.3503, Acc: 0.9425, F1: 0.9425, AUC: 0.9426, Precision: 0.9531, Recall: 0.9321, MCC: 0.8853\n",
            "Epoch 7/10\n",
            "Train - Loss: 0.3442, Acc: 0.9462, F1: 0.9453, AUC: 0.9462, Precision: 0.9626, Recall: 0.9286, MCC: 0.8930\n",
            "Val   - Loss: 0.3584, Acc: 0.9307, F1: 0.9277, AUC: 0.9312, Precision: 0.9801, Recall: 0.8807, MCC: 0.8660\n",
            "Epoch 8/10\n",
            "Train - Loss: 0.3398, Acc: 0.9506, F1: 0.9496, AUC: 0.9506, Precision: 0.9679, Recall: 0.9321, MCC: 0.9017\n",
            "Val   - Loss: 0.3447, Acc: 0.9457, F1: 0.9455, AUC: 0.9459, Precision: 0.9600, Recall: 0.9314, MCC: 0.8919\n",
            "Epoch 9/10\n",
            "Train - Loss: 0.3400, Acc: 0.9499, F1: 0.9489, AUC: 0.9499, Precision: 0.9675, Recall: 0.9310, MCC: 0.9004\n",
            "Val   - Loss: 0.3436, Acc: 0.9433, F1: 0.9417, AUC: 0.9437, Precision: 0.9806, Recall: 0.9057, MCC: 0.8893\n",
            "Epoch 10/10\n",
            "Train - Loss: 0.3333, Acc: 0.9566, F1: 0.9560, AUC: 0.9566, Precision: 0.9705, Recall: 0.9419, MCC: 0.9137\n",
            "Val   - Loss: 0.3433, Acc: 0.9478, F1: 0.9477, AUC: 0.9479, Precision: 0.9591, Recall: 0.9366, MCC: 0.8959\n"
          ]
        }
      ]
    },
    {
      "cell_type": "markdown",
      "source": [
        "prom_300_tata"
      ],
      "metadata": {
        "id": "WSSdwyr2NSSU"
      }
    },
    {
      "cell_type": "code",
      "source": [
        "for epoch in range(num_epochs):\n",
        "\n",
        "    train_loss, train_acc, train_f1, train_auc, train_precision, train_recall, train_mcc = train(model, train_loader, criterion, optimizer, device)\n",
        "\n",
        "    val_loss, val_acc, val_f1, val_auc, val_precision, val_recall, val_mcc = evaluate(model, test_loader, criterion, device)\n",
        "\n",
        "    print(f\"Epoch {epoch+1}/{num_epochs}\")\n",
        "    print(f\"Train - Loss: {train_loss:.4f}, Acc: {train_acc:.4f}, F1: {train_f1:.4f}, AUC: {train_auc:.4f}, \"\n",
        "          f\"Precision: {train_precision:.4f}, Recall: {train_recall:.4f}, MCC: {train_mcc:.4f}\")\n",
        "    print(f\"Val   - Loss: {val_loss:.4f}, Acc: {val_acc:.4f}, F1: {val_f1:.4f}, AUC: {val_auc:.4f}, \"\n",
        "          f\"Precision: {val_precision:.4f}, Recall: {val_recall:.4f}, MCC: {val_mcc:.4f}\")"
      ],
      "metadata": {
        "colab": {
          "base_uri": "https://localhost:8080/"
        },
        "id": "UMRJn1v0NSY7",
        "outputId": "daea4de7-bd1e-405d-8e4b-89f94c667635"
      },
      "execution_count": null,
      "outputs": [
        {
          "output_type": "stream",
          "name": "stdout",
          "text": [
            "Epoch 1/10\n",
            "Train - Loss: 0.6572, Acc: 0.6305, F1: 0.6389, AUC: 0.6306, Precision: 0.6228, Recall: 0.6559, MCC: 0.2615\n",
            "Val   - Loss: 0.6687, Acc: 0.6232, F1: 0.6916, AUC: 0.6298, Precision: 0.5743, Recall: 0.8691, MCC: 0.2943\n",
            "Epoch 2/10\n",
            "Train - Loss: 0.6198, Acc: 0.6905, F1: 0.6887, AUC: 0.6904, Precision: 0.6904, Recall: 0.6870, MCC: 0.3809\n",
            "Val   - Loss: 0.6086, Acc: 0.6900, F1: 0.6690, AUC: 0.6888, Precision: 0.6957, Recall: 0.6443, MCC: 0.3794\n",
            "Epoch 3/10\n",
            "Train - Loss: 0.5980, Acc: 0.7164, F1: 0.7094, AUC: 0.7163, Precision: 0.7247, Recall: 0.6948, MCC: 0.4330\n",
            "Val   - Loss: 0.5927, Acc: 0.7080, F1: 0.6384, AUC: 0.7032, Precision: 0.8020, Recall: 0.5302, MCC: 0.4349\n",
            "Epoch 4/10\n",
            "Train - Loss: 0.5796, Acc: 0.7331, F1: 0.7176, AUC: 0.7329, Precision: 0.7590, Recall: 0.6804, MCC: 0.4685\n",
            "Val   - Loss: 0.5962, Acc: 0.6933, F1: 0.6357, AUC: 0.6895, Precision: 0.7523, Recall: 0.5503, MCC: 0.3956\n",
            "Epoch 5/10\n",
            "Train - Loss: 0.5663, Acc: 0.7500, F1: 0.7371, AUC: 0.7498, Precision: 0.7743, Recall: 0.7034, MCC: 0.5019\n",
            "Val   - Loss: 0.6107, Acc: 0.7096, F1: 0.7157, AUC: 0.7108, Precision: 0.6829, Recall: 0.7517, MCC: 0.4224\n",
            "Epoch 6/10\n",
            "Train - Loss: 0.5593, Acc: 0.7577, F1: 0.7468, AUC: 0.7576, Precision: 0.7794, Recall: 0.7169, MCC: 0.5170\n",
            "Val   - Loss: 0.5617, Acc: 0.7504, F1: 0.7437, AUC: 0.7503, Precision: 0.7425, Recall: 0.7450, MCC: 0.5005\n",
            "Epoch 7/10\n",
            "Train - Loss: 0.5515, Acc: 0.7635, F1: 0.7552, AUC: 0.7634, Precision: 0.7799, Recall: 0.7320, MCC: 0.5278\n",
            "Val   - Loss: 0.6137, Acc: 0.7325, F1: 0.7201, AUC: 0.7318, Precision: 0.7326, Recall: 0.7081, MCC: 0.4643\n",
            "Epoch 8/10\n",
            "Train - Loss: 0.5479, Acc: 0.7684, F1: 0.7568, AUC: 0.7682, Precision: 0.7935, Recall: 0.7234, MCC: 0.5387\n",
            "Val   - Loss: 0.5569, Acc: 0.7651, F1: 0.7419, AUC: 0.7632, Precision: 0.7962, Recall: 0.6946, MCC: 0.5323\n",
            "Epoch 9/10\n",
            "Train - Loss: 0.5330, Acc: 0.7820, F1: 0.7704, AUC: 0.7819, Precision: 0.8109, Recall: 0.7336, MCC: 0.5665\n",
            "Val   - Loss: 0.5626, Acc: 0.7520, F1: 0.7397, AUC: 0.7513, Precision: 0.7552, Recall: 0.7248, MCC: 0.5035\n",
            "Epoch 10/10\n",
            "Train - Loss: 0.5204, Acc: 0.7957, F1: 0.7862, AUC: 0.7955, Precision: 0.8216, Recall: 0.7537, MCC: 0.5933\n",
            "Val   - Loss: 0.6694, Acc: 0.7015, F1: 0.7426, AUC: 0.7064, Precision: 0.6392, Recall: 0.8859, MCC: 0.4402\n"
          ]
        }
      ]
    },
    {
      "cell_type": "markdown",
      "source": [
        "prom_core_all"
      ],
      "metadata": {
        "id": "DK-o1xLdN35N"
      }
    },
    {
      "cell_type": "code",
      "source": [
        "for epoch in range(num_epochs):\n",
        "\n",
        "    train_loss, train_acc, train_f1, train_auc, train_precision, train_recall, train_mcc = train(model, train_loader, criterion, optimizer, device)\n",
        "\n",
        "    val_loss, val_acc, val_f1, val_auc, val_precision, val_recall, val_mcc = evaluate(model, test_loader, criterion, device)\n",
        "\n",
        "    print(f\"Epoch {epoch+1}/{num_epochs}\")\n",
        "    print(f\"Train - Loss: {train_loss:.4f}, Acc: {train_acc:.4f}, F1: {train_f1:.4f}, AUC: {train_auc:.4f}, \"\n",
        "          f\"Precision: {train_precision:.4f}, Recall: {train_recall:.4f}, MCC: {train_mcc:.4f}\")\n",
        "    print(f\"Val   - Loss: {val_loss:.4f}, Acc: {val_acc:.4f}, F1: {val_f1:.4f}, AUC: {val_auc:.4f}, \"\n",
        "          f\"Precision: {val_precision:.4f}, Recall: {val_recall:.4f}, MCC: {val_mcc:.4f}\")"
      ],
      "metadata": {
        "colab": {
          "base_uri": "https://localhost:8080/"
        },
        "id": "0BP7tDyuN3-U",
        "outputId": "75d9ee60-c1ea-47a6-d05f-a74adca320bb"
      },
      "execution_count": null,
      "outputs": [
        {
          "output_type": "stream",
          "name": "stdout",
          "text": [
            "Epoch 1/10\n",
            "Train - Loss: 0.5412, Acc: 0.7757, F1: 0.7674, AUC: 0.7756, Precision: 0.7958, Recall: 0.7410, MCC: 0.5526\n",
            "Val   - Loss: 0.5126, Acc: 0.8064, F1: 0.7925, AUC: 0.8066, Precision: 0.8567, Recall: 0.7372, MCC: 0.6191\n",
            "Epoch 2/10\n",
            "Train - Loss: 0.5086, Acc: 0.8117, F1: 0.8059, AUC: 0.8117, Precision: 0.8305, Recall: 0.7828, MCC: 0.6245\n",
            "Val   - Loss: 0.5120, Acc: 0.8081, F1: 0.7874, AUC: 0.8084, Precision: 0.8855, Recall: 0.7089, MCC: 0.6291\n",
            "Epoch 3/10\n",
            "Train - Loss: 0.5006, Acc: 0.8191, F1: 0.8132, AUC: 0.8191, Precision: 0.8398, Recall: 0.7882, MCC: 0.6395\n",
            "Val   - Loss: 0.4993, Acc: 0.8191, F1: 0.8090, AUC: 0.8192, Precision: 0.8594, Recall: 0.7642, MCC: 0.6423\n",
            "Epoch 4/10\n",
            "Train - Loss: 0.4958, Acc: 0.8262, F1: 0.8214, AUC: 0.8262, Precision: 0.8439, Recall: 0.8000, MCC: 0.6533\n",
            "Val   - Loss: 0.4947, Acc: 0.8265, F1: 0.8308, AUC: 0.8265, Precision: 0.8128, Recall: 0.8497, MCC: 0.6537\n",
            "Epoch 5/10\n",
            "Train - Loss: 0.4914, Acc: 0.8283, F1: 0.8228, AUC: 0.8282, Precision: 0.8489, Recall: 0.7981, MCC: 0.6577\n",
            "Val   - Loss: 0.4935, Acc: 0.8248, F1: 0.8223, AUC: 0.8249, Precision: 0.8368, Recall: 0.8083, MCC: 0.6501\n",
            "Epoch 6/10\n",
            "Train - Loss: 0.4866, Acc: 0.8316, F1: 0.8264, AUC: 0.8315, Precision: 0.8515, Recall: 0.8027, MCC: 0.6642\n",
            "Val   - Loss: 0.4960, Acc: 0.8233, F1: 0.8112, AUC: 0.8235, Precision: 0.8736, Recall: 0.7571, MCC: 0.6526\n",
            "Epoch 7/10\n",
            "Train - Loss: 0.4825, Acc: 0.8369, F1: 0.8319, AUC: 0.8369, Precision: 0.8570, Recall: 0.8083, MCC: 0.6749\n",
            "Val   - Loss: 0.4884, Acc: 0.8294, F1: 0.8203, AUC: 0.8295, Precision: 0.8689, Recall: 0.7770, MCC: 0.6626\n",
            "Epoch 8/10\n",
            "Train - Loss: 0.4807, Acc: 0.8373, F1: 0.8324, AUC: 0.8373, Precision: 0.8574, Recall: 0.8087, MCC: 0.6757\n",
            "Val   - Loss: 0.5012, Acc: 0.8242, F1: 0.8227, AUC: 0.8242, Precision: 0.8319, Recall: 0.8137, MCC: 0.6485\n",
            "Epoch 9/10\n",
            "Train - Loss: 0.4775, Acc: 0.8392, F1: 0.8329, AUC: 0.8391, Precision: 0.8654, Recall: 0.8028, MCC: 0.6801\n",
            "Val   - Loss: 0.4922, Acc: 0.8294, F1: 0.8242, AUC: 0.8295, Precision: 0.8527, Recall: 0.7975, MCC: 0.6602\n",
            "Epoch 10/10\n",
            "Train - Loss: 0.4748, Acc: 0.8408, F1: 0.8347, AUC: 0.8407, Precision: 0.8668, Recall: 0.8048, MCC: 0.6833\n",
            "Val   - Loss: 0.4882, Acc: 0.8328, F1: 0.8277, AUC: 0.8329, Precision: 0.8560, Recall: 0.8012, MCC: 0.6670\n"
          ]
        }
      ]
    },
    {
      "cell_type": "markdown",
      "source": [
        "prom_core_notata"
      ],
      "metadata": {
        "id": "PS-g7snBN4DQ"
      }
    },
    {
      "cell_type": "code",
      "source": [
        "for epoch in range(num_epochs):\n",
        "\n",
        "    train_loss, train_acc, train_f1, train_auc, train_precision, train_recall, train_mcc = train(model, train_loader, criterion, optimizer, device)\n",
        "\n",
        "    val_loss, val_acc, val_f1, val_auc, val_precision, val_recall, val_mcc = evaluate(model, test_loader, criterion, device)\n",
        "\n",
        "    print(f\"Epoch {epoch+1}/{num_epochs}\")\n",
        "    print(f\"Train - Loss: {train_loss:.4f}, Acc: {train_acc:.4f}, F1: {train_f1:.4f}, AUC: {train_auc:.4f}, \"\n",
        "          f\"Precision: {train_precision:.4f}, Recall: {train_recall:.4f}, MCC: {train_mcc:.4f}\")\n",
        "    print(f\"Val   - Loss: {val_loss:.4f}, Acc: {val_acc:.4f}, F1: {val_f1:.4f}, AUC: {val_auc:.4f}, \"\n",
        "          f\"Precision: {val_precision:.4f}, Recall: {val_recall:.4f}, MCC: {val_mcc:.4f}\")"
      ],
      "metadata": {
        "colab": {
          "base_uri": "https://localhost:8080/"
        },
        "id": "l_4ASM8PN4IX",
        "outputId": "bc6b6b9b-cce5-46da-f4f2-7abad014495a"
      },
      "execution_count": null,
      "outputs": [
        {
          "output_type": "stream",
          "name": "stdout",
          "text": [
            "Epoch 1/10\n",
            "Train - Loss: 0.5247, Acc: 0.7974, F1: 0.7926, AUC: 0.7973, Precision: 0.8095, Recall: 0.7765, MCC: 0.5952\n",
            "Val   - Loss: 0.5094, Acc: 0.8146, F1: 0.8145, AUC: 0.8146, Precision: 0.8164, Recall: 0.8127, MCC: 0.6292\n",
            "Epoch 2/10\n",
            "Train - Loss: 0.5057, Acc: 0.8202, F1: 0.8171, AUC: 0.8202, Precision: 0.8293, Recall: 0.8053, MCC: 0.6407\n",
            "Val   - Loss: 0.4936, Acc: 0.8304, F1: 0.8217, AUC: 0.8305, Precision: 0.8681, Recall: 0.7800, MCC: 0.6643\n",
            "Epoch 3/10\n",
            "Train - Loss: 0.4998, Acc: 0.8259, F1: 0.8223, AUC: 0.8258, Precision: 0.8372, Recall: 0.8079, MCC: 0.6521\n",
            "Val   - Loss: 0.4940, Acc: 0.8249, F1: 0.8158, AUC: 0.8251, Precision: 0.8628, Recall: 0.7736, MCC: 0.6535\n",
            "Epoch 4/10\n",
            "Train - Loss: 0.4961, Acc: 0.8295, F1: 0.8275, AUC: 0.8295, Precision: 0.8348, Recall: 0.8203, MCC: 0.6590\n",
            "Val   - Loss: 0.4931, Acc: 0.8257, F1: 0.8187, AUC: 0.8258, Precision: 0.8550, Recall: 0.7853, MCC: 0.6537\n",
            "Epoch 5/10\n",
            "Train - Loss: 0.4915, Acc: 0.8334, F1: 0.8304, AUC: 0.8333, Precision: 0.8430, Recall: 0.8182, MCC: 0.6670\n",
            "Val   - Loss: 0.4923, Acc: 0.8287, F1: 0.8340, AUC: 0.8287, Precision: 0.8105, Recall: 0.8590, MCC: 0.6586\n",
            "Epoch 6/10\n",
            "Train - Loss: 0.4902, Acc: 0.8344, F1: 0.8308, AUC: 0.8344, Precision: 0.8471, Recall: 0.8151, MCC: 0.6693\n",
            "Val   - Loss: 0.4873, Acc: 0.8389, F1: 0.8362, AUC: 0.8389, Precision: 0.8523, Recall: 0.8206, MCC: 0.6783\n",
            "Epoch 7/10\n",
            "Train - Loss: 0.4870, Acc: 0.8360, F1: 0.8343, AUC: 0.8360, Precision: 0.8407, Recall: 0.8280, MCC: 0.6721\n",
            "Val   - Loss: 0.4956, Acc: 0.8298, F1: 0.8298, AUC: 0.8299, Precision: 0.8318, Recall: 0.8278, MCC: 0.6597\n",
            "Epoch 8/10\n",
            "Train - Loss: 0.4836, Acc: 0.8377, F1: 0.8365, AUC: 0.8377, Precision: 0.8406, Recall: 0.8324, MCC: 0.6755\n",
            "Val   - Loss: 0.4961, Acc: 0.8336, F1: 0.8410, AUC: 0.8335, Precision: 0.8066, Recall: 0.8785, MCC: 0.6698\n",
            "Epoch 9/10\n",
            "Train - Loss: 0.4814, Acc: 0.8396, F1: 0.8381, AUC: 0.8396, Precision: 0.8440, Recall: 0.8322, MCC: 0.6793\n",
            "Val   - Loss: 0.5014, Acc: 0.8248, F1: 0.8215, AUC: 0.8248, Precision: 0.8389, Recall: 0.8048, MCC: 0.6501\n",
            "Epoch 10/10\n",
            "Train - Loss: 0.4781, Acc: 0.8421, F1: 0.8382, AUC: 0.8421, Precision: 0.8570, Recall: 0.8202, MCC: 0.6848\n",
            "Val   - Loss: 0.4936, Acc: 0.8310, F1: 0.8274, AUC: 0.8310, Precision: 0.8471, Recall: 0.8086, MCC: 0.6627\n"
          ]
        }
      ]
    },
    {
      "cell_type": "markdown",
      "source": [
        "prom_core_tata"
      ],
      "metadata": {
        "id": "OiGmG6eMN9Fn"
      }
    },
    {
      "cell_type": "code",
      "source": [
        "for epoch in range(num_epochs):\n",
        "\n",
        "    train_loss, train_acc, train_f1, train_auc, train_precision, train_recall, train_mcc = train(model, train_loader, criterion, optimizer, device)\n",
        "\n",
        "    val_loss, val_acc, val_f1, val_auc, val_precision, val_recall, val_mcc = evaluate(model, test_loader, criterion, device)\n",
        "\n",
        "    print(f\"Epoch {epoch+1}/{num_epochs}\")\n",
        "    print(f\"Train - Loss: {train_loss:.4f}, Acc: {train_acc:.4f}, F1: {train_f1:.4f}, AUC: {train_auc:.4f}, \"\n",
        "          f\"Precision: {train_precision:.4f}, Recall: {train_recall:.4f}, MCC: {train_mcc:.4f}\")\n",
        "    print(f\"Val   - Loss: {val_loss:.4f}, Acc: {val_acc:.4f}, F1: {val_f1:.4f}, AUC: {val_auc:.4f}, \"\n",
        "          f\"Precision: {val_precision:.4f}, Recall: {val_recall:.4f}, MCC: {val_mcc:.4f}\")"
      ],
      "metadata": {
        "colab": {
          "base_uri": "https://localhost:8080/"
        },
        "id": "8pcD9vh7N9eY",
        "outputId": "9aaefb9f-71cf-4f14-c2fa-310c085ed4cc"
      },
      "execution_count": null,
      "outputs": [
        {
          "output_type": "stream",
          "name": "stdout",
          "text": [
            "Epoch 1/10\n",
            "Train - Loss: 0.6234, Acc: 0.6786, F1: 0.6726, AUC: 0.6786, Precision: 0.6846, Recall: 0.6611, MCC: 0.3574\n",
            "Val   - Loss: 0.5999, Acc: 0.7259, F1: 0.7447, AUC: 0.7254, Precision: 0.7020, Recall: 0.7929, MCC: 0.4552\n",
            "Epoch 2/10\n",
            "Train - Loss: 0.5598, Acc: 0.7661, F1: 0.7603, AUC: 0.7661, Precision: 0.7787, Recall: 0.7428, MCC: 0.5328\n",
            "Val   - Loss: 0.4741, Acc: 0.8352, F1: 0.8279, AUC: 0.8356, Precision: 0.8741, Recall: 0.7864, MCC: 0.6742\n",
            "Epoch 3/10\n",
            "Train - Loss: 0.4528, Acc: 0.8479, F1: 0.8318, AUC: 0.8478, Precision: 0.9290, Recall: 0.7530, MCC: 0.7085\n",
            "Val   - Loss: 0.4438, Acc: 0.8499, F1: 0.8403, AUC: 0.8505, Precision: 0.9064, Recall: 0.7832, MCC: 0.7068\n",
            "Epoch 4/10\n",
            "Train - Loss: 0.4259, Acc: 0.8636, F1: 0.8494, AUC: 0.8635, Precision: 0.9463, Recall: 0.7705, MCC: 0.7400\n",
            "Val   - Loss: 0.4290, Acc: 0.8450, F1: 0.8211, AUC: 0.8462, Precision: 0.9820, Recall: 0.7055, MCC: 0.7202\n",
            "Epoch 5/10\n",
            "Train - Loss: 0.4205, Acc: 0.8662, F1: 0.8514, AUC: 0.8661, Precision: 0.9558, Recall: 0.7677, MCC: 0.7470\n",
            "Val   - Loss: 0.4509, Acc: 0.8581, F1: 0.8513, AUC: 0.8585, Precision: 0.9022, Recall: 0.8058, MCC: 0.7206\n",
            "Epoch 6/10\n",
            "Train - Loss: 0.4057, Acc: 0.8832, F1: 0.8742, AUC: 0.8831, Precision: 0.9454, Recall: 0.8130, MCC: 0.7739\n",
            "Val   - Loss: 0.4185, Acc: 0.8434, F1: 0.8168, AUC: 0.8446, Precision: 0.9953, Recall: 0.6926, MCC: 0.7222\n",
            "Epoch 7/10\n",
            "Train - Loss: 0.4022, Acc: 0.8713, F1: 0.8550, AUC: 0.8712, Precision: 0.9774, Recall: 0.7599, MCC: 0.7617\n",
            "Val   - Loss: 0.4294, Acc: 0.8548, F1: 0.8408, AUC: 0.8556, Precision: 0.9400, Recall: 0.7605, MCC: 0.7236\n",
            "Epoch 8/10\n",
            "Train - Loss: 0.3970, Acc: 0.8807, F1: 0.8668, AUC: 0.8806, Precision: 0.9799, Recall: 0.7771, MCC: 0.7782\n",
            "Val   - Loss: 0.4371, Acc: 0.8777, F1: 0.8696, AUC: 0.8782, Precision: 0.9398, Recall: 0.8091, MCC: 0.7631\n",
            "Epoch 9/10\n",
            "Train - Loss: 0.3964, Acc: 0.8872, F1: 0.8773, AUC: 0.8871, Precision: 0.9606, Recall: 0.8073, MCC: 0.7845\n",
            "Val   - Loss: 0.4354, Acc: 0.8450, F1: 0.8319, AUC: 0.8457, Precision: 0.9180, Recall: 0.7605, MCC: 0.7010\n",
            "Epoch 10/10\n",
            "Train - Loss: 0.4097, Acc: 0.8699, F1: 0.8550, AUC: 0.8698, Precision: 0.9641, Recall: 0.7681, MCC: 0.7555\n",
            "Val   - Loss: 0.4259, Acc: 0.8630, F1: 0.8495, AUC: 0.8638, Precision: 0.9518, Recall: 0.7670, MCC: 0.7406\n"
          ]
        }
      ]
    },
    {
      "cell_type": "markdown",
      "source": [
        "#Splice"
      ],
      "metadata": {
        "id": "8CmfGu_bOXWV"
      }
    },
    {
      "cell_type": "code",
      "source": [
        "for epoch in range(10):\n",
        "\n",
        "    train_loss, train_acc, train_f1, train_auc, train_precision, train_recall, train_mcc = train(model, train_loader, criterion, optimizer, device)\n",
        "\n",
        "    val_loss, val_acc, val_f1, val_auc, val_precision, val_recall, val_mcc = evaluate(model, test_loader, criterion, device)\n",
        "\n",
        "    print(f\"Epoch {epoch+1}/{10}\")\n",
        "    print(f\"Train - Loss: {train_loss:.4f}, Acc: {train_acc:.4f}, F1: {train_f1:.4f}, AUC: {train_auc:.4f}, \"\n",
        "          f\"Precision: {train_precision:.4f}, Recall: {train_recall:.4f}, MCC: {train_mcc:.4f}\")\n",
        "    print(f\"Val   - Loss: {val_loss:.4f}, Acc: {val_acc:.4f}, F1: {val_f1:.4f}, AUC: {val_auc:.4f}, \"\n",
        "          f\"Precision: {val_precision:.4f}, Recall: {val_recall:.4f}, MCC: {val_mcc:.4f}\")"
      ],
      "metadata": {
        "id": "38o8_4PKOcQ6"
      },
      "execution_count": null,
      "outputs": []
    },
    {
      "cell_type": "markdown",
      "source": [
        "#virus"
      ],
      "metadata": {
        "id": "MPaQSRo6OcvV"
      }
    },
    {
      "cell_type": "code",
      "source": [
        "for epoch in range(num_epochs):\n",
        "\n",
        "    train_loss, train_acc, train_f1, train_auc, train_precision, train_recall, train_mcc = train(model, train_loader, criterion, optimizer, device)\n",
        "\n",
        "    val_loss, val_acc, val_f1, val_auc, val_precision, val_recall, val_mcc = evaluate(model, test_loader, criterion, device)\n",
        "\n",
        "    print(f\"Epoch {epoch+1}/{num_epochs}\")\n",
        "    print(f\"Train - Loss: {train_loss:.4f}, Acc: {train_acc:.4f}, F1: {train_f1:.4f}, AUC: {train_auc:.4f}, \"\n",
        "          f\"Precision: {train_precision:.4f}, Recall: {train_recall:.4f}, MCC: {train_mcc:.4f}\")\n",
        "    print(f\"Val   - Loss: {val_loss:.4f}, Acc: {val_acc:.4f}, F1: {val_f1:.4f}, AUC: {val_auc:.4f}, \"\n",
        "          f\"Precision: {val_precision:.4f}, Recall: {val_recall:.4f}, MCC: {val_mcc:.4f}\")"
      ],
      "metadata": {
        "id": "N3En0mUPOc5G"
      },
      "execution_count": null,
      "outputs": []
    },
    {
      "cell_type": "markdown",
      "source": [
        "#GUE+"
      ],
      "metadata": {
        "id": "p0Mcie1Eym4P"
      }
    },
    {
      "cell_type": "markdown",
      "source": [
        "0 (GM12878)"
      ],
      "metadata": {
        "id": "BWYH3xdcypfe"
      }
    },
    {
      "cell_type": "code",
      "source": [
        "num_epochs = 10"
      ],
      "metadata": {
        "id": "iSd3a9u_ZzRz"
      },
      "execution_count": null,
      "outputs": []
    },
    {
      "cell_type": "code",
      "source": [
        "for epoch in range(num_epochs):\n",
        "\n",
        "    train_loss, train_acc, train_f1, train_auc, train_precision, train_recall, train_mcc = train(model, train_loader, criterion, optimizer, device)\n",
        "\n",
        "    val_loss, val_acc, val_f1, val_auc, val_precision, val_recall, val_mcc = evaluate(model, test_loader, criterion, device)\n",
        "\n",
        "    print(f\"Epoch {epoch+1}/{num_epochs}\")\n",
        "    print(f\"Train - Loss: {train_loss:.4f}, Acc: {train_acc:.4f}, F1: {train_f1:.4f}, AUC: {train_auc:.4f}, \"\n",
        "          f\"Precision: {train_precision:.4f}, Recall: {train_recall:.4f}, MCC: {train_mcc:.4f}\")\n",
        "    print(f\"Val   - Loss: {val_loss:.4f}, Acc: {val_acc:.4f}, F1: {val_f1:.4f}, AUC: {val_auc:.4f}, \"\n",
        "          f\"Precision: {val_precision:.4f}, Recall: {val_recall:.4f}, MCC: {val_mcc:.4f}\")"
      ],
      "metadata": {
        "id": "04one62Gyo2e",
        "colab": {
          "base_uri": "https://localhost:8080/"
        },
        "outputId": "182ce932-fe88-4bb3-9d02-a56afa16a656"
      },
      "execution_count": null,
      "outputs": [
        {
          "output_type": "stream",
          "name": "stdout",
          "text": [
            "Epoch 1/10\n",
            "Train - Loss: 0.6865, Acc: 0.5533, F1: 0.5704, AUC: 0.5558, Precision: 0.5296, Recall: 0.6180, MCC: 0.1123\n",
            "Val   - Loss: 0.6825, Acc: 0.5685, F1: 0.5479, AUC: 0.5686, Precision: 0.5272, Recall: 0.5703, MCC: 0.1368\n",
            "Epoch 2/10\n",
            "Train - Loss: 0.6825, Acc: 0.5721, F1: 0.5571, AUC: 0.5717, Precision: 0.5535, Recall: 0.5607, MCC: 0.1433\n",
            "Val   - Loss: 0.6777, Acc: 0.5860, F1: 0.6027, AUC: 0.5936, Precision: 0.5381, Recall: 0.6848, MCC: 0.1892\n",
            "Epoch 3/10\n",
            "Train - Loss: 0.6750, Acc: 0.5936, F1: 0.5725, AUC: 0.5926, Precision: 0.5781, Recall: 0.5670, MCC: 0.1853\n",
            "Val   - Loss: 0.6762, Acc: 0.5910, F1: 0.3784, AUC: 0.5665, Precision: 0.6241, Recall: 0.2715, MCC: 0.1659\n",
            "Epoch 4/10\n",
            "Train - Loss: 0.6603, Acc: 0.6238, F1: 0.5801, AUC: 0.6206, Precision: 0.6246, Recall: 0.5416, MCC: 0.2445\n",
            "Val   - Loss: 0.6699, Acc: 0.6030, F1: 0.3797, AUC: 0.5771, Precision: 0.6694, Recall: 0.2650, MCC: 0.1993\n",
            "Epoch 5/10\n",
            "Train - Loss: 0.6464, Acc: 0.6443, F1: 0.5982, AUC: 0.6407, Precision: 0.6532, Recall: 0.5518, MCC: 0.2864\n",
            "Val   - Loss: 0.6550, Acc: 0.6360, F1: 0.5041, AUC: 0.6182, Precision: 0.6715, Recall: 0.4035, MCC: 0.2636\n",
            "Epoch 6/10\n",
            "Train - Loss: 0.6233, Acc: 0.6769, F1: 0.6239, AUC: 0.6723, Precision: 0.7068, Recall: 0.5584, MCC: 0.3549\n",
            "Val   - Loss: 0.6692, Acc: 0.6250, F1: 0.6366, AUC: 0.6320, Precision: 0.5728, Recall: 0.7165, MCC: 0.2660\n",
            "Epoch 7/10\n",
            "Train - Loss: 0.6042, Acc: 0.7024, F1: 0.6496, AUC: 0.6975, Precision: 0.7467, Recall: 0.5749, MCC: 0.4088\n",
            "Val   - Loss: 0.6236, Acc: 0.6870, F1: 0.5554, AUC: 0.6670, Precision: 0.7963, Recall: 0.4264, MCC: 0.3868\n",
            "Epoch 8/10\n",
            "Train - Loss: 0.5861, Acc: 0.7196, F1: 0.6668, AUC: 0.7144, Precision: 0.7758, Recall: 0.5847, MCC: 0.4458\n",
            "Val   - Loss: 0.7461, Acc: 0.6550, F1: 0.6621, AUC: 0.6613, Precision: 0.6009, Recall: 0.7372, MCC: 0.3240\n",
            "Epoch 9/10\n",
            "Train - Loss: 0.5638, Acc: 0.7431, F1: 0.6924, AUC: 0.7377, Precision: 0.8137, Recall: 0.6026, MCC: 0.4962\n",
            "Val   - Loss: 0.6621, Acc: 0.6035, F1: 0.2678, AUC: 0.5694, Precision: 0.8735, Recall: 0.1581, MCC: 0.2506\n",
            "Epoch 10/10\n",
            "Train - Loss: 0.5383, Acc: 0.7718, F1: 0.7337, AUC: 0.7673, Precision: 0.8339, Recall: 0.6549, MCC: 0.5511\n",
            "Val   - Loss: 0.6036, Acc: 0.6955, F1: 0.5506, AUC: 0.6734, Precision: 0.8516, Recall: 0.4068, MCC: 0.4178\n"
          ]
        }
      ]
    },
    {
      "cell_type": "markdown",
      "source": [
        "1 (HeLa-S3)"
      ],
      "metadata": {
        "id": "cHyzKBJRyqBu"
      }
    },
    {
      "cell_type": "code",
      "source": [
        "for epoch in range(num_epochs):\n",
        "\n",
        "    train_loss, train_acc, train_f1, train_auc, train_precision, train_recall, train_mcc = train(model, train_loader, criterion, optimizer, device)\n",
        "\n",
        "    val_loss, val_acc, val_f1, val_auc, val_precision, val_recall, val_mcc = evaluate(model, test_loader, criterion, device)\n",
        "\n",
        "    print(f\"Epoch {epoch+1}/{num_epochs}\")\n",
        "    print(f\"Train - Loss: {train_loss:.4f}, Acc: {train_acc:.4f}, F1: {train_f1:.4f}, AUC: {train_auc:.4f}, \"\n",
        "          f\"Precision: {train_precision:.4f}, Recall: {train_recall:.4f}, MCC: {train_mcc:.4f}\")\n",
        "    print(f\"Val   - Loss: {val_loss:.4f}, Acc: {val_acc:.4f}, F1: {val_f1:.4f}, AUC: {val_auc:.4f}, \"\n",
        "          f\"Precision: {val_precision:.4f}, Recall: {val_recall:.4f}, MCC: {val_mcc:.4f}\")"
      ],
      "metadata": {
        "id": "kByjNw_kyqKf",
        "colab": {
          "base_uri": "https://localhost:8080/"
        },
        "outputId": "ee85f250-3de4-4900-a7b7-9a21ffe9969e"
      },
      "execution_count": null,
      "outputs": [
        {
          "output_type": "stream",
          "name": "stdout",
          "text": [
            "Epoch 1/10\n",
            "Train - Loss: 0.6844, Acc: 0.5645, F1: 0.5221, AUC: 0.5617, Precision: 0.5487, Recall: 0.4980, MCC: 0.1243\n",
            "Val   - Loss: 0.6833, Acc: 0.5665, F1: 0.4950, AUC: 0.5615, Precision: 0.5599, Recall: 0.4436, MCC: 0.1267\n",
            "Epoch 2/10\n",
            "Train - Loss: 0.6780, Acc: 0.5819, F1: 0.5350, AUC: 0.5786, Precision: 0.5707, Recall: 0.5035, MCC: 0.1589\n",
            "Val   - Loss: 0.6790, Acc: 0.5710, F1: 0.5541, AUC: 0.5704, Precision: 0.5518, Recall: 0.5564, MCC: 0.1408\n",
            "Epoch 3/10\n",
            "Train - Loss: 0.6707, Acc: 0.5984, F1: 0.5374, AUC: 0.5937, Precision: 0.5974, Recall: 0.4884, MCC: 0.1919\n",
            "Val   - Loss: 0.6760, Acc: 0.5945, F1: 0.4703, AUC: 0.5857, Precision: 0.6283, Recall: 0.3758, MCC: 0.1893\n",
            "Epoch 4/10\n",
            "Train - Loss: 0.6622, Acc: 0.6083, F1: 0.5202, AUC: 0.6013, Precision: 0.6270, Recall: 0.4444, MCC: 0.2139\n",
            "Val   - Loss: 0.6654, Acc: 0.5955, F1: 0.5726, AUC: 0.5943, Precision: 0.5797, Recall: 0.5658, MCC: 0.1888\n",
            "Epoch 5/10\n",
            "Train - Loss: 0.6469, Acc: 0.6331, F1: 0.5299, AUC: 0.6246, Precision: 0.6830, Recall: 0.4329, MCC: 0.2708\n",
            "Val   - Loss: 0.6483, Acc: 0.6295, F1: 0.5628, AUC: 0.6242, Precision: 0.6472, Recall: 0.4979, MCC: 0.2572\n",
            "Epoch 6/10\n",
            "Train - Loss: 0.6263, Acc: 0.6588, F1: 0.5677, AUC: 0.6507, Precision: 0.7191, Recall: 0.4689, MCC: 0.3251\n",
            "Val   - Loss: 1.6928, Acc: 0.5250, F1: 0.6543, AUC: 0.5417, Precision: 0.5022, Recall: 0.9384, MCC: 0.1358\n",
            "Epoch 7/10\n",
            "Train - Loss: 0.6159, Acc: 0.6803, F1: 0.5979, AUC: 0.6725, Precision: 0.7489, Recall: 0.4976, MCC: 0.3702\n",
            "Val   - Loss: 0.6202, Acc: 0.6725, F1: 0.6220, AUC: 0.6681, Precision: 0.6955, Recall: 0.5626, MCC: 0.3447\n",
            "Epoch 8/10\n",
            "Train - Loss: 0.5848, Acc: 0.7064, F1: 0.6223, AUC: 0.6979, Precision: 0.8071, Recall: 0.5064, MCC: 0.4315\n",
            "Val   - Loss: 0.6196, Acc: 0.6780, F1: 0.5818, AUC: 0.6695, Precision: 0.7698, Recall: 0.4676, MCC: 0.3729\n",
            "Epoch 9/10\n",
            "Train - Loss: 0.5669, Acc: 0.7288, F1: 0.6585, AUC: 0.7211, Precision: 0.8262, Recall: 0.5474, MCC: 0.4748\n",
            "Val   - Loss: 0.6641, Acc: 0.5900, F1: 0.2613, AUC: 0.5723, Precision: 0.9539, Recall: 0.1514, MCC: 0.2727\n",
            "Epoch 10/10\n",
            "Train - Loss: 0.5442, Acc: 0.7514, F1: 0.6870, AUC: 0.7437, Precision: 0.8619, Recall: 0.5711, MCC: 0.5234\n",
            "Val   - Loss: 0.6357, Acc: 0.7040, F1: 0.6636, AUC: 0.7002, Precision: 0.7282, Recall: 0.6096, MCC: 0.4081\n"
          ]
        }
      ]
    },
    {
      "cell_type": "markdown",
      "source": [
        "2 (HUVEC)"
      ],
      "metadata": {
        "id": "B5dVldZYyqh7"
      }
    },
    {
      "cell_type": "code",
      "source": [
        "for epoch in range(num_epochs):\n",
        "\n",
        "    train_loss, train_acc, train_f1, train_auc, train_precision, train_recall, train_mcc = train(model, train_loader, criterion, optimizer, device)\n",
        "\n",
        "    val_loss, val_acc, val_f1, val_auc, val_precision, val_recall, val_mcc = evaluate(model, test_loader, criterion, device)\n",
        "\n",
        "    print(f\"Epoch {epoch+1}/{num_epochs}\")\n",
        "    print(f\"Train - Loss: {train_loss:.4f}, Acc: {train_acc:.4f}, F1: {train_f1:.4f}, AUC: {train_auc:.4f}, \"\n",
        "          f\"Precision: {train_precision:.4f}, Recall: {train_recall:.4f}, MCC: {train_mcc:.4f}\")\n",
        "    print(f\"Val   - Loss: {val_loss:.4f}, Acc: {val_acc:.4f}, F1: {val_f1:.4f}, AUC: {val_auc:.4f}, \"\n",
        "          f\"Precision: {val_precision:.4f}, Recall: {val_recall:.4f}, MCC: {val_mcc:.4f}\")"
      ],
      "metadata": {
        "id": "mtF4YcEqyqqq",
        "colab": {
          "base_uri": "https://localhost:8080/"
        },
        "outputId": "47b7977a-9cde-4e57-d5b6-5972ad8fc82f"
      },
      "execution_count": null,
      "outputs": [
        {
          "output_type": "stream",
          "name": "stdout",
          "text": [
            "Epoch 1/10\n",
            "Train - Loss: 0.6798, Acc: 0.5798, F1: 0.5555, AUC: 0.5785, Precision: 0.5556, Recall: 0.5554, MCC: 0.1570\n",
            "Val   - Loss: 0.6753, Acc: 0.5858, F1: 0.5241, AUC: 0.5833, Precision: 0.5984, Recall: 0.4663, MCC: 0.1714\n",
            "Epoch 2/10\n",
            "Train - Loss: 0.6699, Acc: 0.6042, F1: 0.5299, AUC: 0.5973, Precision: 0.6042, Recall: 0.4719, MCC: 0.2014\n",
            "Val   - Loss: 0.6735, Acc: 0.5883, F1: 0.4847, AUC: 0.5842, Precision: 0.6252, Recall: 0.3957, MCC: 0.1822\n",
            "Epoch 3/10\n",
            "Train - Loss: 0.6628, Acc: 0.6178, F1: 0.5326, AUC: 0.6097, Precision: 0.6312, Recall: 0.4606, MCC: 0.2303\n",
            "Val   - Loss: 0.6763, Acc: 0.5818, F1: 0.3438, AUC: 0.5743, Precision: 0.7399, Recall: 0.2239, MCC: 0.2090\n",
            "Epoch 4/10\n",
            "Train - Loss: 0.6519, Acc: 0.6397, F1: 0.5571, AUC: 0.6314, Precision: 0.6650, Recall: 0.4793, MCC: 0.2768\n",
            "Val   - Loss: 0.6660, Acc: 0.5908, F1: 0.3629, AUC: 0.5834, Precision: 0.7614, Recall: 0.2382, MCC: 0.2315\n",
            "Epoch 5/10\n",
            "Train - Loss: 0.6403, Acc: 0.6577, F1: 0.5769, AUC: 0.6492, Precision: 0.6939, Recall: 0.4937, MCC: 0.3154\n",
            "Val   - Loss: 0.6375, Acc: 0.6423, F1: 0.5860, AUC: 0.6397, Precision: 0.6756, Recall: 0.5174, MCC: 0.2885\n",
            "Epoch 6/10\n",
            "Train - Loss: 0.6255, Acc: 0.6683, F1: 0.5855, AUC: 0.6594, Precision: 0.7153, Recall: 0.4956, MCC: 0.3391\n",
            "Val   - Loss: 0.6175, Acc: 0.6748, F1: 0.6190, AUC: 0.6720, Precision: 0.7253, Recall: 0.5399, MCC: 0.3573\n",
            "Epoch 7/10\n",
            "Train - Loss: 0.6091, Acc: 0.6917, F1: 0.6141, AUC: 0.6828, Precision: 0.7521, Recall: 0.5188, MCC: 0.3893\n",
            "Val   - Loss: 0.6747, Acc: 0.5648, F1: 0.2120, AUC: 0.5554, Precision: 0.9286, Recall: 0.1196, MCC: 0.2279\n",
            "Epoch 8/10\n",
            "Train - Loss: 0.5897, Acc: 0.7139, F1: 0.6421, AUC: 0.7051, Precision: 0.7858, Recall: 0.5427, MCC: 0.4367\n",
            "Val   - Loss: 0.7473, Acc: 0.6113, F1: 0.6675, AUC: 0.6152, Precision: 0.5740, Recall: 0.7975, MCC: 0.2469\n",
            "Epoch 9/10\n",
            "Train - Loss: 0.5698, Acc: 0.7323, F1: 0.6620, AUC: 0.7231, Precision: 0.8213, Recall: 0.5544, MCC: 0.4780\n",
            "Val   - Loss: 0.6135, Acc: 0.6963, F1: 0.6882, AUC: 0.6961, Precision: 0.6914, Recall: 0.6851, MCC: 0.3923\n",
            "Epoch 10/10\n",
            "Train - Loss: 0.5490, Acc: 0.7548, F1: 0.6936, AUC: 0.7461, Precision: 0.8475, Recall: 0.5870, MCC: 0.5238\n",
            "Val   - Loss: 0.7116, Acc: 0.6783, F1: 0.6843, AUC: 0.6791, Precision: 0.6582, Recall: 0.7127, MCC: 0.3587\n"
          ]
        }
      ]
    },
    {
      "cell_type": "markdown",
      "source": [
        "3 (IMR90)"
      ],
      "metadata": {
        "id": "bfo7NFFqyqz2"
      }
    },
    {
      "cell_type": "code",
      "source": [
        "for epoch in range(num_epochs):\n",
        "\n",
        "    train_loss, train_acc, train_f1, train_auc, train_precision, train_recall, train_mcc = train(model, train_loader, criterion, optimizer, device)\n",
        "\n",
        "    val_loss, val_acc, val_f1, val_auc, val_precision, val_recall, val_mcc = evaluate(model, test_loader, criterion, device)\n",
        "\n",
        "    print(f\"Epoch {epoch+1}/{num_epochs}\")\n",
        "    print(f\"Train - Loss: {train_loss:.4f}, Acc: {train_acc:.4f}, F1: {train_f1:.4f}, AUC: {train_auc:.4f}, \"\n",
        "          f\"Precision: {train_precision:.4f}, Recall: {train_recall:.4f}, MCC: {train_mcc:.4f}\")\n",
        "    print(f\"Val   - Loss: {val_loss:.4f}, Acc: {val_acc:.4f}, F1: {val_f1:.4f}, AUC: {val_auc:.4f}, \"\n",
        "          f\"Precision: {val_precision:.4f}, Recall: {val_recall:.4f}, MCC: {val_mcc:.4f}\")"
      ],
      "metadata": {
        "id": "AXxXK5CAyq5-"
      },
      "execution_count": null,
      "outputs": []
    },
    {
      "cell_type": "markdown",
      "source": [
        "4 (K692)"
      ],
      "metadata": {
        "id": "tpia82bYyrAv"
      }
    },
    {
      "cell_type": "code",
      "source": [
        "for epoch in range(num_epochs):\n",
        "\n",
        "    train_loss, train_acc, train_f1, train_auc, train_precision, train_recall, train_mcc = train(model, train_loader, criterion, optimizer, device)\n",
        "\n",
        "    val_loss, val_acc, val_f1, val_auc, val_precision, val_recall, val_mcc = evaluate(model, test_loader, criterion, device)\n",
        "\n",
        "    print(f\"Epoch {epoch+1}/{num_epochs}\")\n",
        "    print(f\"Train - Loss: {train_loss:.4f}, Acc: {train_acc:.4f}, F1: {train_f1:.4f}, AUC: {train_auc:.4f}, \"\n",
        "          f\"Precision: {train_precision:.4f}, Recall: {train_recall:.4f}, MCC: {train_mcc:.4f}\")\n",
        "    print(f\"Val   - Loss: {val_loss:.4f}, Acc: {val_acc:.4f}, F1: {val_f1:.4f}, AUC: {val_auc:.4f}, \"\n",
        "          f\"Precision: {val_precision:.4f}, Recall: {val_recall:.4f}, MCC: {val_mcc:.4f}\")"
      ],
      "metadata": {
        "id": "YvqrxwIlyrF9"
      },
      "execution_count": null,
      "outputs": []
    },
    {
      "cell_type": "markdown",
      "source": [
        "5 (NHEK)"
      ],
      "metadata": {
        "id": "IwsEwghGy5TF"
      }
    },
    {
      "cell_type": "code",
      "source": [
        "for epoch in range(num_epochs):\n",
        "\n",
        "    train_loss, train_acc, train_f1, train_auc, train_precision, train_recall, train_mcc = train(model, train_loader, criterion, optimizer, device)\n",
        "\n",
        "    val_loss, val_acc, val_f1, val_auc, val_precision, val_recall, val_mcc = evaluate(model, test_loader, criterion, device)\n",
        "\n",
        "    print(f\"Epoch {epoch+1}/{num_epochs}\")\n",
        "    print(f\"Train - Loss: {train_loss:.4f}, Acc: {train_acc:.4f}, F1: {train_f1:.4f}, AUC: {train_auc:.4f}, \"\n",
        "          f\"Precision: {train_precision:.4f}, Recall: {train_recall:.4f}, MCC: {train_mcc:.4f}\")\n",
        "    print(f\"Val   - Loss: {val_loss:.4f}, Acc: {val_acc:.4f}, F1: {val_f1:.4f}, AUC: {val_auc:.4f}, \"\n",
        "          f\"Precision: {val_precision:.4f}, Recall: {val_recall:.4f}, MCC: {val_mcc:.4f}\")"
      ],
      "metadata": {
        "id": "0dsHvnOjy5ZN"
      },
      "execution_count": null,
      "outputs": []
    },
    {
      "cell_type": "markdown",
      "source": [
        "Virus"
      ],
      "metadata": {
        "id": "g3dFYNRBzBhx"
      }
    },
    {
      "cell_type": "code",
      "source": [
        "for epoch in range(num_epochs):\n",
        "\n",
        "    train_loss, train_acc, train_f1, train_auc, train_precision, train_recall, train_mcc = train(model, train_loader, criterion, optimizer, device)\n",
        "\n",
        "    val_loss, val_acc, val_f1, val_auc, val_precision, val_recall, val_mcc = evaluate(model, test_loader, criterion, device)\n",
        "\n",
        "    print(f\"Epoch {epoch+1}/{num_epochs}\")\n",
        "    print(f\"Train - Loss: {train_loss:.4f}, Acc: {train_acc:.4f}, F1: {train_f1:.4f}, AUC: {train_auc:.4f}, \"\n",
        "          f\"Precision: {train_precision:.4f}, Recall: {train_recall:.4f}, MCC: {train_mcc:.4f}\")\n",
        "    print(f\"Val   - Loss: {val_loss:.4f}, Acc: {val_acc:.4f}, F1: {val_f1:.4f}, AUC: {val_auc:.4f}, \"\n",
        "          f\"Precision: {val_precision:.4f}, Recall: {val_recall:.4f}, MCC: {val_mcc:.4f}\")"
      ],
      "metadata": {
        "id": "sXCN14-zzBp1"
      },
      "execution_count": null,
      "outputs": []
    },
    {
      "cell_type": "markdown",
      "source": [
        "Fungi"
      ],
      "metadata": {
        "id": "wZyUr4V9zBzp"
      }
    },
    {
      "cell_type": "code",
      "source": [
        "for epoch in range(num_epochs):\n",
        "\n",
        "    train_loss, train_acc, train_f1, train_auc, train_precision, train_recall, train_mcc = train(model, train_loader, criterion, optimizer, device)\n",
        "\n",
        "    val_loss, val_acc, val_f1, val_auc, val_precision, val_recall, val_mcc = evaluate(model, test_loader, criterion, device)\n",
        "\n",
        "    print(f\"Epoch {epoch+1}/{num_epochs}\")\n",
        "    print(f\"Train - Loss: {train_loss:.4f}, Acc: {train_acc:.4f}, F1: {train_f1:.4f}, AUC: {train_auc:.4f}, \"\n",
        "          f\"Precision: {train_precision:.4f}, Recall: {train_recall:.4f}, MCC: {train_mcc:.4f}\")\n",
        "    print(f\"Val   - Loss: {val_loss:.4f}, Acc: {val_acc:.4f}, F1: {val_f1:.4f}, AUC: {val_auc:.4f}, \"\n",
        "          f\"Precision: {val_precision:.4f}, Recall: {val_recall:.4f}, MCC: {val_mcc:.4f}\")"
      ],
      "metadata": {
        "id": "KWamc2cyzEWU"
      },
      "execution_count": null,
      "outputs": []
    }
  ],
  "metadata": {
    "accelerator": "GPU",
    "colab": {
      "gpuType": "T4",
      "machine_shape": "hm",
      "provenance": []
    },
    "kernelspec": {
      "display_name": "Python 3",
      "name": "python3"
    },
    "language_info": {
      "name": "python"
    }
  },
  "nbformat": 4,
  "nbformat_minor": 0
}